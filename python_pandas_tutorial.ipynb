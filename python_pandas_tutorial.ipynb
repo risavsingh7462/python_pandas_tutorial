{
 "cells": [
  {
   "cell_type": "markdown",
   "id": "21aa5a35",
   "metadata": {},
   "source": [
    "# Python Pandas Tutorial\n",
    "**step:1 Creat a folder on your pc**<br><br>\n",
    "**step:2 Installing part**\n",
    "*Windows ke andar apne folder me terminal kholne ke liye shift+right click and the open powershell window after open terminal you have to install these things, pip install numpy, pip install pandas, pip install jupyter and for upgrade pip install --upgrade (numpy)*<br><br>\n",
    "**step:3 Open jupyter notebook** *for open jupyter notebook on your forlder pehle terminal khole or 'jupyter notebook' type karke enter kar de aapke folder par jupyter notebook khul jayega*<br><br>\n",
    "**step:4 Create new file on jupyter notebook** *jupyter notebook kholne ke bad apko right top side me new ka option dikh raha hoga usko click karke python 3 me click karna hai apka folder ban jayega fir aap usko rename bhi kar sakte hai*\n"
   ]
  },
  {
   "cell_type": "code",
   "execution_count": 1,
   "id": "aae64cfa",
   "metadata": {},
   "outputs": [],
   "source": [
    "import numpy as np\n",
    "import pandas as pd"
   ]
  },
  {
   "cell_type": "code",
   "execution_count": 2,
   "id": "e9daf5be",
   "metadata": {},
   "outputs": [],
   "source": [
    "dict1 = {\n",
    "    \"name\":['sanjiv', 'samar', 'shubham', 'nitesh'],\n",
    "    \"marks\":[85, 87, 90, 85],\n",
    "    \"city\":['jamshedpur', 'ranchi', 'musabani', 'bokaro']\n",
    "}"
   ]
  },
  {
   "cell_type": "code",
   "execution_count": 3,
   "id": "0f53d22f",
   "metadata": {},
   "outputs": [],
   "source": [
    "df = pd.DataFrame(dict1)"
   ]
  },
  {
   "cell_type": "markdown",
   "id": "4be40f0f",
   "metadata": {},
   "source": [
    "*ye simply ek dataframe bana dega, dataframe is like a excel sheet. ye inko ek excel sheet me convert kar dega faster indexing ke liye, or numpy ke functiuons ko hum use kar payenge.ye sari chije fast karega Big data ko hum ache se analyze kar payenge*"
   ]
  },
  {
   "cell_type": "code",
   "execution_count": 4,
   "id": "1acbf48a",
   "metadata": {},
   "outputs": [
    {
     "data": {
      "text/html": [
       "<div>\n",
       "<style scoped>\n",
       "    .dataframe tbody tr th:only-of-type {\n",
       "        vertical-align: middle;\n",
       "    }\n",
       "\n",
       "    .dataframe tbody tr th {\n",
       "        vertical-align: top;\n",
       "    }\n",
       "\n",
       "    .dataframe thead th {\n",
       "        text-align: right;\n",
       "    }\n",
       "</style>\n",
       "<table border=\"1\" class=\"dataframe\">\n",
       "  <thead>\n",
       "    <tr style=\"text-align: right;\">\n",
       "      <th></th>\n",
       "      <th>name</th>\n",
       "      <th>marks</th>\n",
       "      <th>city</th>\n",
       "    </tr>\n",
       "  </thead>\n",
       "  <tbody>\n",
       "    <tr>\n",
       "      <th>0</th>\n",
       "      <td>sanjiv</td>\n",
       "      <td>85</td>\n",
       "      <td>jamshedpur</td>\n",
       "    </tr>\n",
       "    <tr>\n",
       "      <th>1</th>\n",
       "      <td>samar</td>\n",
       "      <td>87</td>\n",
       "      <td>ranchi</td>\n",
       "    </tr>\n",
       "    <tr>\n",
       "      <th>2</th>\n",
       "      <td>shubham</td>\n",
       "      <td>90</td>\n",
       "      <td>musabani</td>\n",
       "    </tr>\n",
       "    <tr>\n",
       "      <th>3</th>\n",
       "      <td>nitesh</td>\n",
       "      <td>85</td>\n",
       "      <td>bokaro</td>\n",
       "    </tr>\n",
       "  </tbody>\n",
       "</table>\n",
       "</div>"
      ],
      "text/plain": [
       "      name  marks        city\n",
       "0   sanjiv     85  jamshedpur\n",
       "1    samar     87      ranchi\n",
       "2  shubham     90    musabani\n",
       "3   nitesh     85      bokaro"
      ]
     },
     "execution_count": 4,
     "metadata": {},
     "output_type": "execute_result"
    }
   ],
   "source": [
    "df"
   ]
  },
  {
   "cell_type": "markdown",
   "id": "cfefa545",
   "metadata": {},
   "source": [
    "*or mujhe df ko dekhna hai to kuch is tarah dekh sakta hun,<br><br> isne kya kiya? isne yahan par name de diya marks de diya or city de diya, jaise humne **dict1** me diya tha **name, marks, city** usi tarah isne column ke name de diye hai name, marks or city, usi ke sath-sath jo ye 0,1,2,3 dekh rahe hai ye **index** hai ye **har row ko identifie karta hai index se or column ko column name** se<br><br> isi chij ko isi **dataframe** ko **csv me excelsheet me hum export kaise karenge** abhi dekhenge*"
   ]
  },
  {
   "cell_type": "code",
   "execution_count": 5,
   "id": "4f4f4cf7",
   "metadata": {},
   "outputs": [],
   "source": [
    "df.to_csv('friends.csv')"
   ]
  },
  {
   "cell_type": "markdown",
   "id": "a958d71d",
   "metadata": {},
   "source": [
    "*to,  ***to_csv*** function se apka dataframe, csv file me convert ho jayega or fir aap isko excelsheet me bhi khol sakte hai*<br><br>\n",
    "*to simply kisi bhi data ko analyse karne ke bad aapko usko excelsheet me dalna hai to simply ***to_csv*** function ka istemal kar skte hai aap*"
   ]
  },
  {
   "cell_type": "markdown",
   "id": "d309ca49",
   "metadata": {},
   "source": [
    "*#--excelsheet me **index** ko hatane ke liye hum kya karenge*<br><br> *---yaniki me cahata hun apni csv me index na dekhu*"
   ]
  },
  {
   "cell_type": "code",
   "execution_count": 6,
   "id": "bd6b8808",
   "metadata": {},
   "outputs": [],
   "source": [
    "df.to_csv('friends_index_false.csv', index=False)"
   ]
  },
  {
   "cell_type": "markdown",
   "id": "64e57455",
   "metadata": {},
   "source": [
    "## 1.Dataframe ko hum dekhne ke liye kya kya kar sakte hai"
   ]
  },
  {
   "cell_type": "markdown",
   "id": "aee49673",
   "metadata": {},
   "source": [
    "*--Agar mera dataframe bhaut bada hota to like 1-2 millions rows hote agar, to ye sari 1-2 milllions rows to dikah nahi sakta to ye thoda sa dikhata hai.*<br>\n",
    "**man lo aapko dekhna hai suru ke 3 rows to apko likhna hoga**"
   ]
  },
  {
   "cell_type": "code",
   "execution_count": 7,
   "id": "61e7d359",
   "metadata": {},
   "outputs": [
    {
     "data": {
      "text/html": [
       "<div>\n",
       "<style scoped>\n",
       "    .dataframe tbody tr th:only-of-type {\n",
       "        vertical-align: middle;\n",
       "    }\n",
       "\n",
       "    .dataframe tbody tr th {\n",
       "        vertical-align: top;\n",
       "    }\n",
       "\n",
       "    .dataframe thead th {\n",
       "        text-align: right;\n",
       "    }\n",
       "</style>\n",
       "<table border=\"1\" class=\"dataframe\">\n",
       "  <thead>\n",
       "    <tr style=\"text-align: right;\">\n",
       "      <th></th>\n",
       "      <th>name</th>\n",
       "      <th>marks</th>\n",
       "      <th>city</th>\n",
       "    </tr>\n",
       "  </thead>\n",
       "  <tbody>\n",
       "    <tr>\n",
       "      <th>0</th>\n",
       "      <td>sanjiv</td>\n",
       "      <td>85</td>\n",
       "      <td>jamshedpur</td>\n",
       "    </tr>\n",
       "    <tr>\n",
       "      <th>1</th>\n",
       "      <td>samar</td>\n",
       "      <td>87</td>\n",
       "      <td>ranchi</td>\n",
       "    </tr>\n",
       "    <tr>\n",
       "      <th>2</th>\n",
       "      <td>shubham</td>\n",
       "      <td>90</td>\n",
       "      <td>musabani</td>\n",
       "    </tr>\n",
       "  </tbody>\n",
       "</table>\n",
       "</div>"
      ],
      "text/plain": [
       "      name  marks        city\n",
       "0   sanjiv     85  jamshedpur\n",
       "1    samar     87      ranchi\n",
       "2  shubham     90    musabani"
      ]
     },
     "execution_count": 7,
     "metadata": {},
     "output_type": "execute_result"
    }
   ],
   "source": [
    "df.head(3)"
   ]
  },
  {
   "cell_type": "markdown",
   "id": "3b2f67cc",
   "metadata": {},
   "source": [
    "**or agar apko akhir ke 3 rows dekhne hai**"
   ]
  },
  {
   "cell_type": "code",
   "execution_count": 8,
   "id": "0c01a9d1",
   "metadata": {},
   "outputs": [
    {
     "data": {
      "text/html": [
       "<div>\n",
       "<style scoped>\n",
       "    .dataframe tbody tr th:only-of-type {\n",
       "        vertical-align: middle;\n",
       "    }\n",
       "\n",
       "    .dataframe tbody tr th {\n",
       "        vertical-align: top;\n",
       "    }\n",
       "\n",
       "    .dataframe thead th {\n",
       "        text-align: right;\n",
       "    }\n",
       "</style>\n",
       "<table border=\"1\" class=\"dataframe\">\n",
       "  <thead>\n",
       "    <tr style=\"text-align: right;\">\n",
       "      <th></th>\n",
       "      <th>name</th>\n",
       "      <th>marks</th>\n",
       "      <th>city</th>\n",
       "    </tr>\n",
       "  </thead>\n",
       "  <tbody>\n",
       "    <tr>\n",
       "      <th>1</th>\n",
       "      <td>samar</td>\n",
       "      <td>87</td>\n",
       "      <td>ranchi</td>\n",
       "    </tr>\n",
       "    <tr>\n",
       "      <th>2</th>\n",
       "      <td>shubham</td>\n",
       "      <td>90</td>\n",
       "      <td>musabani</td>\n",
       "    </tr>\n",
       "    <tr>\n",
       "      <th>3</th>\n",
       "      <td>nitesh</td>\n",
       "      <td>85</td>\n",
       "      <td>bokaro</td>\n",
       "    </tr>\n",
       "  </tbody>\n",
       "</table>\n",
       "</div>"
      ],
      "text/plain": [
       "      name  marks      city\n",
       "1    samar     87    ranchi\n",
       "2  shubham     90  musabani\n",
       "3   nitesh     85    bokaro"
      ]
     },
     "execution_count": 8,
     "metadata": {},
     "output_type": "execute_result"
    }
   ],
   "source": [
    "df.tail(3)"
   ]
  },
  {
   "cell_type": "markdown",
   "id": "4724f3b4",
   "metadata": {},
   "source": [
    "***--df.describe--***<br>\n",
    "*ye kya karega jo bhi **numericals column** hai jaise ki mere kon kon se marks hai. is numericals column ka yahan par **count, mean, standard divison, minimum, 25% percentile** ye sari chije calculate karega aapke liye ek **statistical analysis** karega maximum batayega aapko kitna hoga*"
   ]
  },
  {
   "cell_type": "code",
   "execution_count": 9,
   "id": "cf29e1de",
   "metadata": {},
   "outputs": [
    {
     "data": {
      "text/html": [
       "<div>\n",
       "<style scoped>\n",
       "    .dataframe tbody tr th:only-of-type {\n",
       "        vertical-align: middle;\n",
       "    }\n",
       "\n",
       "    .dataframe tbody tr th {\n",
       "        vertical-align: top;\n",
       "    }\n",
       "\n",
       "    .dataframe thead th {\n",
       "        text-align: right;\n",
       "    }\n",
       "</style>\n",
       "<table border=\"1\" class=\"dataframe\">\n",
       "  <thead>\n",
       "    <tr style=\"text-align: right;\">\n",
       "      <th></th>\n",
       "      <th>marks</th>\n",
       "    </tr>\n",
       "  </thead>\n",
       "  <tbody>\n",
       "    <tr>\n",
       "      <th>count</th>\n",
       "      <td>4.000000</td>\n",
       "    </tr>\n",
       "    <tr>\n",
       "      <th>mean</th>\n",
       "      <td>86.750000</td>\n",
       "    </tr>\n",
       "    <tr>\n",
       "      <th>std</th>\n",
       "      <td>2.362908</td>\n",
       "    </tr>\n",
       "    <tr>\n",
       "      <th>min</th>\n",
       "      <td>85.000000</td>\n",
       "    </tr>\n",
       "    <tr>\n",
       "      <th>25%</th>\n",
       "      <td>85.000000</td>\n",
       "    </tr>\n",
       "    <tr>\n",
       "      <th>50%</th>\n",
       "      <td>86.000000</td>\n",
       "    </tr>\n",
       "    <tr>\n",
       "      <th>75%</th>\n",
       "      <td>87.750000</td>\n",
       "    </tr>\n",
       "    <tr>\n",
       "      <th>max</th>\n",
       "      <td>90.000000</td>\n",
       "    </tr>\n",
       "  </tbody>\n",
       "</table>\n",
       "</div>"
      ],
      "text/plain": [
       "           marks\n",
       "count   4.000000\n",
       "mean   86.750000\n",
       "std     2.362908\n",
       "min    85.000000\n",
       "25%    85.000000\n",
       "50%    86.000000\n",
       "75%    87.750000\n",
       "max    90.000000"
      ]
     },
     "execution_count": 9,
     "metadata": {},
     "output_type": "execute_result"
    }
   ],
   "source": [
    "df.describe()"
   ]
  },
  {
   "cell_type": "markdown",
   "id": "ffbb357c",
   "metadata": {},
   "source": [
    "# 2.Import csv"
   ]
  },
  {
   "cell_type": "markdown",
   "id": "73be900c",
   "metadata": {},
   "source": [
    "*abb man lo me ek csv banata hun excel me,<br>\n",
    "**csv: simply coma separated values ki sheet hoti hai**<br>\n",
    "--abb humne yahan par sanjiv.csv name ka ek excel file banaya hai, jisme humne bs random values dale hai, fri hume isko save kar diya* <br><br>\n",
    "*abb sanjiv.csv ko read karne ke liye hum sanjiv name ka ek dataframe bana sakte hai*<br>\n",
    "**dataframe: ek excelsheet hai jo ki python ke andar hum istemal kar sakte hai**\n"
   ]
  },
  {
   "cell_type": "code",
   "execution_count": 10,
   "id": "eff8d796",
   "metadata": {},
   "outputs": [],
   "source": [
    "sanjiv = pd.read_csv('sanjiv.csv')"
   ]
  },
  {
   "cell_type": "code",
   "execution_count": 11,
   "id": "3cd0417d",
   "metadata": {},
   "outputs": [
    {
     "data": {
      "text/html": [
       "<div>\n",
       "<style scoped>\n",
       "    .dataframe tbody tr th:only-of-type {\n",
       "        vertical-align: middle;\n",
       "    }\n",
       "\n",
       "    .dataframe tbody tr th {\n",
       "        vertical-align: top;\n",
       "    }\n",
       "\n",
       "    .dataframe thead th {\n",
       "        text-align: right;\n",
       "    }\n",
       "</style>\n",
       "<table border=\"1\" class=\"dataframe\">\n",
       "  <thead>\n",
       "    <tr style=\"text-align: right;\">\n",
       "      <th></th>\n",
       "      <th>Unnamed: 0</th>\n",
       "      <th>train no</th>\n",
       "      <th>speed</th>\n",
       "      <th>city</th>\n",
       "    </tr>\n",
       "  </thead>\n",
       "  <tbody>\n",
       "    <tr>\n",
       "      <th>0</th>\n",
       "      <td>0</td>\n",
       "      <td>1125</td>\n",
       "      <td>92</td>\n",
       "      <td>jamshedpur</td>\n",
       "    </tr>\n",
       "    <tr>\n",
       "      <th>1</th>\n",
       "      <td>1</td>\n",
       "      <td>5847</td>\n",
       "      <td>87</td>\n",
       "      <td>ranchi</td>\n",
       "    </tr>\n",
       "    <tr>\n",
       "      <th>2</th>\n",
       "      <td>2</td>\n",
       "      <td>4455</td>\n",
       "      <td>90</td>\n",
       "      <td>musabani</td>\n",
       "    </tr>\n",
       "    <tr>\n",
       "      <th>3</th>\n",
       "      <td>3</td>\n",
       "      <td>2365</td>\n",
       "      <td>85</td>\n",
       "      <td>bokaro</td>\n",
       "    </tr>\n",
       "  </tbody>\n",
       "</table>\n",
       "</div>"
      ],
      "text/plain": [
       "   Unnamed: 0  train no  speed        city\n",
       "0           0      1125     92  jamshedpur\n",
       "1           1      5847     87      ranchi\n",
       "2           2      4455     90    musabani\n",
       "3           3      2365     85      bokaro"
      ]
     },
     "execution_count": 11,
     "metadata": {},
     "output_type": "execute_result"
    }
   ],
   "source": [
    "sanjiv"
   ]
  },
  {
   "cell_type": "markdown",
   "id": "a1cb884d",
   "metadata": {},
   "source": [
    "## 3.For change csv values"
   ]
  },
  {
   "cell_type": "code",
   "execution_count": 12,
   "id": "a16b1d05",
   "metadata": {},
   "outputs": [
    {
     "data": {
      "text/plain": [
       "0    92\n",
       "1    87\n",
       "2    90\n",
       "3    85\n",
       "Name: speed, dtype: int64"
      ]
     },
     "execution_count": 12,
     "metadata": {},
     "output_type": "execute_result"
    }
   ],
   "source": [
    "sanjiv['speed']"
   ]
  },
  {
   "cell_type": "code",
   "execution_count": 13,
   "id": "ee118373",
   "metadata": {},
   "outputs": [
    {
     "data": {
      "text/plain": [
       "92"
      ]
     },
     "execution_count": 13,
     "metadata": {},
     "output_type": "execute_result"
    }
   ],
   "source": [
    "sanjiv['speed'][0]"
   ]
  },
  {
   "cell_type": "code",
   "execution_count": 14,
   "id": "e6db7645",
   "metadata": {},
   "outputs": [
    {
     "name": "stderr",
     "output_type": "stream",
     "text": [
      "C:\\Users\\SANJIV~1\\AppData\\Local\\Temp/ipykernel_11692/2498308048.py:1: SettingWithCopyWarning: \n",
      "A value is trying to be set on a copy of a slice from a DataFrame\n",
      "\n",
      "See the caveats in the documentation: https://pandas.pydata.org/pandas-docs/stable/user_guide/indexing.html#returning-a-view-versus-a-copy\n",
      "  sanjiv['speed'][0]=92\n"
     ]
    }
   ],
   "source": [
    "sanjiv['speed'][0]=92"
   ]
  },
  {
   "cell_type": "markdown",
   "id": "d8ef9b53",
   "metadata": {},
   "source": [
    "*to ye bs bol raha aap aise slice par value ko set na kare*<br><br>\n",
    "**or agar hum fir se sanjiv ko print kare to aap dekhenge ki value jo hai wo change ho gayi hai**"
   ]
  },
  {
   "cell_type": "code",
   "execution_count": 15,
   "id": "5909067a",
   "metadata": {},
   "outputs": [
    {
     "data": {
      "text/html": [
       "<div>\n",
       "<style scoped>\n",
       "    .dataframe tbody tr th:only-of-type {\n",
       "        vertical-align: middle;\n",
       "    }\n",
       "\n",
       "    .dataframe tbody tr th {\n",
       "        vertical-align: top;\n",
       "    }\n",
       "\n",
       "    .dataframe thead th {\n",
       "        text-align: right;\n",
       "    }\n",
       "</style>\n",
       "<table border=\"1\" class=\"dataframe\">\n",
       "  <thead>\n",
       "    <tr style=\"text-align: right;\">\n",
       "      <th></th>\n",
       "      <th>Unnamed: 0</th>\n",
       "      <th>train no</th>\n",
       "      <th>speed</th>\n",
       "      <th>city</th>\n",
       "    </tr>\n",
       "  </thead>\n",
       "  <tbody>\n",
       "    <tr>\n",
       "      <th>0</th>\n",
       "      <td>0</td>\n",
       "      <td>1125</td>\n",
       "      <td>92</td>\n",
       "      <td>jamshedpur</td>\n",
       "    </tr>\n",
       "    <tr>\n",
       "      <th>1</th>\n",
       "      <td>1</td>\n",
       "      <td>5847</td>\n",
       "      <td>87</td>\n",
       "      <td>ranchi</td>\n",
       "    </tr>\n",
       "    <tr>\n",
       "      <th>2</th>\n",
       "      <td>2</td>\n",
       "      <td>4455</td>\n",
       "      <td>90</td>\n",
       "      <td>musabani</td>\n",
       "    </tr>\n",
       "    <tr>\n",
       "      <th>3</th>\n",
       "      <td>3</td>\n",
       "      <td>2365</td>\n",
       "      <td>85</td>\n",
       "      <td>bokaro</td>\n",
       "    </tr>\n",
       "  </tbody>\n",
       "</table>\n",
       "</div>"
      ],
      "text/plain": [
       "   Unnamed: 0  train no  speed        city\n",
       "0           0      1125     92  jamshedpur\n",
       "1           1      5847     87      ranchi\n",
       "2           2      4455     90    musabani\n",
       "3           3      2365     85      bokaro"
      ]
     },
     "execution_count": 15,
     "metadata": {},
     "output_type": "execute_result"
    }
   ],
   "source": [
    "sanjiv"
   ]
  },
  {
   "cell_type": "markdown",
   "id": "02aa1546",
   "metadata": {},
   "source": [
    "**or agar hum isko csv me export kar de to humare excelsheet ka bhi value change ho jayega**"
   ]
  },
  {
   "cell_type": "code",
   "execution_count": 16,
   "id": "c1df62a4",
   "metadata": {},
   "outputs": [],
   "source": [
    "sanjiv.to_csv('sanjiv.csv')"
   ]
  },
  {
   "cell_type": "markdown",
   "id": "60c0ae68",
   "metadata": {},
   "source": [
    "**to is tarah hum value ko change karke wapas csv me export kar sakte hai**"
   ]
  },
  {
   "cell_type": "markdown",
   "id": "932b1ea1",
   "metadata": {},
   "source": [
    "## 4.For change index"
   ]
  },
  {
   "cell_type": "code",
   "execution_count": 17,
   "id": "f7954f58",
   "metadata": {},
   "outputs": [],
   "source": [
    "sanjiv.index = ['first', 'second', 'third', 'fourth']"
   ]
  },
  {
   "cell_type": "code",
   "execution_count": 18,
   "id": "ba30853e",
   "metadata": {},
   "outputs": [
    {
     "data": {
      "text/html": [
       "<div>\n",
       "<style scoped>\n",
       "    .dataframe tbody tr th:only-of-type {\n",
       "        vertical-align: middle;\n",
       "    }\n",
       "\n",
       "    .dataframe tbody tr th {\n",
       "        vertical-align: top;\n",
       "    }\n",
       "\n",
       "    .dataframe thead th {\n",
       "        text-align: right;\n",
       "    }\n",
       "</style>\n",
       "<table border=\"1\" class=\"dataframe\">\n",
       "  <thead>\n",
       "    <tr style=\"text-align: right;\">\n",
       "      <th></th>\n",
       "      <th>Unnamed: 0</th>\n",
       "      <th>train no</th>\n",
       "      <th>speed</th>\n",
       "      <th>city</th>\n",
       "    </tr>\n",
       "  </thead>\n",
       "  <tbody>\n",
       "    <tr>\n",
       "      <th>first</th>\n",
       "      <td>0</td>\n",
       "      <td>1125</td>\n",
       "      <td>92</td>\n",
       "      <td>jamshedpur</td>\n",
       "    </tr>\n",
       "    <tr>\n",
       "      <th>second</th>\n",
       "      <td>1</td>\n",
       "      <td>5847</td>\n",
       "      <td>87</td>\n",
       "      <td>ranchi</td>\n",
       "    </tr>\n",
       "    <tr>\n",
       "      <th>third</th>\n",
       "      <td>2</td>\n",
       "      <td>4455</td>\n",
       "      <td>90</td>\n",
       "      <td>musabani</td>\n",
       "    </tr>\n",
       "    <tr>\n",
       "      <th>fourth</th>\n",
       "      <td>3</td>\n",
       "      <td>2365</td>\n",
       "      <td>85</td>\n",
       "      <td>bokaro</td>\n",
       "    </tr>\n",
       "  </tbody>\n",
       "</table>\n",
       "</div>"
      ],
      "text/plain": [
       "        Unnamed: 0  train no  speed        city\n",
       "first            0      1125     92  jamshedpur\n",
       "second           1      5847     87      ranchi\n",
       "third            2      4455     90    musabani\n",
       "fourth           3      2365     85      bokaro"
      ]
     },
     "execution_count": 18,
     "metadata": {},
     "output_type": "execute_result"
    }
   ],
   "source": [
    "sanjiv"
   ]
  },
  {
   "cell_type": "markdown",
   "id": "fff4a0b0",
   "metadata": {},
   "source": [
    "*to jaruri nahi hai ki jo aapki index hai, wo 0,1,2,3 hi hoga ya koyi integer hi rahega, aap yahan par **strings** ka bhi istemal kar sakte hai. aaplog yahan par koi sa bhi number chun sakte hai<br><br>\n",
    "**bs ye samajhiye ki \"row ko access karne ke liye index hota hai or column ko access karne ke liye column ka name hota hai\"**"
   ]
  },
  {
   "cell_type": "markdown",
   "id": "d9f0e636",
   "metadata": {},
   "source": [
    "# 5.what is pandas:"
   ]
  },
  {
   "cell_type": "markdown",
   "id": "59be33c0",
   "metadata": {},
   "source": [
    "**1.Pandas is an open sources data analysis library written in python**<br>\n",
    "**2.It leverages the power and speed of numpy to make data analysis and preprocessing easy for data scientist.**<br>\n",
    "**3.It provides rich and highly robust data operations.**<br>\n",
    "# 6.Pandas data structure \n",
    "### Pandas has two types of data structures:\n",
    "*a.**series-** it's a one dimensional array with indexes, it stores a single column or row of data in a DataFrame.*<br>\n",
    "*b.**DataFrame-** it's tabular spreadsheet like structure representing rows each of which contains one or multiple columns*<br>\n",
    "*--A one-dimensional array (labeled) capable of holding any type of data - **series** .*<br>\n",
    "*--A two-dimensional data (labeled) structure with columns of potentially different type of data - **DataFrame** .*"
   ]
  },
  {
   "cell_type": "code",
   "execution_count": 19,
   "id": "46b5434a",
   "metadata": {},
   "outputs": [
    {
     "data": {
      "text/html": [
       "<div>\n",
       "<style scoped>\n",
       "    .dataframe tbody tr th:only-of-type {\n",
       "        vertical-align: middle;\n",
       "    }\n",
       "\n",
       "    .dataframe tbody tr th {\n",
       "        vertical-align: top;\n",
       "    }\n",
       "\n",
       "    .dataframe thead th {\n",
       "        text-align: right;\n",
       "    }\n",
       "</style>\n",
       "<table border=\"1\" class=\"dataframe\">\n",
       "  <thead>\n",
       "    <tr style=\"text-align: right;\">\n",
       "      <th></th>\n",
       "      <th>name</th>\n",
       "      <th>marks</th>\n",
       "      <th>city</th>\n",
       "    </tr>\n",
       "  </thead>\n",
       "  <tbody>\n",
       "    <tr>\n",
       "      <th>0</th>\n",
       "      <td>sanjiv</td>\n",
       "      <td>85</td>\n",
       "      <td>jamshedpur</td>\n",
       "    </tr>\n",
       "    <tr>\n",
       "      <th>1</th>\n",
       "      <td>samar</td>\n",
       "      <td>87</td>\n",
       "      <td>ranchi</td>\n",
       "    </tr>\n",
       "    <tr>\n",
       "      <th>2</th>\n",
       "      <td>shubham</td>\n",
       "      <td>90</td>\n",
       "      <td>musabani</td>\n",
       "    </tr>\n",
       "    <tr>\n",
       "      <th>3</th>\n",
       "      <td>nitesh</td>\n",
       "      <td>85</td>\n",
       "      <td>bokaro</td>\n",
       "    </tr>\n",
       "  </tbody>\n",
       "</table>\n",
       "</div>"
      ],
      "text/plain": [
       "      name  marks        city\n",
       "0   sanjiv     85  jamshedpur\n",
       "1    samar     87      ranchi\n",
       "2  shubham     90    musabani\n",
       "3   nitesh     85      bokaro"
      ]
     },
     "execution_count": 19,
     "metadata": {},
     "output_type": "execute_result"
    }
   ],
   "source": [
    "df"
   ]
  },
  {
   "cell_type": "code",
   "execution_count": 20,
   "id": "8401310a",
   "metadata": {},
   "outputs": [
    {
     "data": {
      "text/plain": [
       "pandas.core.series.Series"
      ]
     },
     "execution_count": 20,
     "metadata": {},
     "output_type": "execute_result"
    }
   ],
   "source": [
    "type(df['marks'])"
   ]
  },
  {
   "cell_type": "markdown",
   "id": "4f2fa89d",
   "metadata": {},
   "source": [
    "**hum yahan sekh sakte hai jo column marks hai wo ek \"series\" hai**"
   ]
  },
  {
   "cell_type": "markdown",
   "id": "e2382336",
   "metadata": {},
   "source": [
    "## Now we'll create a new dataframe, and from here we'll look at the difference between the series and the dataframe, and we'll explore everything here.\n"
   ]
  },
  {
   "cell_type": "markdown",
   "id": "eadbabff",
   "metadata": {},
   "source": [
    "# 1.Series\n",
    "### Series ek data structure hota hai pandas ka, jo ki pandas ki ek basic index hoti hai "
   ]
  },
  {
   "cell_type": "markdown",
   "id": "3f3545aa",
   "metadata": {},
   "source": [
    "**random series ko print karne ke liye**"
   ]
  },
  {
   "cell_type": "code",
   "execution_count": 21,
   "id": "7b439e16",
   "metadata": {},
   "outputs": [],
   "source": [
    "ser = pd.Series(np.random.rand(34))"
   ]
  },
  {
   "cell_type": "code",
   "execution_count": 22,
   "id": "6fdc18c1",
   "metadata": {},
   "outputs": [
    {
     "data": {
      "text/plain": [
       "0     0.091403\n",
       "1     0.738452\n",
       "2     0.435066\n",
       "3     0.148843\n",
       "4     0.041055\n",
       "5     0.704245\n",
       "6     0.724621\n",
       "7     0.108592\n",
       "8     0.349322\n",
       "9     0.716949\n",
       "10    0.805213\n",
       "11    0.438844\n",
       "12    0.869548\n",
       "13    0.830362\n",
       "14    0.181636\n",
       "15    0.588682\n",
       "16    0.253745\n",
       "17    0.339227\n",
       "18    0.581635\n",
       "19    0.585920\n",
       "20    0.655013\n",
       "21    0.998558\n",
       "22    0.641631\n",
       "23    0.615030\n",
       "24    0.852233\n",
       "25    0.285600\n",
       "26    0.494614\n",
       "27    0.967041\n",
       "28    0.197912\n",
       "29    0.218176\n",
       "30    0.630686\n",
       "31    0.688535\n",
       "32    0.925282\n",
       "33    0.364969\n",
       "dtype: float64"
      ]
     },
     "execution_count": 22,
     "metadata": {},
     "output_type": "execute_result"
    }
   ],
   "source": [
    "ser"
   ]
  },
  {
   "cell_type": "markdown",
   "id": "adf71ec1",
   "metadata": {},
   "source": [
    "**to isne mujhe 0 se 33 tak ek series de diya**<br>\n",
    "**agar me iska type dekhna chahta hun to-- ye mujhe batayega ye ek series hai<br>** ***Note: Series ka 'S' bada hona cahiye***"
   ]
  },
  {
   "cell_type": "code",
   "execution_count": 23,
   "id": "2ffc5b29",
   "metadata": {},
   "outputs": [
    {
     "data": {
      "text/plain": [
       "pandas.core.series.Series"
      ]
     },
     "execution_count": 23,
     "metadata": {},
     "output_type": "execute_result"
    }
   ],
   "source": [
    "type(ser)"
   ]
  },
  {
   "cell_type": "markdown",
   "id": "ce63aef5",
   "metadata": {},
   "source": [
    "# 2.DataFrame"
   ]
  },
  {
   "cell_type": "code",
   "execution_count": 24,
   "id": "44cc9062",
   "metadata": {},
   "outputs": [],
   "source": [
    "newdf = pd.DataFrame(np.random.rand(334, 5), index=np.arange(334))"
   ]
  },
  {
   "cell_type": "code",
   "execution_count": 25,
   "id": "7275cbcb",
   "metadata": {},
   "outputs": [
    {
     "data": {
      "text/html": [
       "<div>\n",
       "<style scoped>\n",
       "    .dataframe tbody tr th:only-of-type {\n",
       "        vertical-align: middle;\n",
       "    }\n",
       "\n",
       "    .dataframe tbody tr th {\n",
       "        vertical-align: top;\n",
       "    }\n",
       "\n",
       "    .dataframe thead th {\n",
       "        text-align: right;\n",
       "    }\n",
       "</style>\n",
       "<table border=\"1\" class=\"dataframe\">\n",
       "  <thead>\n",
       "    <tr style=\"text-align: right;\">\n",
       "      <th></th>\n",
       "      <th>0</th>\n",
       "      <th>1</th>\n",
       "      <th>2</th>\n",
       "      <th>3</th>\n",
       "      <th>4</th>\n",
       "    </tr>\n",
       "  </thead>\n",
       "  <tbody>\n",
       "    <tr>\n",
       "      <th>0</th>\n",
       "      <td>0.410182</td>\n",
       "      <td>0.735723</td>\n",
       "      <td>0.351642</td>\n",
       "      <td>0.316163</td>\n",
       "      <td>0.028390</td>\n",
       "    </tr>\n",
       "    <tr>\n",
       "      <th>1</th>\n",
       "      <td>0.490249</td>\n",
       "      <td>0.464304</td>\n",
       "      <td>0.337367</td>\n",
       "      <td>0.814775</td>\n",
       "      <td>0.299901</td>\n",
       "    </tr>\n",
       "    <tr>\n",
       "      <th>2</th>\n",
       "      <td>0.262267</td>\n",
       "      <td>0.937619</td>\n",
       "      <td>0.831524</td>\n",
       "      <td>0.118030</td>\n",
       "      <td>0.525206</td>\n",
       "    </tr>\n",
       "    <tr>\n",
       "      <th>3</th>\n",
       "      <td>0.287334</td>\n",
       "      <td>0.974052</td>\n",
       "      <td>0.944044</td>\n",
       "      <td>0.869090</td>\n",
       "      <td>0.136935</td>\n",
       "    </tr>\n",
       "    <tr>\n",
       "      <th>4</th>\n",
       "      <td>0.840038</td>\n",
       "      <td>0.276021</td>\n",
       "      <td>0.140503</td>\n",
       "      <td>0.599835</td>\n",
       "      <td>0.511210</td>\n",
       "    </tr>\n",
       "  </tbody>\n",
       "</table>\n",
       "</div>"
      ],
      "text/plain": [
       "          0         1         2         3         4\n",
       "0  0.410182  0.735723  0.351642  0.316163  0.028390\n",
       "1  0.490249  0.464304  0.337367  0.814775  0.299901\n",
       "2  0.262267  0.937619  0.831524  0.118030  0.525206\n",
       "3  0.287334  0.974052  0.944044  0.869090  0.136935\n",
       "4  0.840038  0.276021  0.140503  0.599835  0.511210"
      ]
     },
     "execution_count": 25,
     "metadata": {},
     "output_type": "execute_result"
    }
   ],
   "source": [
    "newdf.head()"
   ]
  },
  {
   "cell_type": "markdown",
   "id": "ad2bbfad",
   "metadata": {},
   "source": [
    "*ye mujhe suru ke 5 rows dikhayega*"
   ]
  },
  {
   "cell_type": "code",
   "execution_count": 26,
   "id": "d3fd4f6b",
   "metadata": {},
   "outputs": [
    {
     "data": {
      "text/html": [
       "<div>\n",
       "<style scoped>\n",
       "    .dataframe tbody tr th:only-of-type {\n",
       "        vertical-align: middle;\n",
       "    }\n",
       "\n",
       "    .dataframe tbody tr th {\n",
       "        vertical-align: top;\n",
       "    }\n",
       "\n",
       "    .dataframe thead th {\n",
       "        text-align: right;\n",
       "    }\n",
       "</style>\n",
       "<table border=\"1\" class=\"dataframe\">\n",
       "  <thead>\n",
       "    <tr style=\"text-align: right;\">\n",
       "      <th></th>\n",
       "      <th>0</th>\n",
       "      <th>1</th>\n",
       "      <th>2</th>\n",
       "      <th>3</th>\n",
       "      <th>4</th>\n",
       "    </tr>\n",
       "  </thead>\n",
       "  <tbody>\n",
       "    <tr>\n",
       "      <th>329</th>\n",
       "      <td>0.770738</td>\n",
       "      <td>0.692331</td>\n",
       "      <td>0.882043</td>\n",
       "      <td>0.763866</td>\n",
       "      <td>0.218966</td>\n",
       "    </tr>\n",
       "    <tr>\n",
       "      <th>330</th>\n",
       "      <td>0.845293</td>\n",
       "      <td>0.832767</td>\n",
       "      <td>0.497827</td>\n",
       "      <td>0.485871</td>\n",
       "      <td>0.769743</td>\n",
       "    </tr>\n",
       "    <tr>\n",
       "      <th>331</th>\n",
       "      <td>0.117437</td>\n",
       "      <td>0.460440</td>\n",
       "      <td>0.876562</td>\n",
       "      <td>0.636201</td>\n",
       "      <td>0.223381</td>\n",
       "    </tr>\n",
       "    <tr>\n",
       "      <th>332</th>\n",
       "      <td>0.381841</td>\n",
       "      <td>0.566592</td>\n",
       "      <td>0.378399</td>\n",
       "      <td>0.803676</td>\n",
       "      <td>0.020226</td>\n",
       "    </tr>\n",
       "    <tr>\n",
       "      <th>333</th>\n",
       "      <td>0.837817</td>\n",
       "      <td>0.830319</td>\n",
       "      <td>0.097824</td>\n",
       "      <td>0.137642</td>\n",
       "      <td>0.102835</td>\n",
       "    </tr>\n",
       "  </tbody>\n",
       "</table>\n",
       "</div>"
      ],
      "text/plain": [
       "            0         1         2         3         4\n",
       "329  0.770738  0.692331  0.882043  0.763866  0.218966\n",
       "330  0.845293  0.832767  0.497827  0.485871  0.769743\n",
       "331  0.117437  0.460440  0.876562  0.636201  0.223381\n",
       "332  0.381841  0.566592  0.378399  0.803676  0.020226\n",
       "333  0.837817  0.830319  0.097824  0.137642  0.102835"
      ]
     },
     "execution_count": 26,
     "metadata": {},
     "output_type": "execute_result"
    }
   ],
   "source": [
    "newdf.tail()"
   ]
  },
  {
   "cell_type": "markdown",
   "id": "be2347f3",
   "metadata": {},
   "source": [
    "*ye mujhe akhir ke 5 rows dikhayega*"
   ]
  },
  {
   "cell_type": "code",
   "execution_count": 27,
   "id": "ab735bc0",
   "metadata": {},
   "outputs": [
    {
     "data": {
      "text/html": [
       "<div>\n",
       "<style scoped>\n",
       "    .dataframe tbody tr th:only-of-type {\n",
       "        vertical-align: middle;\n",
       "    }\n",
       "\n",
       "    .dataframe tbody tr th {\n",
       "        vertical-align: top;\n",
       "    }\n",
       "\n",
       "    .dataframe thead th {\n",
       "        text-align: right;\n",
       "    }\n",
       "</style>\n",
       "<table border=\"1\" class=\"dataframe\">\n",
       "  <thead>\n",
       "    <tr style=\"text-align: right;\">\n",
       "      <th></th>\n",
       "      <th>0</th>\n",
       "      <th>1</th>\n",
       "      <th>2</th>\n",
       "      <th>3</th>\n",
       "      <th>4</th>\n",
       "    </tr>\n",
       "  </thead>\n",
       "  <tbody>\n",
       "    <tr>\n",
       "      <th>0</th>\n",
       "      <td>0.410182</td>\n",
       "      <td>0.735723</td>\n",
       "      <td>0.351642</td>\n",
       "      <td>0.316163</td>\n",
       "      <td>0.028390</td>\n",
       "    </tr>\n",
       "    <tr>\n",
       "      <th>1</th>\n",
       "      <td>0.490249</td>\n",
       "      <td>0.464304</td>\n",
       "      <td>0.337367</td>\n",
       "      <td>0.814775</td>\n",
       "      <td>0.299901</td>\n",
       "    </tr>\n",
       "    <tr>\n",
       "      <th>2</th>\n",
       "      <td>0.262267</td>\n",
       "      <td>0.937619</td>\n",
       "      <td>0.831524</td>\n",
       "      <td>0.118030</td>\n",
       "      <td>0.525206</td>\n",
       "    </tr>\n",
       "    <tr>\n",
       "      <th>3</th>\n",
       "      <td>0.287334</td>\n",
       "      <td>0.974052</td>\n",
       "      <td>0.944044</td>\n",
       "      <td>0.869090</td>\n",
       "      <td>0.136935</td>\n",
       "    </tr>\n",
       "    <tr>\n",
       "      <th>4</th>\n",
       "      <td>0.840038</td>\n",
       "      <td>0.276021</td>\n",
       "      <td>0.140503</td>\n",
       "      <td>0.599835</td>\n",
       "      <td>0.511210</td>\n",
       "    </tr>\n",
       "    <tr>\n",
       "      <th>...</th>\n",
       "      <td>...</td>\n",
       "      <td>...</td>\n",
       "      <td>...</td>\n",
       "      <td>...</td>\n",
       "      <td>...</td>\n",
       "    </tr>\n",
       "    <tr>\n",
       "      <th>329</th>\n",
       "      <td>0.770738</td>\n",
       "      <td>0.692331</td>\n",
       "      <td>0.882043</td>\n",
       "      <td>0.763866</td>\n",
       "      <td>0.218966</td>\n",
       "    </tr>\n",
       "    <tr>\n",
       "      <th>330</th>\n",
       "      <td>0.845293</td>\n",
       "      <td>0.832767</td>\n",
       "      <td>0.497827</td>\n",
       "      <td>0.485871</td>\n",
       "      <td>0.769743</td>\n",
       "    </tr>\n",
       "    <tr>\n",
       "      <th>331</th>\n",
       "      <td>0.117437</td>\n",
       "      <td>0.460440</td>\n",
       "      <td>0.876562</td>\n",
       "      <td>0.636201</td>\n",
       "      <td>0.223381</td>\n",
       "    </tr>\n",
       "    <tr>\n",
       "      <th>332</th>\n",
       "      <td>0.381841</td>\n",
       "      <td>0.566592</td>\n",
       "      <td>0.378399</td>\n",
       "      <td>0.803676</td>\n",
       "      <td>0.020226</td>\n",
       "    </tr>\n",
       "    <tr>\n",
       "      <th>333</th>\n",
       "      <td>0.837817</td>\n",
       "      <td>0.830319</td>\n",
       "      <td>0.097824</td>\n",
       "      <td>0.137642</td>\n",
       "      <td>0.102835</td>\n",
       "    </tr>\n",
       "  </tbody>\n",
       "</table>\n",
       "<p>334 rows × 5 columns</p>\n",
       "</div>"
      ],
      "text/plain": [
       "            0         1         2         3         4\n",
       "0    0.410182  0.735723  0.351642  0.316163  0.028390\n",
       "1    0.490249  0.464304  0.337367  0.814775  0.299901\n",
       "2    0.262267  0.937619  0.831524  0.118030  0.525206\n",
       "3    0.287334  0.974052  0.944044  0.869090  0.136935\n",
       "4    0.840038  0.276021  0.140503  0.599835  0.511210\n",
       "..        ...       ...       ...       ...       ...\n",
       "329  0.770738  0.692331  0.882043  0.763866  0.218966\n",
       "330  0.845293  0.832767  0.497827  0.485871  0.769743\n",
       "331  0.117437  0.460440  0.876562  0.636201  0.223381\n",
       "332  0.381841  0.566592  0.378399  0.803676  0.020226\n",
       "333  0.837817  0.830319  0.097824  0.137642  0.102835\n",
       "\n",
       "[334 rows x 5 columns]"
      ]
     },
     "execution_count": 27,
     "metadata": {},
     "output_type": "execute_result"
    }
   ],
   "source": [
    "newdf"
   ]
  },
  {
   "cell_type": "markdown",
   "id": "78590741",
   "metadata": {},
   "source": [
    "*agar me isme kuch na lagaun to ye mujhe sari ki sari rows dikha diya 4 ke bad dot dot or fir 329 se dikhaya ***or ye mujhe bata raha hai ki apke dataframe me 334 rows or 5 columns hai*** .*"
   ]
  },
  {
   "cell_type": "code",
   "execution_count": 28,
   "id": "366bd6e9",
   "metadata": {},
   "outputs": [
    {
     "data": {
      "text/plain": [
       "pandas.core.frame.DataFrame"
      ]
     },
     "execution_count": 28,
     "metadata": {},
     "output_type": "execute_result"
    }
   ],
   "source": [
    "type(newdf)"
   ]
  },
  {
   "cell_type": "markdown",
   "id": "abb9ee54",
   "metadata": {},
   "source": [
    "*or iska type check karne se ye bata raha hai ki ye ek ***DataFrame*** hai*"
   ]
  },
  {
   "cell_type": "code",
   "execution_count": 29,
   "id": "7ae7ec33",
   "metadata": {},
   "outputs": [
    {
     "data": {
      "text/html": [
       "<div>\n",
       "<style scoped>\n",
       "    .dataframe tbody tr th:only-of-type {\n",
       "        vertical-align: middle;\n",
       "    }\n",
       "\n",
       "    .dataframe tbody tr th {\n",
       "        vertical-align: top;\n",
       "    }\n",
       "\n",
       "    .dataframe thead th {\n",
       "        text-align: right;\n",
       "    }\n",
       "</style>\n",
       "<table border=\"1\" class=\"dataframe\">\n",
       "  <thead>\n",
       "    <tr style=\"text-align: right;\">\n",
       "      <th></th>\n",
       "      <th>0</th>\n",
       "      <th>1</th>\n",
       "      <th>2</th>\n",
       "      <th>3</th>\n",
       "      <th>4</th>\n",
       "    </tr>\n",
       "  </thead>\n",
       "  <tbody>\n",
       "    <tr>\n",
       "      <th>0</th>\n",
       "      <td>0.410182</td>\n",
       "      <td>0.735723</td>\n",
       "      <td>0.351642</td>\n",
       "      <td>0.316163</td>\n",
       "      <td>0.028390</td>\n",
       "    </tr>\n",
       "    <tr>\n",
       "      <th>1</th>\n",
       "      <td>0.490249</td>\n",
       "      <td>0.464304</td>\n",
       "      <td>0.337367</td>\n",
       "      <td>0.814775</td>\n",
       "      <td>0.299901</td>\n",
       "    </tr>\n",
       "    <tr>\n",
       "      <th>2</th>\n",
       "      <td>0.262267</td>\n",
       "      <td>0.937619</td>\n",
       "      <td>0.831524</td>\n",
       "      <td>0.118030</td>\n",
       "      <td>0.525206</td>\n",
       "    </tr>\n",
       "    <tr>\n",
       "      <th>3</th>\n",
       "      <td>0.287334</td>\n",
       "      <td>0.974052</td>\n",
       "      <td>0.944044</td>\n",
       "      <td>0.869090</td>\n",
       "      <td>0.136935</td>\n",
       "    </tr>\n",
       "    <tr>\n",
       "      <th>4</th>\n",
       "      <td>0.840038</td>\n",
       "      <td>0.276021</td>\n",
       "      <td>0.140503</td>\n",
       "      <td>0.599835</td>\n",
       "      <td>0.511210</td>\n",
       "    </tr>\n",
       "  </tbody>\n",
       "</table>\n",
       "</div>"
      ],
      "text/plain": [
       "          0         1         2         3         4\n",
       "0  0.410182  0.735723  0.351642  0.316163  0.028390\n",
       "1  0.490249  0.464304  0.337367  0.814775  0.299901\n",
       "2  0.262267  0.937619  0.831524  0.118030  0.525206\n",
       "3  0.287334  0.974052  0.944044  0.869090  0.136935\n",
       "4  0.840038  0.276021  0.140503  0.599835  0.511210"
      ]
     },
     "execution_count": 29,
     "metadata": {},
     "output_type": "execute_result"
    }
   ],
   "source": [
    "newdf.head()"
   ]
  },
  {
   "cell_type": "code",
   "execution_count": 30,
   "id": "c36feffe",
   "metadata": {},
   "outputs": [
    {
     "data": {
      "text/html": [
       "<div>\n",
       "<style scoped>\n",
       "    .dataframe tbody tr th:only-of-type {\n",
       "        vertical-align: middle;\n",
       "    }\n",
       "\n",
       "    .dataframe tbody tr th {\n",
       "        vertical-align: top;\n",
       "    }\n",
       "\n",
       "    .dataframe thead th {\n",
       "        text-align: right;\n",
       "    }\n",
       "</style>\n",
       "<table border=\"1\" class=\"dataframe\">\n",
       "  <thead>\n",
       "    <tr style=\"text-align: right;\">\n",
       "      <th></th>\n",
       "      <th>0</th>\n",
       "      <th>1</th>\n",
       "      <th>2</th>\n",
       "      <th>3</th>\n",
       "      <th>4</th>\n",
       "    </tr>\n",
       "  </thead>\n",
       "  <tbody>\n",
       "    <tr>\n",
       "      <th>count</th>\n",
       "      <td>334.000000</td>\n",
       "      <td>334.000000</td>\n",
       "      <td>334.000000</td>\n",
       "      <td>334.000000</td>\n",
       "      <td>334.000000</td>\n",
       "    </tr>\n",
       "    <tr>\n",
       "      <th>mean</th>\n",
       "      <td>0.514542</td>\n",
       "      <td>0.524246</td>\n",
       "      <td>0.518095</td>\n",
       "      <td>0.492071</td>\n",
       "      <td>0.498725</td>\n",
       "    </tr>\n",
       "    <tr>\n",
       "      <th>std</th>\n",
       "      <td>0.285607</td>\n",
       "      <td>0.281581</td>\n",
       "      <td>0.288812</td>\n",
       "      <td>0.288791</td>\n",
       "      <td>0.284334</td>\n",
       "    </tr>\n",
       "    <tr>\n",
       "      <th>min</th>\n",
       "      <td>0.002447</td>\n",
       "      <td>0.003221</td>\n",
       "      <td>0.006087</td>\n",
       "      <td>0.000677</td>\n",
       "      <td>0.001619</td>\n",
       "    </tr>\n",
       "    <tr>\n",
       "      <th>25%</th>\n",
       "      <td>0.266530</td>\n",
       "      <td>0.291856</td>\n",
       "      <td>0.275958</td>\n",
       "      <td>0.225955</td>\n",
       "      <td>0.253616</td>\n",
       "    </tr>\n",
       "    <tr>\n",
       "      <th>50%</th>\n",
       "      <td>0.524903</td>\n",
       "      <td>0.544120</td>\n",
       "      <td>0.498824</td>\n",
       "      <td>0.486123</td>\n",
       "      <td>0.502969</td>\n",
       "    </tr>\n",
       "    <tr>\n",
       "      <th>75%</th>\n",
       "      <td>0.770232</td>\n",
       "      <td>0.755031</td>\n",
       "      <td>0.758125</td>\n",
       "      <td>0.738512</td>\n",
       "      <td>0.742498</td>\n",
       "    </tr>\n",
       "    <tr>\n",
       "      <th>max</th>\n",
       "      <td>0.996860</td>\n",
       "      <td>0.995377</td>\n",
       "      <td>0.996208</td>\n",
       "      <td>0.999514</td>\n",
       "      <td>0.993394</td>\n",
       "    </tr>\n",
       "  </tbody>\n",
       "</table>\n",
       "</div>"
      ],
      "text/plain": [
       "                0           1           2           3           4\n",
       "count  334.000000  334.000000  334.000000  334.000000  334.000000\n",
       "mean     0.514542    0.524246    0.518095    0.492071    0.498725\n",
       "std      0.285607    0.281581    0.288812    0.288791    0.284334\n",
       "min      0.002447    0.003221    0.006087    0.000677    0.001619\n",
       "25%      0.266530    0.291856    0.275958    0.225955    0.253616\n",
       "50%      0.524903    0.544120    0.498824    0.486123    0.502969\n",
       "75%      0.770232    0.755031    0.758125    0.738512    0.742498\n",
       "max      0.996860    0.995377    0.996208    0.999514    0.993394"
      ]
     },
     "execution_count": 30,
     "metadata": {},
     "output_type": "execute_result"
    }
   ],
   "source": [
    "newdf.describe()"
   ]
  },
  {
   "cell_type": "code",
   "execution_count": 31,
   "id": "c418badd",
   "metadata": {},
   "outputs": [
    {
     "data": {
      "text/plain": [
       "0    float64\n",
       "1    float64\n",
       "2    float64\n",
       "3    float64\n",
       "4    float64\n",
       "dtype: object"
      ]
     },
     "execution_count": 31,
     "metadata": {},
     "output_type": "execute_result"
    }
   ],
   "source": [
    "newdf.dtypes"
   ]
  },
  {
   "cell_type": "markdown",
   "id": "88dd84a7",
   "metadata": {},
   "source": [
    "*ye hume hume bata raha hai kya kya data type hai humare columns ke*"
   ]
  },
  {
   "cell_type": "code",
   "execution_count": 32,
   "id": "4cf0533d",
   "metadata": {},
   "outputs": [],
   "source": [
    "newdf[0][0]='sanjiv'"
   ]
  },
  {
   "cell_type": "code",
   "execution_count": 33,
   "id": "b6b782b8",
   "metadata": {},
   "outputs": [
    {
     "data": {
      "text/plain": [
       "0     object\n",
       "1    float64\n",
       "2    float64\n",
       "3    float64\n",
       "4    float64\n",
       "dtype: object"
      ]
     },
     "execution_count": 33,
     "metadata": {},
     "output_type": "execute_result"
    }
   ],
   "source": [
    "newdf.dtypes"
   ]
  },
  {
   "cell_type": "markdown",
   "id": "ab9b275e",
   "metadata": {},
   "source": [
    "*to aap dekh sakte hai humne iska data type change kar diya column 0 par abb ye ***object*** dikha raha hai kyuki humne yahan par ek ***string*** dal diya hai*"
   ]
  },
  {
   "cell_type": "code",
   "execution_count": 34,
   "id": "7acb4805",
   "metadata": {},
   "outputs": [
    {
     "data": {
      "text/html": [
       "<div>\n",
       "<style scoped>\n",
       "    .dataframe tbody tr th:only-of-type {\n",
       "        vertical-align: middle;\n",
       "    }\n",
       "\n",
       "    .dataframe tbody tr th {\n",
       "        vertical-align: top;\n",
       "    }\n",
       "\n",
       "    .dataframe thead th {\n",
       "        text-align: right;\n",
       "    }\n",
       "</style>\n",
       "<table border=\"1\" class=\"dataframe\">\n",
       "  <thead>\n",
       "    <tr style=\"text-align: right;\">\n",
       "      <th></th>\n",
       "      <th>0</th>\n",
       "      <th>1</th>\n",
       "      <th>2</th>\n",
       "      <th>3</th>\n",
       "      <th>4</th>\n",
       "    </tr>\n",
       "  </thead>\n",
       "  <tbody>\n",
       "    <tr>\n",
       "      <th>0</th>\n",
       "      <td>sanjiv</td>\n",
       "      <td>0.735723</td>\n",
       "      <td>0.351642</td>\n",
       "      <td>0.316163</td>\n",
       "      <td>0.028390</td>\n",
       "    </tr>\n",
       "    <tr>\n",
       "      <th>1</th>\n",
       "      <td>0.490249</td>\n",
       "      <td>0.464304</td>\n",
       "      <td>0.337367</td>\n",
       "      <td>0.814775</td>\n",
       "      <td>0.299901</td>\n",
       "    </tr>\n",
       "    <tr>\n",
       "      <th>2</th>\n",
       "      <td>0.262267</td>\n",
       "      <td>0.937619</td>\n",
       "      <td>0.831524</td>\n",
       "      <td>0.118030</td>\n",
       "      <td>0.525206</td>\n",
       "    </tr>\n",
       "    <tr>\n",
       "      <th>3</th>\n",
       "      <td>0.287334</td>\n",
       "      <td>0.974052</td>\n",
       "      <td>0.944044</td>\n",
       "      <td>0.869090</td>\n",
       "      <td>0.136935</td>\n",
       "    </tr>\n",
       "    <tr>\n",
       "      <th>4</th>\n",
       "      <td>0.840038</td>\n",
       "      <td>0.276021</td>\n",
       "      <td>0.140503</td>\n",
       "      <td>0.599835</td>\n",
       "      <td>0.511210</td>\n",
       "    </tr>\n",
       "  </tbody>\n",
       "</table>\n",
       "</div>"
      ],
      "text/plain": [
       "          0         1         2         3         4\n",
       "0    sanjiv  0.735723  0.351642  0.316163  0.028390\n",
       "1  0.490249  0.464304  0.337367  0.814775  0.299901\n",
       "2  0.262267  0.937619  0.831524  0.118030  0.525206\n",
       "3  0.287334  0.974052  0.944044  0.869090  0.136935\n",
       "4  0.840038  0.276021  0.140503  0.599835  0.511210"
      ]
     },
     "execution_count": 34,
     "metadata": {},
     "output_type": "execute_result"
    }
   ],
   "source": [
    "newdf.head()"
   ]
  },
  {
   "cell_type": "markdown",
   "id": "347d3321",
   "metadata": {},
   "source": [
    "*dekh sakte hai humne yahan par ek string dal diya hai*"
   ]
  },
  {
   "cell_type": "code",
   "execution_count": 35,
   "id": "8baad6cc",
   "metadata": {},
   "outputs": [
    {
     "data": {
      "text/plain": [
       "Int64Index([  0,   1,   2,   3,   4,   5,   6,   7,   8,   9,\n",
       "            ...\n",
       "            324, 325, 326, 327, 328, 329, 330, 331, 332, 333],\n",
       "           dtype='int64', length=334)"
      ]
     },
     "execution_count": 35,
     "metadata": {},
     "output_type": "execute_result"
    }
   ],
   "source": [
    "newdf.index"
   ]
  },
  {
   "cell_type": "markdown",
   "id": "fbc02404",
   "metadata": {},
   "source": [
    "*to ye hume humara indexc bata raha hai jo 0 se 333 ja hai or iska length hai 334*"
   ]
  },
  {
   "cell_type": "code",
   "execution_count": 36,
   "id": "185cec5b",
   "metadata": {},
   "outputs": [
    {
     "data": {
      "text/plain": [
       "RangeIndex(start=0, stop=5, step=1)"
      ]
     },
     "execution_count": 36,
     "metadata": {},
     "output_type": "execute_result"
    }
   ],
   "source": [
    "newdf.columns"
   ]
  },
  {
   "cell_type": "markdown",
   "id": "ed79c4ee",
   "metadata": {},
   "source": [
    "*to ye bata hai 0 se 5 tak humara columns hai*"
   ]
  },
  {
   "cell_type": "markdown",
   "id": "e97442ed",
   "metadata": {},
   "source": [
    "## 3.newdf DataFrame ko numpy array me convert karenge"
   ]
  },
  {
   "cell_type": "code",
   "execution_count": 37,
   "id": "fc5f550f",
   "metadata": {},
   "outputs": [
    {
     "data": {
      "text/plain": [
       "array([['sanjiv', 0.735723091454385, 0.3516424862501931,\n",
       "        0.31616291048002754, 0.02838993699248249],\n",
       "       [0.49024859145822886, 0.46430407379111593, 0.33736670619461195,\n",
       "        0.8147754528745774, 0.2999007651510046],\n",
       "       [0.26226696923976545, 0.9376193352594667, 0.8315238265145201,\n",
       "        0.11802968568817018, 0.5252062225648687],\n",
       "       ...,\n",
       "       [0.117436859151556, 0.4604396750677855, 0.8765619304054042,\n",
       "        0.636200826584253, 0.22338142209918777],\n",
       "       [0.381840744234929, 0.5665916447538092, 0.37839918472465905,\n",
       "        0.803675505975083, 0.020226039105047278],\n",
       "       [0.8378166049758905, 0.8303186345675537, 0.09782367544275561,\n",
       "        0.1376419992721637, 0.10283467875826702]], dtype=object)"
      ]
     },
     "execution_count": 37,
     "metadata": {},
     "output_type": "execute_result"
    }
   ],
   "source": [
    "newdf.to_numpy()"
   ]
  },
  {
   "cell_type": "markdown",
   "id": "f770c142",
   "metadata": {},
   "source": [
    "*to isne newdf dataframe ko numpy array me conver kar diya ***par isko iska dtype object hi rakhna pada kyuki hume yaha 0th column par ek string ko dala hai*** .* "
   ]
  },
  {
   "cell_type": "code",
   "execution_count": 38,
   "id": "27ea19b9",
   "metadata": {},
   "outputs": [],
   "source": [
    "newdf[0][0]=0.1"
   ]
  },
  {
   "cell_type": "code",
   "execution_count": 39,
   "id": "8e6f3d6b",
   "metadata": {},
   "outputs": [
    {
     "data": {
      "text/html": [
       "<div>\n",
       "<style scoped>\n",
       "    .dataframe tbody tr th:only-of-type {\n",
       "        vertical-align: middle;\n",
       "    }\n",
       "\n",
       "    .dataframe tbody tr th {\n",
       "        vertical-align: top;\n",
       "    }\n",
       "\n",
       "    .dataframe thead th {\n",
       "        text-align: right;\n",
       "    }\n",
       "</style>\n",
       "<table border=\"1\" class=\"dataframe\">\n",
       "  <thead>\n",
       "    <tr style=\"text-align: right;\">\n",
       "      <th></th>\n",
       "      <th>0</th>\n",
       "      <th>1</th>\n",
       "      <th>2</th>\n",
       "      <th>3</th>\n",
       "      <th>4</th>\n",
       "    </tr>\n",
       "  </thead>\n",
       "  <tbody>\n",
       "    <tr>\n",
       "      <th>0</th>\n",
       "      <td>0.1</td>\n",
       "      <td>0.735723</td>\n",
       "      <td>0.351642</td>\n",
       "      <td>0.316163</td>\n",
       "      <td>0.028390</td>\n",
       "    </tr>\n",
       "    <tr>\n",
       "      <th>1</th>\n",
       "      <td>0.490249</td>\n",
       "      <td>0.464304</td>\n",
       "      <td>0.337367</td>\n",
       "      <td>0.814775</td>\n",
       "      <td>0.299901</td>\n",
       "    </tr>\n",
       "    <tr>\n",
       "      <th>2</th>\n",
       "      <td>0.262267</td>\n",
       "      <td>0.937619</td>\n",
       "      <td>0.831524</td>\n",
       "      <td>0.118030</td>\n",
       "      <td>0.525206</td>\n",
       "    </tr>\n",
       "    <tr>\n",
       "      <th>3</th>\n",
       "      <td>0.287334</td>\n",
       "      <td>0.974052</td>\n",
       "      <td>0.944044</td>\n",
       "      <td>0.869090</td>\n",
       "      <td>0.136935</td>\n",
       "    </tr>\n",
       "    <tr>\n",
       "      <th>4</th>\n",
       "      <td>0.840038</td>\n",
       "      <td>0.276021</td>\n",
       "      <td>0.140503</td>\n",
       "      <td>0.599835</td>\n",
       "      <td>0.511210</td>\n",
       "    </tr>\n",
       "  </tbody>\n",
       "</table>\n",
       "</div>"
      ],
      "text/plain": [
       "          0         1         2         3         4\n",
       "0       0.1  0.735723  0.351642  0.316163  0.028390\n",
       "1  0.490249  0.464304  0.337367  0.814775  0.299901\n",
       "2  0.262267  0.937619  0.831524  0.118030  0.525206\n",
       "3  0.287334  0.974052  0.944044  0.869090  0.136935\n",
       "4  0.840038  0.276021  0.140503  0.599835  0.511210"
      ]
     },
     "execution_count": 39,
     "metadata": {},
     "output_type": "execute_result"
    }
   ],
   "source": [
    "newdf.head()"
   ]
  },
  {
   "cell_type": "code",
   "execution_count": 40,
   "id": "09c40ab8",
   "metadata": {},
   "outputs": [
    {
     "data": {
      "text/plain": [
       "array([[0.1, 0.735723091454385, 0.3516424862501931, 0.31616291048002754,\n",
       "        0.02838993699248249],\n",
       "       [0.49024859145822886, 0.46430407379111593, 0.33736670619461195,\n",
       "        0.8147754528745774, 0.2999007651510046],\n",
       "       [0.26226696923976545, 0.9376193352594667, 0.8315238265145201,\n",
       "        0.11802968568817018, 0.5252062225648687],\n",
       "       ...,\n",
       "       [0.117436859151556, 0.4604396750677855, 0.8765619304054042,\n",
       "        0.636200826584253, 0.22338142209918777],\n",
       "       [0.381840744234929, 0.5665916447538092, 0.37839918472465905,\n",
       "        0.803675505975083, 0.020226039105047278],\n",
       "       [0.8378166049758905, 0.8303186345675537, 0.09782367544275561,\n",
       "        0.1376419992721637, 0.10283467875826702]], dtype=object)"
      ]
     },
     "execution_count": 40,
     "metadata": {},
     "output_type": "execute_result"
    }
   ],
   "source": [
    "newdf.to_numpy()"
   ]
  },
  {
   "cell_type": "markdown",
   "id": "479f60dc",
   "metadata": {},
   "source": [
    "# 4.Attributes"
   ]
  },
  {
   "cell_type": "code",
   "execution_count": 41,
   "id": "d83643b1",
   "metadata": {},
   "outputs": [
    {
     "data": {
      "text/html": [
       "<div>\n",
       "<style scoped>\n",
       "    .dataframe tbody tr th:only-of-type {\n",
       "        vertical-align: middle;\n",
       "    }\n",
       "\n",
       "    .dataframe tbody tr th {\n",
       "        vertical-align: top;\n",
       "    }\n",
       "\n",
       "    .dataframe thead th {\n",
       "        text-align: right;\n",
       "    }\n",
       "</style>\n",
       "<table border=\"1\" class=\"dataframe\">\n",
       "  <thead>\n",
       "    <tr style=\"text-align: right;\">\n",
       "      <th></th>\n",
       "      <th>0</th>\n",
       "      <th>1</th>\n",
       "      <th>2</th>\n",
       "      <th>3</th>\n",
       "      <th>4</th>\n",
       "      <th>5</th>\n",
       "      <th>6</th>\n",
       "      <th>7</th>\n",
       "      <th>8</th>\n",
       "      <th>9</th>\n",
       "      <th>...</th>\n",
       "      <th>324</th>\n",
       "      <th>325</th>\n",
       "      <th>326</th>\n",
       "      <th>327</th>\n",
       "      <th>328</th>\n",
       "      <th>329</th>\n",
       "      <th>330</th>\n",
       "      <th>331</th>\n",
       "      <th>332</th>\n",
       "      <th>333</th>\n",
       "    </tr>\n",
       "  </thead>\n",
       "  <tbody>\n",
       "    <tr>\n",
       "      <th>0</th>\n",
       "      <td>0.1</td>\n",
       "      <td>0.490249</td>\n",
       "      <td>0.262267</td>\n",
       "      <td>0.287334</td>\n",
       "      <td>0.840038</td>\n",
       "      <td>0.154071</td>\n",
       "      <td>0.433174</td>\n",
       "      <td>0.801083</td>\n",
       "      <td>0.338782</td>\n",
       "      <td>0.117987</td>\n",
       "      <td>...</td>\n",
       "      <td>0.468199</td>\n",
       "      <td>0.77043</td>\n",
       "      <td>0.29094</td>\n",
       "      <td>0.943797</td>\n",
       "      <td>0.031679</td>\n",
       "      <td>0.770738</td>\n",
       "      <td>0.845293</td>\n",
       "      <td>0.117437</td>\n",
       "      <td>0.381841</td>\n",
       "      <td>0.837817</td>\n",
       "    </tr>\n",
       "    <tr>\n",
       "      <th>1</th>\n",
       "      <td>0.735723</td>\n",
       "      <td>0.464304</td>\n",
       "      <td>0.937619</td>\n",
       "      <td>0.974052</td>\n",
       "      <td>0.276021</td>\n",
       "      <td>0.032365</td>\n",
       "      <td>0.140683</td>\n",
       "      <td>0.5863</td>\n",
       "      <td>0.177624</td>\n",
       "      <td>0.47847</td>\n",
       "      <td>...</td>\n",
       "      <td>0.259284</td>\n",
       "      <td>0.550451</td>\n",
       "      <td>0.717199</td>\n",
       "      <td>0.840112</td>\n",
       "      <td>0.597769</td>\n",
       "      <td>0.692331</td>\n",
       "      <td>0.832767</td>\n",
       "      <td>0.46044</td>\n",
       "      <td>0.566592</td>\n",
       "      <td>0.830319</td>\n",
       "    </tr>\n",
       "    <tr>\n",
       "      <th>2</th>\n",
       "      <td>0.351642</td>\n",
       "      <td>0.337367</td>\n",
       "      <td>0.831524</td>\n",
       "      <td>0.944044</td>\n",
       "      <td>0.140503</td>\n",
       "      <td>0.077466</td>\n",
       "      <td>0.714506</td>\n",
       "      <td>0.645051</td>\n",
       "      <td>0.225024</td>\n",
       "      <td>0.489211</td>\n",
       "      <td>...</td>\n",
       "      <td>0.675429</td>\n",
       "      <td>0.024828</td>\n",
       "      <td>0.535824</td>\n",
       "      <td>0.985291</td>\n",
       "      <td>0.337845</td>\n",
       "      <td>0.882043</td>\n",
       "      <td>0.497827</td>\n",
       "      <td>0.876562</td>\n",
       "      <td>0.378399</td>\n",
       "      <td>0.097824</td>\n",
       "    </tr>\n",
       "    <tr>\n",
       "      <th>3</th>\n",
       "      <td>0.316163</td>\n",
       "      <td>0.814775</td>\n",
       "      <td>0.11803</td>\n",
       "      <td>0.86909</td>\n",
       "      <td>0.599835</td>\n",
       "      <td>0.50315</td>\n",
       "      <td>0.572959</td>\n",
       "      <td>0.225731</td>\n",
       "      <td>0.661354</td>\n",
       "      <td>0.171562</td>\n",
       "      <td>...</td>\n",
       "      <td>0.70052</td>\n",
       "      <td>0.0646</td>\n",
       "      <td>0.960058</td>\n",
       "      <td>0.858793</td>\n",
       "      <td>0.38578</td>\n",
       "      <td>0.763866</td>\n",
       "      <td>0.485871</td>\n",
       "      <td>0.636201</td>\n",
       "      <td>0.803676</td>\n",
       "      <td>0.137642</td>\n",
       "    </tr>\n",
       "    <tr>\n",
       "      <th>4</th>\n",
       "      <td>0.02839</td>\n",
       "      <td>0.299901</td>\n",
       "      <td>0.525206</td>\n",
       "      <td>0.136935</td>\n",
       "      <td>0.51121</td>\n",
       "      <td>0.778425</td>\n",
       "      <td>0.167123</td>\n",
       "      <td>0.148068</td>\n",
       "      <td>0.671782</td>\n",
       "      <td>0.373822</td>\n",
       "      <td>...</td>\n",
       "      <td>0.663197</td>\n",
       "      <td>0.600671</td>\n",
       "      <td>0.550297</td>\n",
       "      <td>0.809531</td>\n",
       "      <td>0.153512</td>\n",
       "      <td>0.218966</td>\n",
       "      <td>0.769743</td>\n",
       "      <td>0.223381</td>\n",
       "      <td>0.020226</td>\n",
       "      <td>0.102835</td>\n",
       "    </tr>\n",
       "  </tbody>\n",
       "</table>\n",
       "<p>5 rows × 334 columns</p>\n",
       "</div>"
      ],
      "text/plain": [
       "        0         1         2         3         4         5         6    \\\n",
       "0       0.1  0.490249  0.262267  0.287334  0.840038  0.154071  0.433174   \n",
       "1  0.735723  0.464304  0.937619  0.974052  0.276021  0.032365  0.140683   \n",
       "2  0.351642  0.337367  0.831524  0.944044  0.140503  0.077466  0.714506   \n",
       "3  0.316163  0.814775   0.11803   0.86909  0.599835   0.50315  0.572959   \n",
       "4   0.02839  0.299901  0.525206  0.136935   0.51121  0.778425  0.167123   \n",
       "\n",
       "        7         8         9    ...       324       325       326       327  \\\n",
       "0  0.801083  0.338782  0.117987  ...  0.468199   0.77043   0.29094  0.943797   \n",
       "1    0.5863  0.177624   0.47847  ...  0.259284  0.550451  0.717199  0.840112   \n",
       "2  0.645051  0.225024  0.489211  ...  0.675429  0.024828  0.535824  0.985291   \n",
       "3  0.225731  0.661354  0.171562  ...   0.70052    0.0646  0.960058  0.858793   \n",
       "4  0.148068  0.671782  0.373822  ...  0.663197  0.600671  0.550297  0.809531   \n",
       "\n",
       "        328       329       330       331       332       333  \n",
       "0  0.031679  0.770738  0.845293  0.117437  0.381841  0.837817  \n",
       "1  0.597769  0.692331  0.832767   0.46044  0.566592  0.830319  \n",
       "2  0.337845  0.882043  0.497827  0.876562  0.378399  0.097824  \n",
       "3   0.38578  0.763866  0.485871  0.636201  0.803676  0.137642  \n",
       "4  0.153512  0.218966  0.769743  0.223381  0.020226  0.102835  \n",
       "\n",
       "[5 rows x 334 columns]"
      ]
     },
     "execution_count": 41,
     "metadata": {},
     "output_type": "execute_result"
    }
   ],
   "source": [
    "newdf.T"
   ]
  },
  {
   "cell_type": "markdown",
   "id": "a5a2a6a3",
   "metadata": {},
   "source": [
    "*yahan humne dataframe ko ***transpose*** kar diya hai*"
   ]
  },
  {
   "cell_type": "markdown",
   "id": "b2da1237",
   "metadata": {},
   "source": [
    "### Transpose: means columns row me badal jayenge or row column me(pehle 334 row tha humare pass, abb 334 columns hai or 5 rows hai) like matrix ka transpose"
   ]
  },
  {
   "cell_type": "code",
   "execution_count": 42,
   "id": "565667d9",
   "metadata": {},
   "outputs": [
    {
     "data": {
      "text/html": [
       "<div>\n",
       "<style scoped>\n",
       "    .dataframe tbody tr th:only-of-type {\n",
       "        vertical-align: middle;\n",
       "    }\n",
       "\n",
       "    .dataframe tbody tr th {\n",
       "        vertical-align: top;\n",
       "    }\n",
       "\n",
       "    .dataframe thead th {\n",
       "        text-align: right;\n",
       "    }\n",
       "</style>\n",
       "<table border=\"1\" class=\"dataframe\">\n",
       "  <thead>\n",
       "    <tr style=\"text-align: right;\">\n",
       "      <th></th>\n",
       "      <th>0</th>\n",
       "      <th>1</th>\n",
       "      <th>2</th>\n",
       "      <th>3</th>\n",
       "      <th>4</th>\n",
       "    </tr>\n",
       "  </thead>\n",
       "  <tbody>\n",
       "    <tr>\n",
       "      <th>0</th>\n",
       "      <td>0.1</td>\n",
       "      <td>0.735723</td>\n",
       "      <td>0.351642</td>\n",
       "      <td>0.316163</td>\n",
       "      <td>0.028390</td>\n",
       "    </tr>\n",
       "    <tr>\n",
       "      <th>1</th>\n",
       "      <td>0.490249</td>\n",
       "      <td>0.464304</td>\n",
       "      <td>0.337367</td>\n",
       "      <td>0.814775</td>\n",
       "      <td>0.299901</td>\n",
       "    </tr>\n",
       "    <tr>\n",
       "      <th>2</th>\n",
       "      <td>0.262267</td>\n",
       "      <td>0.937619</td>\n",
       "      <td>0.831524</td>\n",
       "      <td>0.118030</td>\n",
       "      <td>0.525206</td>\n",
       "    </tr>\n",
       "    <tr>\n",
       "      <th>3</th>\n",
       "      <td>0.287334</td>\n",
       "      <td>0.974052</td>\n",
       "      <td>0.944044</td>\n",
       "      <td>0.869090</td>\n",
       "      <td>0.136935</td>\n",
       "    </tr>\n",
       "    <tr>\n",
       "      <th>4</th>\n",
       "      <td>0.840038</td>\n",
       "      <td>0.276021</td>\n",
       "      <td>0.140503</td>\n",
       "      <td>0.599835</td>\n",
       "      <td>0.511210</td>\n",
       "    </tr>\n",
       "    <tr>\n",
       "      <th>...</th>\n",
       "      <td>...</td>\n",
       "      <td>...</td>\n",
       "      <td>...</td>\n",
       "      <td>...</td>\n",
       "      <td>...</td>\n",
       "    </tr>\n",
       "    <tr>\n",
       "      <th>329</th>\n",
       "      <td>0.770738</td>\n",
       "      <td>0.692331</td>\n",
       "      <td>0.882043</td>\n",
       "      <td>0.763866</td>\n",
       "      <td>0.218966</td>\n",
       "    </tr>\n",
       "    <tr>\n",
       "      <th>330</th>\n",
       "      <td>0.845293</td>\n",
       "      <td>0.832767</td>\n",
       "      <td>0.497827</td>\n",
       "      <td>0.485871</td>\n",
       "      <td>0.769743</td>\n",
       "    </tr>\n",
       "    <tr>\n",
       "      <th>331</th>\n",
       "      <td>0.117437</td>\n",
       "      <td>0.460440</td>\n",
       "      <td>0.876562</td>\n",
       "      <td>0.636201</td>\n",
       "      <td>0.223381</td>\n",
       "    </tr>\n",
       "    <tr>\n",
       "      <th>332</th>\n",
       "      <td>0.381841</td>\n",
       "      <td>0.566592</td>\n",
       "      <td>0.378399</td>\n",
       "      <td>0.803676</td>\n",
       "      <td>0.020226</td>\n",
       "    </tr>\n",
       "    <tr>\n",
       "      <th>333</th>\n",
       "      <td>0.837817</td>\n",
       "      <td>0.830319</td>\n",
       "      <td>0.097824</td>\n",
       "      <td>0.137642</td>\n",
       "      <td>0.102835</td>\n",
       "    </tr>\n",
       "  </tbody>\n",
       "</table>\n",
       "<p>334 rows × 5 columns</p>\n",
       "</div>"
      ],
      "text/plain": [
       "            0         1         2         3         4\n",
       "0         0.1  0.735723  0.351642  0.316163  0.028390\n",
       "1    0.490249  0.464304  0.337367  0.814775  0.299901\n",
       "2    0.262267  0.937619  0.831524  0.118030  0.525206\n",
       "3    0.287334  0.974052  0.944044  0.869090  0.136935\n",
       "4    0.840038  0.276021  0.140503  0.599835  0.511210\n",
       "..        ...       ...       ...       ...       ...\n",
       "329  0.770738  0.692331  0.882043  0.763866  0.218966\n",
       "330  0.845293  0.832767  0.497827  0.485871  0.769743\n",
       "331  0.117437  0.460440  0.876562  0.636201  0.223381\n",
       "332  0.381841  0.566592  0.378399  0.803676  0.020226\n",
       "333  0.837817  0.830319  0.097824  0.137642  0.102835\n",
       "\n",
       "[334 rows x 5 columns]"
      ]
     },
     "execution_count": 42,
     "metadata": {},
     "output_type": "execute_result"
    }
   ],
   "source": [
    "newdf"
   ]
  },
  {
   "cell_type": "code",
   "execution_count": 43,
   "id": "78c0b1ca",
   "metadata": {},
   "outputs": [
    {
     "data": {
      "text/html": [
       "<div>\n",
       "<style scoped>\n",
       "    .dataframe tbody tr th:only-of-type {\n",
       "        vertical-align: middle;\n",
       "    }\n",
       "\n",
       "    .dataframe tbody tr th {\n",
       "        vertical-align: top;\n",
       "    }\n",
       "\n",
       "    .dataframe thead th {\n",
       "        text-align: right;\n",
       "    }\n",
       "</style>\n",
       "<table border=\"1\" class=\"dataframe\">\n",
       "  <thead>\n",
       "    <tr style=\"text-align: right;\">\n",
       "      <th></th>\n",
       "      <th>0</th>\n",
       "      <th>1</th>\n",
       "      <th>2</th>\n",
       "      <th>3</th>\n",
       "      <th>4</th>\n",
       "    </tr>\n",
       "  </thead>\n",
       "  <tbody>\n",
       "    <tr>\n",
       "      <th>0</th>\n",
       "      <td>0.1</td>\n",
       "      <td>0.735723</td>\n",
       "      <td>0.351642</td>\n",
       "      <td>0.316163</td>\n",
       "      <td>0.028390</td>\n",
       "    </tr>\n",
       "    <tr>\n",
       "      <th>1</th>\n",
       "      <td>0.490249</td>\n",
       "      <td>0.464304</td>\n",
       "      <td>0.337367</td>\n",
       "      <td>0.814775</td>\n",
       "      <td>0.299901</td>\n",
       "    </tr>\n",
       "    <tr>\n",
       "      <th>2</th>\n",
       "      <td>0.262267</td>\n",
       "      <td>0.937619</td>\n",
       "      <td>0.831524</td>\n",
       "      <td>0.118030</td>\n",
       "      <td>0.525206</td>\n",
       "    </tr>\n",
       "    <tr>\n",
       "      <th>3</th>\n",
       "      <td>0.287334</td>\n",
       "      <td>0.974052</td>\n",
       "      <td>0.944044</td>\n",
       "      <td>0.869090</td>\n",
       "      <td>0.136935</td>\n",
       "    </tr>\n",
       "    <tr>\n",
       "      <th>4</th>\n",
       "      <td>0.840038</td>\n",
       "      <td>0.276021</td>\n",
       "      <td>0.140503</td>\n",
       "      <td>0.599835</td>\n",
       "      <td>0.511210</td>\n",
       "    </tr>\n",
       "  </tbody>\n",
       "</table>\n",
       "</div>"
      ],
      "text/plain": [
       "          0         1         2         3         4\n",
       "0       0.1  0.735723  0.351642  0.316163  0.028390\n",
       "1  0.490249  0.464304  0.337367  0.814775  0.299901\n",
       "2  0.262267  0.937619  0.831524  0.118030  0.525206\n",
       "3  0.287334  0.974052  0.944044  0.869090  0.136935\n",
       "4  0.840038  0.276021  0.140503  0.599835  0.511210"
      ]
     },
     "execution_count": 43,
     "metadata": {},
     "output_type": "execute_result"
    }
   ],
   "source": [
    "newdf.head()"
   ]
  },
  {
   "cell_type": "markdown",
   "id": "13d8fbb0",
   "metadata": {},
   "source": [
    "# 5.Sorting"
   ]
  },
  {
   "cell_type": "code",
   "execution_count": 44,
   "id": "7a62e083",
   "metadata": {},
   "outputs": [
    {
     "data": {
      "text/html": [
       "<div>\n",
       "<style scoped>\n",
       "    .dataframe tbody tr th:only-of-type {\n",
       "        vertical-align: middle;\n",
       "    }\n",
       "\n",
       "    .dataframe tbody tr th {\n",
       "        vertical-align: top;\n",
       "    }\n",
       "\n",
       "    .dataframe thead th {\n",
       "        text-align: right;\n",
       "    }\n",
       "</style>\n",
       "<table border=\"1\" class=\"dataframe\">\n",
       "  <thead>\n",
       "    <tr style=\"text-align: right;\">\n",
       "      <th></th>\n",
       "      <th>0</th>\n",
       "      <th>1</th>\n",
       "      <th>2</th>\n",
       "      <th>3</th>\n",
       "      <th>4</th>\n",
       "    </tr>\n",
       "  </thead>\n",
       "  <tbody>\n",
       "    <tr>\n",
       "      <th>333</th>\n",
       "      <td>0.837817</td>\n",
       "      <td>0.830319</td>\n",
       "      <td>0.097824</td>\n",
       "      <td>0.137642</td>\n",
       "      <td>0.102835</td>\n",
       "    </tr>\n",
       "    <tr>\n",
       "      <th>332</th>\n",
       "      <td>0.381841</td>\n",
       "      <td>0.566592</td>\n",
       "      <td>0.378399</td>\n",
       "      <td>0.803676</td>\n",
       "      <td>0.020226</td>\n",
       "    </tr>\n",
       "    <tr>\n",
       "      <th>331</th>\n",
       "      <td>0.117437</td>\n",
       "      <td>0.460440</td>\n",
       "      <td>0.876562</td>\n",
       "      <td>0.636201</td>\n",
       "      <td>0.223381</td>\n",
       "    </tr>\n",
       "    <tr>\n",
       "      <th>330</th>\n",
       "      <td>0.845293</td>\n",
       "      <td>0.832767</td>\n",
       "      <td>0.497827</td>\n",
       "      <td>0.485871</td>\n",
       "      <td>0.769743</td>\n",
       "    </tr>\n",
       "    <tr>\n",
       "      <th>329</th>\n",
       "      <td>0.770738</td>\n",
       "      <td>0.692331</td>\n",
       "      <td>0.882043</td>\n",
       "      <td>0.763866</td>\n",
       "      <td>0.218966</td>\n",
       "    </tr>\n",
       "    <tr>\n",
       "      <th>...</th>\n",
       "      <td>...</td>\n",
       "      <td>...</td>\n",
       "      <td>...</td>\n",
       "      <td>...</td>\n",
       "      <td>...</td>\n",
       "    </tr>\n",
       "    <tr>\n",
       "      <th>4</th>\n",
       "      <td>0.840038</td>\n",
       "      <td>0.276021</td>\n",
       "      <td>0.140503</td>\n",
       "      <td>0.599835</td>\n",
       "      <td>0.511210</td>\n",
       "    </tr>\n",
       "    <tr>\n",
       "      <th>3</th>\n",
       "      <td>0.287334</td>\n",
       "      <td>0.974052</td>\n",
       "      <td>0.944044</td>\n",
       "      <td>0.869090</td>\n",
       "      <td>0.136935</td>\n",
       "    </tr>\n",
       "    <tr>\n",
       "      <th>2</th>\n",
       "      <td>0.262267</td>\n",
       "      <td>0.937619</td>\n",
       "      <td>0.831524</td>\n",
       "      <td>0.118030</td>\n",
       "      <td>0.525206</td>\n",
       "    </tr>\n",
       "    <tr>\n",
       "      <th>1</th>\n",
       "      <td>0.490249</td>\n",
       "      <td>0.464304</td>\n",
       "      <td>0.337367</td>\n",
       "      <td>0.814775</td>\n",
       "      <td>0.299901</td>\n",
       "    </tr>\n",
       "    <tr>\n",
       "      <th>0</th>\n",
       "      <td>0.1</td>\n",
       "      <td>0.735723</td>\n",
       "      <td>0.351642</td>\n",
       "      <td>0.316163</td>\n",
       "      <td>0.028390</td>\n",
       "    </tr>\n",
       "  </tbody>\n",
       "</table>\n",
       "<p>334 rows × 5 columns</p>\n",
       "</div>"
      ],
      "text/plain": [
       "            0         1         2         3         4\n",
       "333  0.837817  0.830319  0.097824  0.137642  0.102835\n",
       "332  0.381841  0.566592  0.378399  0.803676  0.020226\n",
       "331  0.117437  0.460440  0.876562  0.636201  0.223381\n",
       "330  0.845293  0.832767  0.497827  0.485871  0.769743\n",
       "329  0.770738  0.692331  0.882043  0.763866  0.218966\n",
       "..        ...       ...       ...       ...       ...\n",
       "4    0.840038  0.276021  0.140503  0.599835  0.511210\n",
       "3    0.287334  0.974052  0.944044  0.869090  0.136935\n",
       "2    0.262267  0.937619  0.831524  0.118030  0.525206\n",
       "1    0.490249  0.464304  0.337367  0.814775  0.299901\n",
       "0         0.1  0.735723  0.351642  0.316163  0.028390\n",
       "\n",
       "[334 rows x 5 columns]"
      ]
     },
     "execution_count": 44,
     "metadata": {},
     "output_type": "execute_result"
    }
   ],
   "source": [
    "newdf.sort_index(axis=0, ascending=False)"
   ]
  },
  {
   "cell_type": "markdown",
   "id": "0f38b014",
   "metadata": {},
   "source": [
    "*to ***axis=0 means rows*** to humne yaha rows ko ulta sort kiya hai*"
   ]
  },
  {
   "cell_type": "code",
   "execution_count": 45,
   "id": "9812fd48",
   "metadata": {},
   "outputs": [
    {
     "data": {
      "text/html": [
       "<div>\n",
       "<style scoped>\n",
       "    .dataframe tbody tr th:only-of-type {\n",
       "        vertical-align: middle;\n",
       "    }\n",
       "\n",
       "    .dataframe tbody tr th {\n",
       "        vertical-align: top;\n",
       "    }\n",
       "\n",
       "    .dataframe thead th {\n",
       "        text-align: right;\n",
       "    }\n",
       "</style>\n",
       "<table border=\"1\" class=\"dataframe\">\n",
       "  <thead>\n",
       "    <tr style=\"text-align: right;\">\n",
       "      <th></th>\n",
       "      <th>4</th>\n",
       "      <th>3</th>\n",
       "      <th>2</th>\n",
       "      <th>1</th>\n",
       "      <th>0</th>\n",
       "    </tr>\n",
       "  </thead>\n",
       "  <tbody>\n",
       "    <tr>\n",
       "      <th>0</th>\n",
       "      <td>0.028390</td>\n",
       "      <td>0.316163</td>\n",
       "      <td>0.351642</td>\n",
       "      <td>0.735723</td>\n",
       "      <td>0.1</td>\n",
       "    </tr>\n",
       "    <tr>\n",
       "      <th>1</th>\n",
       "      <td>0.299901</td>\n",
       "      <td>0.814775</td>\n",
       "      <td>0.337367</td>\n",
       "      <td>0.464304</td>\n",
       "      <td>0.490249</td>\n",
       "    </tr>\n",
       "    <tr>\n",
       "      <th>2</th>\n",
       "      <td>0.525206</td>\n",
       "      <td>0.118030</td>\n",
       "      <td>0.831524</td>\n",
       "      <td>0.937619</td>\n",
       "      <td>0.262267</td>\n",
       "    </tr>\n",
       "    <tr>\n",
       "      <th>3</th>\n",
       "      <td>0.136935</td>\n",
       "      <td>0.869090</td>\n",
       "      <td>0.944044</td>\n",
       "      <td>0.974052</td>\n",
       "      <td>0.287334</td>\n",
       "    </tr>\n",
       "    <tr>\n",
       "      <th>4</th>\n",
       "      <td>0.511210</td>\n",
       "      <td>0.599835</td>\n",
       "      <td>0.140503</td>\n",
       "      <td>0.276021</td>\n",
       "      <td>0.840038</td>\n",
       "    </tr>\n",
       "    <tr>\n",
       "      <th>...</th>\n",
       "      <td>...</td>\n",
       "      <td>...</td>\n",
       "      <td>...</td>\n",
       "      <td>...</td>\n",
       "      <td>...</td>\n",
       "    </tr>\n",
       "    <tr>\n",
       "      <th>329</th>\n",
       "      <td>0.218966</td>\n",
       "      <td>0.763866</td>\n",
       "      <td>0.882043</td>\n",
       "      <td>0.692331</td>\n",
       "      <td>0.770738</td>\n",
       "    </tr>\n",
       "    <tr>\n",
       "      <th>330</th>\n",
       "      <td>0.769743</td>\n",
       "      <td>0.485871</td>\n",
       "      <td>0.497827</td>\n",
       "      <td>0.832767</td>\n",
       "      <td>0.845293</td>\n",
       "    </tr>\n",
       "    <tr>\n",
       "      <th>331</th>\n",
       "      <td>0.223381</td>\n",
       "      <td>0.636201</td>\n",
       "      <td>0.876562</td>\n",
       "      <td>0.460440</td>\n",
       "      <td>0.117437</td>\n",
       "    </tr>\n",
       "    <tr>\n",
       "      <th>332</th>\n",
       "      <td>0.020226</td>\n",
       "      <td>0.803676</td>\n",
       "      <td>0.378399</td>\n",
       "      <td>0.566592</td>\n",
       "      <td>0.381841</td>\n",
       "    </tr>\n",
       "    <tr>\n",
       "      <th>333</th>\n",
       "      <td>0.102835</td>\n",
       "      <td>0.137642</td>\n",
       "      <td>0.097824</td>\n",
       "      <td>0.830319</td>\n",
       "      <td>0.837817</td>\n",
       "    </tr>\n",
       "  </tbody>\n",
       "</table>\n",
       "<p>334 rows × 5 columns</p>\n",
       "</div>"
      ],
      "text/plain": [
       "            4         3         2         1         0\n",
       "0    0.028390  0.316163  0.351642  0.735723       0.1\n",
       "1    0.299901  0.814775  0.337367  0.464304  0.490249\n",
       "2    0.525206  0.118030  0.831524  0.937619  0.262267\n",
       "3    0.136935  0.869090  0.944044  0.974052  0.287334\n",
       "4    0.511210  0.599835  0.140503  0.276021  0.840038\n",
       "..        ...       ...       ...       ...       ...\n",
       "329  0.218966  0.763866  0.882043  0.692331  0.770738\n",
       "330  0.769743  0.485871  0.497827  0.832767  0.845293\n",
       "331  0.223381  0.636201  0.876562  0.460440  0.117437\n",
       "332  0.020226  0.803676  0.378399  0.566592  0.381841\n",
       "333  0.102835  0.137642  0.097824  0.830319  0.837817\n",
       "\n",
       "[334 rows x 5 columns]"
      ]
     },
     "execution_count": 45,
     "metadata": {},
     "output_type": "execute_result"
    }
   ],
   "source": [
    "newdf.sort_index(axis=1, ascending=False)"
   ]
  },
  {
   "cell_type": "markdown",
   "id": "bcd67f12",
   "metadata": {},
   "source": [
    "*or ***axis=1 means column*** to humne yahan column ko ulta sort kiya hai*"
   ]
  },
  {
   "cell_type": "code",
   "execution_count": 46,
   "id": "9f6231c5",
   "metadata": {},
   "outputs": [
    {
     "data": {
      "text/html": [
       "<div>\n",
       "<style scoped>\n",
       "    .dataframe tbody tr th:only-of-type {\n",
       "        vertical-align: middle;\n",
       "    }\n",
       "\n",
       "    .dataframe tbody tr th {\n",
       "        vertical-align: top;\n",
       "    }\n",
       "\n",
       "    .dataframe thead th {\n",
       "        text-align: right;\n",
       "    }\n",
       "</style>\n",
       "<table border=\"1\" class=\"dataframe\">\n",
       "  <thead>\n",
       "    <tr style=\"text-align: right;\">\n",
       "      <th></th>\n",
       "      <th>0</th>\n",
       "      <th>1</th>\n",
       "      <th>2</th>\n",
       "      <th>3</th>\n",
       "      <th>4</th>\n",
       "    </tr>\n",
       "  </thead>\n",
       "  <tbody>\n",
       "    <tr>\n",
       "      <th>0</th>\n",
       "      <td>0.1</td>\n",
       "      <td>0.735723</td>\n",
       "      <td>0.351642</td>\n",
       "      <td>0.316163</td>\n",
       "      <td>0.028390</td>\n",
       "    </tr>\n",
       "    <tr>\n",
       "      <th>1</th>\n",
       "      <td>0.490249</td>\n",
       "      <td>0.464304</td>\n",
       "      <td>0.337367</td>\n",
       "      <td>0.814775</td>\n",
       "      <td>0.299901</td>\n",
       "    </tr>\n",
       "    <tr>\n",
       "      <th>2</th>\n",
       "      <td>0.262267</td>\n",
       "      <td>0.937619</td>\n",
       "      <td>0.831524</td>\n",
       "      <td>0.118030</td>\n",
       "      <td>0.525206</td>\n",
       "    </tr>\n",
       "    <tr>\n",
       "      <th>3</th>\n",
       "      <td>0.287334</td>\n",
       "      <td>0.974052</td>\n",
       "      <td>0.944044</td>\n",
       "      <td>0.869090</td>\n",
       "      <td>0.136935</td>\n",
       "    </tr>\n",
       "    <tr>\n",
       "      <th>4</th>\n",
       "      <td>0.840038</td>\n",
       "      <td>0.276021</td>\n",
       "      <td>0.140503</td>\n",
       "      <td>0.599835</td>\n",
       "      <td>0.511210</td>\n",
       "    </tr>\n",
       "  </tbody>\n",
       "</table>\n",
       "</div>"
      ],
      "text/plain": [
       "          0         1         2         3         4\n",
       "0       0.1  0.735723  0.351642  0.316163  0.028390\n",
       "1  0.490249  0.464304  0.337367  0.814775  0.299901\n",
       "2  0.262267  0.937619  0.831524  0.118030  0.525206\n",
       "3  0.287334  0.974052  0.944044  0.869090  0.136935\n",
       "4  0.840038  0.276021  0.140503  0.599835  0.511210"
      ]
     },
     "execution_count": 46,
     "metadata": {},
     "output_type": "execute_result"
    }
   ],
   "source": [
    "newdf.head()"
   ]
  },
  {
   "cell_type": "code",
   "execution_count": 47,
   "id": "af7de7fd",
   "metadata": {},
   "outputs": [
    {
     "data": {
      "text/plain": [
       "0           0.1\n",
       "1      0.490249\n",
       "2      0.262267\n",
       "3      0.287334\n",
       "4      0.840038\n",
       "         ...   \n",
       "329    0.770738\n",
       "330    0.845293\n",
       "331    0.117437\n",
       "332    0.381841\n",
       "333    0.837817\n",
       "Name: 0, Length: 334, dtype: object"
      ]
     },
     "execution_count": 47,
     "metadata": {},
     "output_type": "execute_result"
    }
   ],
   "source": [
    "newdf[0]"
   ]
  },
  {
   "cell_type": "code",
   "execution_count": 48,
   "id": "d6bf99fd",
   "metadata": {},
   "outputs": [
    {
     "data": {
      "text/plain": [
       "pandas.core.series.Series"
      ]
     },
     "execution_count": 48,
     "metadata": {},
     "output_type": "execute_result"
    }
   ],
   "source": [
    "type(newdf[0])"
   ]
  },
  {
   "cell_type": "markdown",
   "id": "1ab5fbcc",
   "metadata": {},
   "source": [
    "*to aap dekh sakte hai ye ek series hai ***to series ke combination se dataframe banta hai*** .*"
   ]
  },
  {
   "cell_type": "markdown",
   "id": "04dd43cd",
   "metadata": {},
   "source": [
    "# 6.Copy and View\n",
    "### (A).view"
   ]
  },
  {
   "cell_type": "code",
   "execution_count": 49,
   "id": "acc32424",
   "metadata": {},
   "outputs": [],
   "source": [
    "newdf2 = newdf"
   ]
  },
  {
   "cell_type": "markdown",
   "id": "f8e71028",
   "metadata": {},
   "source": [
    "*aapko kya lagta hai kya newdf pura ka pura copy ho kar ek naya banega, aisa nahi hoga ***newdf2 jo hai bs ek view hai*** .* "
   ]
  },
  {
   "cell_type": "code",
   "execution_count": 50,
   "id": "988bf8b8",
   "metadata": {},
   "outputs": [],
   "source": [
    "newdf2[0][0] = 9856 "
   ]
  },
  {
   "cell_type": "code",
   "execution_count": 51,
   "id": "ab5eebea",
   "metadata": {},
   "outputs": [
    {
     "data": {
      "text/html": [
       "<div>\n",
       "<style scoped>\n",
       "    .dataframe tbody tr th:only-of-type {\n",
       "        vertical-align: middle;\n",
       "    }\n",
       "\n",
       "    .dataframe tbody tr th {\n",
       "        vertical-align: top;\n",
       "    }\n",
       "\n",
       "    .dataframe thead th {\n",
       "        text-align: right;\n",
       "    }\n",
       "</style>\n",
       "<table border=\"1\" class=\"dataframe\">\n",
       "  <thead>\n",
       "    <tr style=\"text-align: right;\">\n",
       "      <th></th>\n",
       "      <th>0</th>\n",
       "      <th>1</th>\n",
       "      <th>2</th>\n",
       "      <th>3</th>\n",
       "      <th>4</th>\n",
       "    </tr>\n",
       "  </thead>\n",
       "  <tbody>\n",
       "    <tr>\n",
       "      <th>0</th>\n",
       "      <td>9856</td>\n",
       "      <td>0.735723</td>\n",
       "      <td>0.351642</td>\n",
       "      <td>0.316163</td>\n",
       "      <td>0.028390</td>\n",
       "    </tr>\n",
       "    <tr>\n",
       "      <th>1</th>\n",
       "      <td>0.490249</td>\n",
       "      <td>0.464304</td>\n",
       "      <td>0.337367</td>\n",
       "      <td>0.814775</td>\n",
       "      <td>0.299901</td>\n",
       "    </tr>\n",
       "    <tr>\n",
       "      <th>2</th>\n",
       "      <td>0.262267</td>\n",
       "      <td>0.937619</td>\n",
       "      <td>0.831524</td>\n",
       "      <td>0.118030</td>\n",
       "      <td>0.525206</td>\n",
       "    </tr>\n",
       "    <tr>\n",
       "      <th>3</th>\n",
       "      <td>0.287334</td>\n",
       "      <td>0.974052</td>\n",
       "      <td>0.944044</td>\n",
       "      <td>0.869090</td>\n",
       "      <td>0.136935</td>\n",
       "    </tr>\n",
       "    <tr>\n",
       "      <th>4</th>\n",
       "      <td>0.840038</td>\n",
       "      <td>0.276021</td>\n",
       "      <td>0.140503</td>\n",
       "      <td>0.599835</td>\n",
       "      <td>0.511210</td>\n",
       "    </tr>\n",
       "    <tr>\n",
       "      <th>...</th>\n",
       "      <td>...</td>\n",
       "      <td>...</td>\n",
       "      <td>...</td>\n",
       "      <td>...</td>\n",
       "      <td>...</td>\n",
       "    </tr>\n",
       "    <tr>\n",
       "      <th>329</th>\n",
       "      <td>0.770738</td>\n",
       "      <td>0.692331</td>\n",
       "      <td>0.882043</td>\n",
       "      <td>0.763866</td>\n",
       "      <td>0.218966</td>\n",
       "    </tr>\n",
       "    <tr>\n",
       "      <th>330</th>\n",
       "      <td>0.845293</td>\n",
       "      <td>0.832767</td>\n",
       "      <td>0.497827</td>\n",
       "      <td>0.485871</td>\n",
       "      <td>0.769743</td>\n",
       "    </tr>\n",
       "    <tr>\n",
       "      <th>331</th>\n",
       "      <td>0.117437</td>\n",
       "      <td>0.460440</td>\n",
       "      <td>0.876562</td>\n",
       "      <td>0.636201</td>\n",
       "      <td>0.223381</td>\n",
       "    </tr>\n",
       "    <tr>\n",
       "      <th>332</th>\n",
       "      <td>0.381841</td>\n",
       "      <td>0.566592</td>\n",
       "      <td>0.378399</td>\n",
       "      <td>0.803676</td>\n",
       "      <td>0.020226</td>\n",
       "    </tr>\n",
       "    <tr>\n",
       "      <th>333</th>\n",
       "      <td>0.837817</td>\n",
       "      <td>0.830319</td>\n",
       "      <td>0.097824</td>\n",
       "      <td>0.137642</td>\n",
       "      <td>0.102835</td>\n",
       "    </tr>\n",
       "  </tbody>\n",
       "</table>\n",
       "<p>334 rows × 5 columns</p>\n",
       "</div>"
      ],
      "text/plain": [
       "            0         1         2         3         4\n",
       "0        9856  0.735723  0.351642  0.316163  0.028390\n",
       "1    0.490249  0.464304  0.337367  0.814775  0.299901\n",
       "2    0.262267  0.937619  0.831524  0.118030  0.525206\n",
       "3    0.287334  0.974052  0.944044  0.869090  0.136935\n",
       "4    0.840038  0.276021  0.140503  0.599835  0.511210\n",
       "..        ...       ...       ...       ...       ...\n",
       "329  0.770738  0.692331  0.882043  0.763866  0.218966\n",
       "330  0.845293  0.832767  0.497827  0.485871  0.769743\n",
       "331  0.117437  0.460440  0.876562  0.636201  0.223381\n",
       "332  0.381841  0.566592  0.378399  0.803676  0.020226\n",
       "333  0.837817  0.830319  0.097824  0.137642  0.102835\n",
       "\n",
       "[334 rows x 5 columns]"
      ]
     },
     "execution_count": 51,
     "metadata": {},
     "output_type": "execute_result"
    }
   ],
   "source": [
    "newdf"
   ]
  },
  {
   "cell_type": "markdown",
   "id": "49e3f82b",
   "metadata": {},
   "source": [
    "*to aap dekh sakte hai jo humne newdf2 me 9856 ko set kiya wo yahan newdf me aa gaya to aisa kyu hua?*<br>**to yahan par hua kya newdf2 newdf ka ek view hai, view ka mtlb \"ki wo memmory location me to wohi par hai, bas usko point kar raha hai. Bas ek tarah se ponter ki tarah aap samajh lo*** *newdf2 ko change karne se newdf bhi change ho jayega*  "
   ]
  },
  {
   "cell_type": "markdown",
   "id": "584baa4d",
   "metadata": {},
   "source": [
    "## (B).Copy"
   ]
  },
  {
   "cell_type": "code",
   "execution_count": 52,
   "id": "1f9a1dbb",
   "metadata": {},
   "outputs": [],
   "source": [
    "newdf2 = newdf.copy()"
   ]
  },
  {
   "cell_type": "markdown",
   "id": "e776ea7d",
   "metadata": {},
   "source": [
    "*hum copy ke liye .copy ka istemal karte hai jo ki ek dataframe ka function hota hai*"
   ]
  },
  {
   "cell_type": "code",
   "execution_count": 53,
   "id": "a97e9ecc",
   "metadata": {},
   "outputs": [
    {
     "name": "stderr",
     "output_type": "stream",
     "text": [
      "C:\\Users\\SANJIV~1\\AppData\\Local\\Temp/ipykernel_11692/501776143.py:1: SettingWithCopyWarning: \n",
      "A value is trying to be set on a copy of a slice from a DataFrame\n",
      "\n",
      "See the caveats in the documentation: https://pandas.pydata.org/pandas-docs/stable/user_guide/indexing.html#returning-a-view-versus-a-copy\n",
      "  newdf2[0][0] =98562\n"
     ]
    }
   ],
   "source": [
    "newdf2[0][0] =98562"
   ]
  },
  {
   "cell_type": "code",
   "execution_count": 54,
   "id": "6256322a",
   "metadata": {},
   "outputs": [
    {
     "data": {
      "text/html": [
       "<div>\n",
       "<style scoped>\n",
       "    .dataframe tbody tr th:only-of-type {\n",
       "        vertical-align: middle;\n",
       "    }\n",
       "\n",
       "    .dataframe tbody tr th {\n",
       "        vertical-align: top;\n",
       "    }\n",
       "\n",
       "    .dataframe thead th {\n",
       "        text-align: right;\n",
       "    }\n",
       "</style>\n",
       "<table border=\"1\" class=\"dataframe\">\n",
       "  <thead>\n",
       "    <tr style=\"text-align: right;\">\n",
       "      <th></th>\n",
       "      <th>0</th>\n",
       "      <th>1</th>\n",
       "      <th>2</th>\n",
       "      <th>3</th>\n",
       "      <th>4</th>\n",
       "    </tr>\n",
       "  </thead>\n",
       "  <tbody>\n",
       "    <tr>\n",
       "      <th>0</th>\n",
       "      <td>9856</td>\n",
       "      <td>0.735723</td>\n",
       "      <td>0.351642</td>\n",
       "      <td>0.316163</td>\n",
       "      <td>0.028390</td>\n",
       "    </tr>\n",
       "    <tr>\n",
       "      <th>1</th>\n",
       "      <td>0.490249</td>\n",
       "      <td>0.464304</td>\n",
       "      <td>0.337367</td>\n",
       "      <td>0.814775</td>\n",
       "      <td>0.299901</td>\n",
       "    </tr>\n",
       "    <tr>\n",
       "      <th>2</th>\n",
       "      <td>0.262267</td>\n",
       "      <td>0.937619</td>\n",
       "      <td>0.831524</td>\n",
       "      <td>0.118030</td>\n",
       "      <td>0.525206</td>\n",
       "    </tr>\n",
       "    <tr>\n",
       "      <th>3</th>\n",
       "      <td>0.287334</td>\n",
       "      <td>0.974052</td>\n",
       "      <td>0.944044</td>\n",
       "      <td>0.869090</td>\n",
       "      <td>0.136935</td>\n",
       "    </tr>\n",
       "    <tr>\n",
       "      <th>4</th>\n",
       "      <td>0.840038</td>\n",
       "      <td>0.276021</td>\n",
       "      <td>0.140503</td>\n",
       "      <td>0.599835</td>\n",
       "      <td>0.511210</td>\n",
       "    </tr>\n",
       "    <tr>\n",
       "      <th>...</th>\n",
       "      <td>...</td>\n",
       "      <td>...</td>\n",
       "      <td>...</td>\n",
       "      <td>...</td>\n",
       "      <td>...</td>\n",
       "    </tr>\n",
       "    <tr>\n",
       "      <th>329</th>\n",
       "      <td>0.770738</td>\n",
       "      <td>0.692331</td>\n",
       "      <td>0.882043</td>\n",
       "      <td>0.763866</td>\n",
       "      <td>0.218966</td>\n",
       "    </tr>\n",
       "    <tr>\n",
       "      <th>330</th>\n",
       "      <td>0.845293</td>\n",
       "      <td>0.832767</td>\n",
       "      <td>0.497827</td>\n",
       "      <td>0.485871</td>\n",
       "      <td>0.769743</td>\n",
       "    </tr>\n",
       "    <tr>\n",
       "      <th>331</th>\n",
       "      <td>0.117437</td>\n",
       "      <td>0.460440</td>\n",
       "      <td>0.876562</td>\n",
       "      <td>0.636201</td>\n",
       "      <td>0.223381</td>\n",
       "    </tr>\n",
       "    <tr>\n",
       "      <th>332</th>\n",
       "      <td>0.381841</td>\n",
       "      <td>0.566592</td>\n",
       "      <td>0.378399</td>\n",
       "      <td>0.803676</td>\n",
       "      <td>0.020226</td>\n",
       "    </tr>\n",
       "    <tr>\n",
       "      <th>333</th>\n",
       "      <td>0.837817</td>\n",
       "      <td>0.830319</td>\n",
       "      <td>0.097824</td>\n",
       "      <td>0.137642</td>\n",
       "      <td>0.102835</td>\n",
       "    </tr>\n",
       "  </tbody>\n",
       "</table>\n",
       "<p>334 rows × 5 columns</p>\n",
       "</div>"
      ],
      "text/plain": [
       "            0         1         2         3         4\n",
       "0        9856  0.735723  0.351642  0.316163  0.028390\n",
       "1    0.490249  0.464304  0.337367  0.814775  0.299901\n",
       "2    0.262267  0.937619  0.831524  0.118030  0.525206\n",
       "3    0.287334  0.974052  0.944044  0.869090  0.136935\n",
       "4    0.840038  0.276021  0.140503  0.599835  0.511210\n",
       "..        ...       ...       ...       ...       ...\n",
       "329  0.770738  0.692331  0.882043  0.763866  0.218966\n",
       "330  0.845293  0.832767  0.497827  0.485871  0.769743\n",
       "331  0.117437  0.460440  0.876562  0.636201  0.223381\n",
       "332  0.381841  0.566592  0.378399  0.803676  0.020226\n",
       "333  0.837817  0.830319  0.097824  0.137642  0.102835\n",
       "\n",
       "[334 rows x 5 columns]"
      ]
     },
     "execution_count": 54,
     "metadata": {},
     "output_type": "execute_result"
    }
   ],
   "source": [
    "newdf"
   ]
  },
  {
   "cell_type": "markdown",
   "id": "fef0c117",
   "metadata": {},
   "source": [
    "*to aap dekh sakte hai ab isne newdf me 98562 ko nahi dikhaya kyuki mene yahan par .copy likha*<br><br>***to isiliye dataframe ko equalto karke naya banate hai to copy humesa nahi banti hai jab tak aap .copy ka istemal na kare***<br>*or ye warning kuch usi se related hai*<br><br>**abb hota kya hai ki man lo aap chaining kar rahe ho, aapne bola ki is dataframe ka [0][0] = kuch value kar diya.... to yahan bich me kahan view return karega kahan copy return karega koi guaranty nahi hai. kabhi kabhi ye tarack karna himlog ke liye bhaut muskil ho jata hai ki view return hogi ya copy return hogi.**<br>***kabhi kabhi pandas apni internam memory ke hisab se decide karti hai view return karna hai ki copy return karna hai.***<br><br>**to isiliye hum kabhi kabhi value ko set karte hai to \"loc function\" ka istemal karte hai**  "
   ]
  },
  {
   "cell_type": "markdown",
   "id": "d0e1a753",
   "metadata": {},
   "source": [
    "# 7.loc function\n",
    "**hum loc function ko dot loc karke likhte hai**"
   ]
  },
  {
   "cell_type": "code",
   "execution_count": 55,
   "id": "31fec944",
   "metadata": {},
   "outputs": [],
   "source": [
    "newdf.loc[0,0] = 852"
   ]
  },
  {
   "cell_type": "code",
   "execution_count": 56,
   "id": "06f388bb",
   "metadata": {},
   "outputs": [
    {
     "data": {
      "text/html": [
       "<div>\n",
       "<style scoped>\n",
       "    .dataframe tbody tr th:only-of-type {\n",
       "        vertical-align: middle;\n",
       "    }\n",
       "\n",
       "    .dataframe tbody tr th {\n",
       "        vertical-align: top;\n",
       "    }\n",
       "\n",
       "    .dataframe thead th {\n",
       "        text-align: right;\n",
       "    }\n",
       "</style>\n",
       "<table border=\"1\" class=\"dataframe\">\n",
       "  <thead>\n",
       "    <tr style=\"text-align: right;\">\n",
       "      <th></th>\n",
       "      <th>0</th>\n",
       "      <th>1</th>\n",
       "      <th>2</th>\n",
       "      <th>3</th>\n",
       "      <th>4</th>\n",
       "    </tr>\n",
       "  </thead>\n",
       "  <tbody>\n",
       "    <tr>\n",
       "      <th>0</th>\n",
       "      <td>852</td>\n",
       "      <td>0.735723</td>\n",
       "      <td>0.351642</td>\n",
       "      <td>0.316163</td>\n",
       "      <td>0.028390</td>\n",
       "    </tr>\n",
       "    <tr>\n",
       "      <th>1</th>\n",
       "      <td>0.490249</td>\n",
       "      <td>0.464304</td>\n",
       "      <td>0.337367</td>\n",
       "      <td>0.814775</td>\n",
       "      <td>0.299901</td>\n",
       "    </tr>\n",
       "  </tbody>\n",
       "</table>\n",
       "</div>"
      ],
      "text/plain": [
       "          0         1         2         3         4\n",
       "0       852  0.735723  0.351642  0.316163  0.028390\n",
       "1  0.490249  0.464304  0.337367  0.814775  0.299901"
      ]
     },
     "execution_count": 56,
     "metadata": {},
     "output_type": "execute_result"
    }
   ],
   "source": [
    "newdf.head(2)"
   ]
  },
  {
   "cell_type": "markdown",
   "id": "984a6e40",
   "metadata": {},
   "source": [
    "***to aap dikh sakte hai yahan number change ho gaya hai 852 se, or jo yahan column hai wo kuch bhi ho sakta tha ABCDE***<br><br>*to agar columns ke name ko change kar du to*"
   ]
  },
  {
   "cell_type": "code",
   "execution_count": 57,
   "id": "147b7ba0",
   "metadata": {},
   "outputs": [],
   "source": [
    "newdf.columns = list(\"ABCDE\")"
   ]
  },
  {
   "cell_type": "code",
   "execution_count": 58,
   "id": "03bbd201",
   "metadata": {},
   "outputs": [
    {
     "data": {
      "text/html": [
       "<div>\n",
       "<style scoped>\n",
       "    .dataframe tbody tr th:only-of-type {\n",
       "        vertical-align: middle;\n",
       "    }\n",
       "\n",
       "    .dataframe tbody tr th {\n",
       "        vertical-align: top;\n",
       "    }\n",
       "\n",
       "    .dataframe thead th {\n",
       "        text-align: right;\n",
       "    }\n",
       "</style>\n",
       "<table border=\"1\" class=\"dataframe\">\n",
       "  <thead>\n",
       "    <tr style=\"text-align: right;\">\n",
       "      <th></th>\n",
       "      <th>A</th>\n",
       "      <th>B</th>\n",
       "      <th>C</th>\n",
       "      <th>D</th>\n",
       "      <th>E</th>\n",
       "    </tr>\n",
       "  </thead>\n",
       "  <tbody>\n",
       "    <tr>\n",
       "      <th>0</th>\n",
       "      <td>852</td>\n",
       "      <td>0.735723</td>\n",
       "      <td>0.351642</td>\n",
       "      <td>0.316163</td>\n",
       "      <td>0.028390</td>\n",
       "    </tr>\n",
       "    <tr>\n",
       "      <th>1</th>\n",
       "      <td>0.490249</td>\n",
       "      <td>0.464304</td>\n",
       "      <td>0.337367</td>\n",
       "      <td>0.814775</td>\n",
       "      <td>0.299901</td>\n",
       "    </tr>\n",
       "  </tbody>\n",
       "</table>\n",
       "</div>"
      ],
      "text/plain": [
       "          A         B         C         D         E\n",
       "0       852  0.735723  0.351642  0.316163  0.028390\n",
       "1  0.490249  0.464304  0.337367  0.814775  0.299901"
      ]
     },
     "execution_count": 58,
     "metadata": {},
     "output_type": "execute_result"
    }
   ],
   "source": [
    "newdf.head(2)"
   ]
  },
  {
   "cell_type": "code",
   "execution_count": 59,
   "id": "28f40bfb",
   "metadata": {},
   "outputs": [],
   "source": [
    "newdf.loc[0,0] = 852"
   ]
  },
  {
   "cell_type": "code",
   "execution_count": 60,
   "id": "196d9d76",
   "metadata": {},
   "outputs": [
    {
     "data": {
      "text/html": [
       "<div>\n",
       "<style scoped>\n",
       "    .dataframe tbody tr th:only-of-type {\n",
       "        vertical-align: middle;\n",
       "    }\n",
       "\n",
       "    .dataframe tbody tr th {\n",
       "        vertical-align: top;\n",
       "    }\n",
       "\n",
       "    .dataframe thead th {\n",
       "        text-align: right;\n",
       "    }\n",
       "</style>\n",
       "<table border=\"1\" class=\"dataframe\">\n",
       "  <thead>\n",
       "    <tr style=\"text-align: right;\">\n",
       "      <th></th>\n",
       "      <th>A</th>\n",
       "      <th>B</th>\n",
       "      <th>C</th>\n",
       "      <th>D</th>\n",
       "      <th>E</th>\n",
       "      <th>0</th>\n",
       "    </tr>\n",
       "  </thead>\n",
       "  <tbody>\n",
       "    <tr>\n",
       "      <th>0</th>\n",
       "      <td>852</td>\n",
       "      <td>0.735723</td>\n",
       "      <td>0.351642</td>\n",
       "      <td>0.316163</td>\n",
       "      <td>0.028390</td>\n",
       "      <td>852.0</td>\n",
       "    </tr>\n",
       "    <tr>\n",
       "      <th>1</th>\n",
       "      <td>0.490249</td>\n",
       "      <td>0.464304</td>\n",
       "      <td>0.337367</td>\n",
       "      <td>0.814775</td>\n",
       "      <td>0.299901</td>\n",
       "      <td>NaN</td>\n",
       "    </tr>\n",
       "  </tbody>\n",
       "</table>\n",
       "</div>"
      ],
      "text/plain": [
       "          A         B         C         D         E      0\n",
       "0       852  0.735723  0.351642  0.316163  0.028390  852.0\n",
       "1  0.490249  0.464304  0.337367  0.814775  0.299901    NaN"
      ]
     },
     "execution_count": 60,
     "metadata": {},
     "output_type": "execute_result"
    }
   ],
   "source": [
    "newdf.head(2)"
   ]
  },
  {
   "cell_type": "markdown",
   "id": "e0db2004",
   "metadata": {},
   "source": [
    "*to yahan aap dekh sakte hai ise [0,0] mila hi nahi to isne ek naya column bana diya [0,0] ka* **to ayiye fir dekhte hai hum in columns ke sath loc function ko kaise use kar sakte hai**"
   ]
  },
  {
   "cell_type": "code",
   "execution_count": 61,
   "id": "fe61cb4c",
   "metadata": {},
   "outputs": [],
   "source": [
    "newdf.loc[0,'A'] = 8521"
   ]
  },
  {
   "cell_type": "code",
   "execution_count": 62,
   "id": "602c816e",
   "metadata": {},
   "outputs": [
    {
     "data": {
      "text/html": [
       "<div>\n",
       "<style scoped>\n",
       "    .dataframe tbody tr th:only-of-type {\n",
       "        vertical-align: middle;\n",
       "    }\n",
       "\n",
       "    .dataframe tbody tr th {\n",
       "        vertical-align: top;\n",
       "    }\n",
       "\n",
       "    .dataframe thead th {\n",
       "        text-align: right;\n",
       "    }\n",
       "</style>\n",
       "<table border=\"1\" class=\"dataframe\">\n",
       "  <thead>\n",
       "    <tr style=\"text-align: right;\">\n",
       "      <th></th>\n",
       "      <th>A</th>\n",
       "      <th>B</th>\n",
       "      <th>C</th>\n",
       "      <th>D</th>\n",
       "      <th>E</th>\n",
       "      <th>0</th>\n",
       "    </tr>\n",
       "  </thead>\n",
       "  <tbody>\n",
       "    <tr>\n",
       "      <th>0</th>\n",
       "      <td>8521</td>\n",
       "      <td>0.735723</td>\n",
       "      <td>0.351642</td>\n",
       "      <td>0.316163</td>\n",
       "      <td>0.028390</td>\n",
       "      <td>852.0</td>\n",
       "    </tr>\n",
       "    <tr>\n",
       "      <th>1</th>\n",
       "      <td>0.490249</td>\n",
       "      <td>0.464304</td>\n",
       "      <td>0.337367</td>\n",
       "      <td>0.814775</td>\n",
       "      <td>0.299901</td>\n",
       "      <td>NaN</td>\n",
       "    </tr>\n",
       "  </tbody>\n",
       "</table>\n",
       "</div>"
      ],
      "text/plain": [
       "          A         B         C         D         E      0\n",
       "0      8521  0.735723  0.351642  0.316163  0.028390  852.0\n",
       "1  0.490249  0.464304  0.337367  0.814775  0.299901    NaN"
      ]
     },
     "execution_count": 62,
     "metadata": {},
     "output_type": "execute_result"
    }
   ],
   "source": [
    "newdf.head(2)"
   ]
  },
  {
   "cell_type": "markdown",
   "id": "505e0baf",
   "metadata": {},
   "source": [
    "*to yahan aap dekh sathe hai abb isne change kar diya hai number ko to isko address karane ke hume [0,'A'] likhna padha* ***abb humne jo extra column banaya tha hum usko hutayenge***"
   ]
  },
  {
   "cell_type": "code",
   "execution_count": 63,
   "id": "505b4cf7",
   "metadata": {},
   "outputs": [],
   "source": [
    "newdf = newdf.drop(0, axis=1)"
   ]
  },
  {
   "cell_type": "code",
   "execution_count": 64,
   "id": "712e554f",
   "metadata": {},
   "outputs": [
    {
     "data": {
      "text/html": [
       "<div>\n",
       "<style scoped>\n",
       "    .dataframe tbody tr th:only-of-type {\n",
       "        vertical-align: middle;\n",
       "    }\n",
       "\n",
       "    .dataframe tbody tr th {\n",
       "        vertical-align: top;\n",
       "    }\n",
       "\n",
       "    .dataframe thead th {\n",
       "        text-align: right;\n",
       "    }\n",
       "</style>\n",
       "<table border=\"1\" class=\"dataframe\">\n",
       "  <thead>\n",
       "    <tr style=\"text-align: right;\">\n",
       "      <th></th>\n",
       "      <th>A</th>\n",
       "      <th>B</th>\n",
       "      <th>C</th>\n",
       "      <th>D</th>\n",
       "      <th>E</th>\n",
       "    </tr>\n",
       "  </thead>\n",
       "  <tbody>\n",
       "    <tr>\n",
       "      <th>0</th>\n",
       "      <td>8521</td>\n",
       "      <td>0.735723</td>\n",
       "      <td>0.351642</td>\n",
       "      <td>0.316163</td>\n",
       "      <td>0.028390</td>\n",
       "    </tr>\n",
       "    <tr>\n",
       "      <th>1</th>\n",
       "      <td>0.490249</td>\n",
       "      <td>0.464304</td>\n",
       "      <td>0.337367</td>\n",
       "      <td>0.814775</td>\n",
       "      <td>0.299901</td>\n",
       "    </tr>\n",
       "    <tr>\n",
       "      <th>2</th>\n",
       "      <td>0.262267</td>\n",
       "      <td>0.937619</td>\n",
       "      <td>0.831524</td>\n",
       "      <td>0.118030</td>\n",
       "      <td>0.525206</td>\n",
       "    </tr>\n",
       "    <tr>\n",
       "      <th>3</th>\n",
       "      <td>0.287334</td>\n",
       "      <td>0.974052</td>\n",
       "      <td>0.944044</td>\n",
       "      <td>0.869090</td>\n",
       "      <td>0.136935</td>\n",
       "    </tr>\n",
       "    <tr>\n",
       "      <th>4</th>\n",
       "      <td>0.840038</td>\n",
       "      <td>0.276021</td>\n",
       "      <td>0.140503</td>\n",
       "      <td>0.599835</td>\n",
       "      <td>0.511210</td>\n",
       "    </tr>\n",
       "  </tbody>\n",
       "</table>\n",
       "</div>"
      ],
      "text/plain": [
       "          A         B         C         D         E\n",
       "0      8521  0.735723  0.351642  0.316163  0.028390\n",
       "1  0.490249  0.464304  0.337367  0.814775  0.299901\n",
       "2  0.262267  0.937619  0.831524  0.118030  0.525206\n",
       "3  0.287334  0.974052  0.944044  0.869090  0.136935\n",
       "4  0.840038  0.276021  0.140503  0.599835  0.511210"
      ]
     },
     "execution_count": 64,
     "metadata": {},
     "output_type": "execute_result"
    }
   ],
   "source": [
    "newdf.head()"
   ]
  },
  {
   "cell_type": "markdown",
   "id": "1aa2ed3e",
   "metadata": {},
   "source": [
    "*to aap dekh sakte hai jo extra column tha usko humne hata diya hai, ***kuch set of columns dekhne ke liye hum kya kar sakte hai*** .*"
   ]
  },
  {
   "cell_type": "code",
   "execution_count": 65,
   "id": "234898d3",
   "metadata": {},
   "outputs": [
    {
     "data": {
      "text/html": [
       "<div>\n",
       "<style scoped>\n",
       "    .dataframe tbody tr th:only-of-type {\n",
       "        vertical-align: middle;\n",
       "    }\n",
       "\n",
       "    .dataframe tbody tr th {\n",
       "        vertical-align: top;\n",
       "    }\n",
       "\n",
       "    .dataframe thead th {\n",
       "        text-align: right;\n",
       "    }\n",
       "</style>\n",
       "<table border=\"1\" class=\"dataframe\">\n",
       "  <thead>\n",
       "    <tr style=\"text-align: right;\">\n",
       "      <th></th>\n",
       "      <th>C</th>\n",
       "      <th>D</th>\n",
       "    </tr>\n",
       "  </thead>\n",
       "  <tbody>\n",
       "    <tr>\n",
       "      <th>1</th>\n",
       "      <td>0.337367</td>\n",
       "      <td>0.814775</td>\n",
       "    </tr>\n",
       "    <tr>\n",
       "      <th>2</th>\n",
       "      <td>0.831524</td>\n",
       "      <td>0.118030</td>\n",
       "    </tr>\n",
       "  </tbody>\n",
       "</table>\n",
       "</div>"
      ],
      "text/plain": [
       "          C         D\n",
       "1  0.337367  0.814775\n",
       "2  0.831524  0.118030"
      ]
     },
     "execution_count": 65,
     "metadata": {},
     "output_type": "execute_result"
    }
   ],
   "source": [
    "newdf.loc[[1,2], ['C', 'D']]"
   ]
  },
  {
   "cell_type": "markdown",
   "id": "da8c22c6",
   "metadata": {},
   "source": [
    "*par isse humara newdf change nahi hoga \"ye bas copy ko return kar raha hai inplace change nahi kar raha hai\". usko sirf ye return kar raha hai ek naye dataframe me.*"
   ]
  },
  {
   "cell_type": "code",
   "execution_count": 66,
   "id": "90a99f16",
   "metadata": {},
   "outputs": [
    {
     "data": {
      "text/html": [
       "<div>\n",
       "<style scoped>\n",
       "    .dataframe tbody tr th:only-of-type {\n",
       "        vertical-align: middle;\n",
       "    }\n",
       "\n",
       "    .dataframe tbody tr th {\n",
       "        vertical-align: top;\n",
       "    }\n",
       "\n",
       "    .dataframe thead th {\n",
       "        text-align: right;\n",
       "    }\n",
       "</style>\n",
       "<table border=\"1\" class=\"dataframe\">\n",
       "  <thead>\n",
       "    <tr style=\"text-align: right;\">\n",
       "      <th></th>\n",
       "      <th>A</th>\n",
       "      <th>B</th>\n",
       "      <th>C</th>\n",
       "      <th>D</th>\n",
       "      <th>E</th>\n",
       "    </tr>\n",
       "  </thead>\n",
       "  <tbody>\n",
       "    <tr>\n",
       "      <th>0</th>\n",
       "      <td>8521</td>\n",
       "      <td>0.735723</td>\n",
       "      <td>0.351642</td>\n",
       "      <td>0.316163</td>\n",
       "      <td>0.028390</td>\n",
       "    </tr>\n",
       "    <tr>\n",
       "      <th>1</th>\n",
       "      <td>0.490249</td>\n",
       "      <td>0.464304</td>\n",
       "      <td>0.337367</td>\n",
       "      <td>0.814775</td>\n",
       "      <td>0.299901</td>\n",
       "    </tr>\n",
       "    <tr>\n",
       "      <th>2</th>\n",
       "      <td>0.262267</td>\n",
       "      <td>0.937619</td>\n",
       "      <td>0.831524</td>\n",
       "      <td>0.118030</td>\n",
       "      <td>0.525206</td>\n",
       "    </tr>\n",
       "    <tr>\n",
       "      <th>3</th>\n",
       "      <td>0.287334</td>\n",
       "      <td>0.974052</td>\n",
       "      <td>0.944044</td>\n",
       "      <td>0.869090</td>\n",
       "      <td>0.136935</td>\n",
       "    </tr>\n",
       "    <tr>\n",
       "      <th>4</th>\n",
       "      <td>0.840038</td>\n",
       "      <td>0.276021</td>\n",
       "      <td>0.140503</td>\n",
       "      <td>0.599835</td>\n",
       "      <td>0.511210</td>\n",
       "    </tr>\n",
       "  </tbody>\n",
       "</table>\n",
       "</div>"
      ],
      "text/plain": [
       "          A         B         C         D         E\n",
       "0      8521  0.735723  0.351642  0.316163  0.028390\n",
       "1  0.490249  0.464304  0.337367  0.814775  0.299901\n",
       "2  0.262267  0.937619  0.831524  0.118030  0.525206\n",
       "3  0.287334  0.974052  0.944044  0.869090  0.136935\n",
       "4  0.840038  0.276021  0.140503  0.599835  0.511210"
      ]
     },
     "execution_count": 66,
     "metadata": {},
     "output_type": "execute_result"
    }
   ],
   "source": [
    "newdf.head()"
   ]
  },
  {
   "cell_type": "markdown",
   "id": "dc85abe5",
   "metadata": {},
   "source": [
    "*dekh sakte hai humara newdf waise ka waise hi hai*<br><br>***sare ke sare rows ko dekhne ke liye hum kya kar sakte hai***"
   ]
  },
  {
   "cell_type": "code",
   "execution_count": 67,
   "id": "f8e01128",
   "metadata": {},
   "outputs": [
    {
     "data": {
      "text/html": [
       "<div>\n",
       "<style scoped>\n",
       "    .dataframe tbody tr th:only-of-type {\n",
       "        vertical-align: middle;\n",
       "    }\n",
       "\n",
       "    .dataframe tbody tr th {\n",
       "        vertical-align: top;\n",
       "    }\n",
       "\n",
       "    .dataframe thead th {\n",
       "        text-align: right;\n",
       "    }\n",
       "</style>\n",
       "<table border=\"1\" class=\"dataframe\">\n",
       "  <thead>\n",
       "    <tr style=\"text-align: right;\">\n",
       "      <th></th>\n",
       "      <th>C</th>\n",
       "      <th>D</th>\n",
       "    </tr>\n",
       "  </thead>\n",
       "  <tbody>\n",
       "    <tr>\n",
       "      <th>0</th>\n",
       "      <td>0.351642</td>\n",
       "      <td>0.316163</td>\n",
       "    </tr>\n",
       "    <tr>\n",
       "      <th>1</th>\n",
       "      <td>0.337367</td>\n",
       "      <td>0.814775</td>\n",
       "    </tr>\n",
       "    <tr>\n",
       "      <th>2</th>\n",
       "      <td>0.831524</td>\n",
       "      <td>0.118030</td>\n",
       "    </tr>\n",
       "    <tr>\n",
       "      <th>3</th>\n",
       "      <td>0.944044</td>\n",
       "      <td>0.869090</td>\n",
       "    </tr>\n",
       "    <tr>\n",
       "      <th>4</th>\n",
       "      <td>0.140503</td>\n",
       "      <td>0.599835</td>\n",
       "    </tr>\n",
       "    <tr>\n",
       "      <th>...</th>\n",
       "      <td>...</td>\n",
       "      <td>...</td>\n",
       "    </tr>\n",
       "    <tr>\n",
       "      <th>329</th>\n",
       "      <td>0.882043</td>\n",
       "      <td>0.763866</td>\n",
       "    </tr>\n",
       "    <tr>\n",
       "      <th>330</th>\n",
       "      <td>0.497827</td>\n",
       "      <td>0.485871</td>\n",
       "    </tr>\n",
       "    <tr>\n",
       "      <th>331</th>\n",
       "      <td>0.876562</td>\n",
       "      <td>0.636201</td>\n",
       "    </tr>\n",
       "    <tr>\n",
       "      <th>332</th>\n",
       "      <td>0.378399</td>\n",
       "      <td>0.803676</td>\n",
       "    </tr>\n",
       "    <tr>\n",
       "      <th>333</th>\n",
       "      <td>0.097824</td>\n",
       "      <td>0.137642</td>\n",
       "    </tr>\n",
       "  </tbody>\n",
       "</table>\n",
       "<p>334 rows × 2 columns</p>\n",
       "</div>"
      ],
      "text/plain": [
       "            C         D\n",
       "0    0.351642  0.316163\n",
       "1    0.337367  0.814775\n",
       "2    0.831524  0.118030\n",
       "3    0.944044  0.869090\n",
       "4    0.140503  0.599835\n",
       "..        ...       ...\n",
       "329  0.882043  0.763866\n",
       "330  0.497827  0.485871\n",
       "331  0.876562  0.636201\n",
       "332  0.378399  0.803676\n",
       "333  0.097824  0.137642\n",
       "\n",
       "[334 rows x 2 columns]"
      ]
     },
     "execution_count": 67,
     "metadata": {},
     "output_type": "execute_result"
    }
   ],
   "source": [
    "newdf.loc[:, ['C', 'D']]"
   ]
  },
  {
   "cell_type": "markdown",
   "id": "5ce7f3ab",
   "metadata": {},
   "source": [
    "***sare ke sare columns ko dekhne ke liye hum kya kar sakte hai***"
   ]
  },
  {
   "cell_type": "code",
   "execution_count": 68,
   "id": "28869c31",
   "metadata": {},
   "outputs": [
    {
     "data": {
      "text/html": [
       "<div>\n",
       "<style scoped>\n",
       "    .dataframe tbody tr th:only-of-type {\n",
       "        vertical-align: middle;\n",
       "    }\n",
       "\n",
       "    .dataframe tbody tr th {\n",
       "        vertical-align: top;\n",
       "    }\n",
       "\n",
       "    .dataframe thead th {\n",
       "        text-align: right;\n",
       "    }\n",
       "</style>\n",
       "<table border=\"1\" class=\"dataframe\">\n",
       "  <thead>\n",
       "    <tr style=\"text-align: right;\">\n",
       "      <th></th>\n",
       "      <th>A</th>\n",
       "      <th>B</th>\n",
       "      <th>C</th>\n",
       "      <th>D</th>\n",
       "      <th>E</th>\n",
       "    </tr>\n",
       "  </thead>\n",
       "  <tbody>\n",
       "    <tr>\n",
       "      <th>1</th>\n",
       "      <td>0.490249</td>\n",
       "      <td>0.464304</td>\n",
       "      <td>0.337367</td>\n",
       "      <td>0.814775</td>\n",
       "      <td>0.299901</td>\n",
       "    </tr>\n",
       "    <tr>\n",
       "      <th>2</th>\n",
       "      <td>0.262267</td>\n",
       "      <td>0.937619</td>\n",
       "      <td>0.831524</td>\n",
       "      <td>0.118030</td>\n",
       "      <td>0.525206</td>\n",
       "    </tr>\n",
       "  </tbody>\n",
       "</table>\n",
       "</div>"
      ],
      "text/plain": [
       "          A         B         C         D         E\n",
       "1  0.490249  0.464304  0.337367  0.814775  0.299901\n",
       "2  0.262267  0.937619  0.831524  0.118030  0.525206"
      ]
     },
     "execution_count": 68,
     "metadata": {},
     "output_type": "execute_result"
    }
   ],
   "source": [
    "newdf.loc[[1, 2], :]"
   ]
  },
  {
   "cell_type": "markdown",
   "id": "d5397048",
   "metadata": {},
   "source": [
    "# 8.complex query: searching"
   ]
  },
  {
   "cell_type": "code",
   "execution_count": 69,
   "id": "2d4b88da",
   "metadata": {},
   "outputs": [
    {
     "data": {
      "text/html": [
       "<div>\n",
       "<style scoped>\n",
       "    .dataframe tbody tr th:only-of-type {\n",
       "        vertical-align: middle;\n",
       "    }\n",
       "\n",
       "    .dataframe tbody tr th {\n",
       "        vertical-align: top;\n",
       "    }\n",
       "\n",
       "    .dataframe thead th {\n",
       "        text-align: right;\n",
       "    }\n",
       "</style>\n",
       "<table border=\"1\" class=\"dataframe\">\n",
       "  <thead>\n",
       "    <tr style=\"text-align: right;\">\n",
       "      <th></th>\n",
       "      <th>A</th>\n",
       "      <th>B</th>\n",
       "      <th>C</th>\n",
       "      <th>D</th>\n",
       "      <th>E</th>\n",
       "    </tr>\n",
       "  </thead>\n",
       "  <tbody>\n",
       "    <tr>\n",
       "      <th>2</th>\n",
       "      <td>0.262267</td>\n",
       "      <td>0.937619</td>\n",
       "      <td>0.831524</td>\n",
       "      <td>0.118030</td>\n",
       "      <td>0.525206</td>\n",
       "    </tr>\n",
       "    <tr>\n",
       "      <th>3</th>\n",
       "      <td>0.287334</td>\n",
       "      <td>0.974052</td>\n",
       "      <td>0.944044</td>\n",
       "      <td>0.869090</td>\n",
       "      <td>0.136935</td>\n",
       "    </tr>\n",
       "    <tr>\n",
       "      <th>5</th>\n",
       "      <td>0.154071</td>\n",
       "      <td>0.032365</td>\n",
       "      <td>0.077466</td>\n",
       "      <td>0.503150</td>\n",
       "      <td>0.778425</td>\n",
       "    </tr>\n",
       "    <tr>\n",
       "      <th>9</th>\n",
       "      <td>0.117987</td>\n",
       "      <td>0.478470</td>\n",
       "      <td>0.489211</td>\n",
       "      <td>0.171562</td>\n",
       "      <td>0.373822</td>\n",
       "    </tr>\n",
       "    <tr>\n",
       "      <th>12</th>\n",
       "      <td>0.29989</td>\n",
       "      <td>0.943389</td>\n",
       "      <td>0.884019</td>\n",
       "      <td>0.462270</td>\n",
       "      <td>0.748555</td>\n",
       "    </tr>\n",
       "    <tr>\n",
       "      <th>...</th>\n",
       "      <td>...</td>\n",
       "      <td>...</td>\n",
       "      <td>...</td>\n",
       "      <td>...</td>\n",
       "      <td>...</td>\n",
       "    </tr>\n",
       "    <tr>\n",
       "      <th>315</th>\n",
       "      <td>0.017056</td>\n",
       "      <td>0.080788</td>\n",
       "      <td>0.117911</td>\n",
       "      <td>0.176318</td>\n",
       "      <td>0.327976</td>\n",
       "    </tr>\n",
       "    <tr>\n",
       "      <th>323</th>\n",
       "      <td>0.24903</td>\n",
       "      <td>0.175113</td>\n",
       "      <td>0.157796</td>\n",
       "      <td>0.568432</td>\n",
       "      <td>0.511504</td>\n",
       "    </tr>\n",
       "    <tr>\n",
       "      <th>326</th>\n",
       "      <td>0.29094</td>\n",
       "      <td>0.717199</td>\n",
       "      <td>0.535824</td>\n",
       "      <td>0.960058</td>\n",
       "      <td>0.550297</td>\n",
       "    </tr>\n",
       "    <tr>\n",
       "      <th>328</th>\n",
       "      <td>0.031679</td>\n",
       "      <td>0.597769</td>\n",
       "      <td>0.337845</td>\n",
       "      <td>0.385780</td>\n",
       "      <td>0.153512</td>\n",
       "    </tr>\n",
       "    <tr>\n",
       "      <th>331</th>\n",
       "      <td>0.117437</td>\n",
       "      <td>0.460440</td>\n",
       "      <td>0.876562</td>\n",
       "      <td>0.636201</td>\n",
       "      <td>0.223381</td>\n",
       "    </tr>\n",
       "  </tbody>\n",
       "</table>\n",
       "<p>93 rows × 5 columns</p>\n",
       "</div>"
      ],
      "text/plain": [
       "            A         B         C         D         E\n",
       "2    0.262267  0.937619  0.831524  0.118030  0.525206\n",
       "3    0.287334  0.974052  0.944044  0.869090  0.136935\n",
       "5    0.154071  0.032365  0.077466  0.503150  0.778425\n",
       "9    0.117987  0.478470  0.489211  0.171562  0.373822\n",
       "12    0.29989  0.943389  0.884019  0.462270  0.748555\n",
       "..        ...       ...       ...       ...       ...\n",
       "315  0.017056  0.080788  0.117911  0.176318  0.327976\n",
       "323   0.24903  0.175113  0.157796  0.568432  0.511504\n",
       "326   0.29094  0.717199  0.535824  0.960058  0.550297\n",
       "328  0.031679  0.597769  0.337845  0.385780  0.153512\n",
       "331  0.117437  0.460440  0.876562  0.636201  0.223381\n",
       "\n",
       "[93 rows x 5 columns]"
      ]
     },
     "execution_count": 69,
     "metadata": {},
     "output_type": "execute_result"
    }
   ],
   "source": [
    "newdf.loc[(newdf['A']<0.3)]"
   ]
  },
  {
   "cell_type": "markdown",
   "id": "43007d04",
   "metadata": {},
   "source": [
    "*humne kaha jahan jahan par row meri column A par 0.3 se kam ho dikha do,* ***hum isse or complex query bhi search kar sakte hai***"
   ]
  },
  {
   "cell_type": "code",
   "execution_count": 70,
   "id": "5b95679a",
   "metadata": {},
   "outputs": [
    {
     "data": {
      "text/html": [
       "<div>\n",
       "<style scoped>\n",
       "    .dataframe tbody tr th:only-of-type {\n",
       "        vertical-align: middle;\n",
       "    }\n",
       "\n",
       "    .dataframe tbody tr th {\n",
       "        vertical-align: top;\n",
       "    }\n",
       "\n",
       "    .dataframe thead th {\n",
       "        text-align: right;\n",
       "    }\n",
       "</style>\n",
       "<table border=\"1\" class=\"dataframe\">\n",
       "  <thead>\n",
       "    <tr style=\"text-align: right;\">\n",
       "      <th></th>\n",
       "      <th>A</th>\n",
       "      <th>B</th>\n",
       "      <th>C</th>\n",
       "      <th>D</th>\n",
       "      <th>E</th>\n",
       "    </tr>\n",
       "  </thead>\n",
       "  <tbody>\n",
       "    <tr>\n",
       "      <th>2</th>\n",
       "      <td>0.262267</td>\n",
       "      <td>0.937619</td>\n",
       "      <td>0.831524</td>\n",
       "      <td>0.118030</td>\n",
       "      <td>0.525206</td>\n",
       "    </tr>\n",
       "    <tr>\n",
       "      <th>3</th>\n",
       "      <td>0.287334</td>\n",
       "      <td>0.974052</td>\n",
       "      <td>0.944044</td>\n",
       "      <td>0.869090</td>\n",
       "      <td>0.136935</td>\n",
       "    </tr>\n",
       "    <tr>\n",
       "      <th>9</th>\n",
       "      <td>0.117987</td>\n",
       "      <td>0.478470</td>\n",
       "      <td>0.489211</td>\n",
       "      <td>0.171562</td>\n",
       "      <td>0.373822</td>\n",
       "    </tr>\n",
       "    <tr>\n",
       "      <th>12</th>\n",
       "      <td>0.29989</td>\n",
       "      <td>0.943389</td>\n",
       "      <td>0.884019</td>\n",
       "      <td>0.462270</td>\n",
       "      <td>0.748555</td>\n",
       "    </tr>\n",
       "    <tr>\n",
       "      <th>23</th>\n",
       "      <td>0.201006</td>\n",
       "      <td>0.149415</td>\n",
       "      <td>0.556512</td>\n",
       "      <td>0.045153</td>\n",
       "      <td>0.912707</td>\n",
       "    </tr>\n",
       "    <tr>\n",
       "      <th>...</th>\n",
       "      <td>...</td>\n",
       "      <td>...</td>\n",
       "      <td>...</td>\n",
       "      <td>...</td>\n",
       "      <td>...</td>\n",
       "    </tr>\n",
       "    <tr>\n",
       "      <th>315</th>\n",
       "      <td>0.017056</td>\n",
       "      <td>0.080788</td>\n",
       "      <td>0.117911</td>\n",
       "      <td>0.176318</td>\n",
       "      <td>0.327976</td>\n",
       "    </tr>\n",
       "    <tr>\n",
       "      <th>323</th>\n",
       "      <td>0.24903</td>\n",
       "      <td>0.175113</td>\n",
       "      <td>0.157796</td>\n",
       "      <td>0.568432</td>\n",
       "      <td>0.511504</td>\n",
       "    </tr>\n",
       "    <tr>\n",
       "      <th>326</th>\n",
       "      <td>0.29094</td>\n",
       "      <td>0.717199</td>\n",
       "      <td>0.535824</td>\n",
       "      <td>0.960058</td>\n",
       "      <td>0.550297</td>\n",
       "    </tr>\n",
       "    <tr>\n",
       "      <th>328</th>\n",
       "      <td>0.031679</td>\n",
       "      <td>0.597769</td>\n",
       "      <td>0.337845</td>\n",
       "      <td>0.385780</td>\n",
       "      <td>0.153512</td>\n",
       "    </tr>\n",
       "    <tr>\n",
       "      <th>331</th>\n",
       "      <td>0.117437</td>\n",
       "      <td>0.460440</td>\n",
       "      <td>0.876562</td>\n",
       "      <td>0.636201</td>\n",
       "      <td>0.223381</td>\n",
       "    </tr>\n",
       "  </tbody>\n",
       "</table>\n",
       "<p>86 rows × 5 columns</p>\n",
       "</div>"
      ],
      "text/plain": [
       "            A         B         C         D         E\n",
       "2    0.262267  0.937619  0.831524  0.118030  0.525206\n",
       "3    0.287334  0.974052  0.944044  0.869090  0.136935\n",
       "9    0.117987  0.478470  0.489211  0.171562  0.373822\n",
       "12    0.29989  0.943389  0.884019  0.462270  0.748555\n",
       "23   0.201006  0.149415  0.556512  0.045153  0.912707\n",
       "..        ...       ...       ...       ...       ...\n",
       "315  0.017056  0.080788  0.117911  0.176318  0.327976\n",
       "323   0.24903  0.175113  0.157796  0.568432  0.511504\n",
       "326   0.29094  0.717199  0.535824  0.960058  0.550297\n",
       "328  0.031679  0.597769  0.337845  0.385780  0.153512\n",
       "331  0.117437  0.460440  0.876562  0.636201  0.223381\n",
       "\n",
       "[86 rows x 5 columns]"
      ]
     },
     "execution_count": 70,
     "metadata": {},
     "output_type": "execute_result"
    }
   ],
   "source": [
    "newdf.loc[(newdf['A']<0.3) & (newdf['C']>0.1)]"
   ]
  },
  {
   "cell_type": "markdown",
   "id": "b2bccc66",
   "metadata": {},
   "source": [
    "*to humne yahan ek or condition laga diya hai*"
   ]
  },
  {
   "cell_type": "markdown",
   "id": "a15b57bd",
   "metadata": {},
   "source": [
    "# 9.iloc function\n",
    "***iloc ka istemal hum tab karte hai jab hume index se count karke value ko target karna hota hai, chahe rows or columns ke name kuch bhi ho***"
   ]
  },
  {
   "cell_type": "code",
   "execution_count": 71,
   "id": "eff895c1",
   "metadata": {},
   "outputs": [
    {
     "data": {
      "text/html": [
       "<div>\n",
       "<style scoped>\n",
       "    .dataframe tbody tr th:only-of-type {\n",
       "        vertical-align: middle;\n",
       "    }\n",
       "\n",
       "    .dataframe tbody tr th {\n",
       "        vertical-align: top;\n",
       "    }\n",
       "\n",
       "    .dataframe thead th {\n",
       "        text-align: right;\n",
       "    }\n",
       "</style>\n",
       "<table border=\"1\" class=\"dataframe\">\n",
       "  <thead>\n",
       "    <tr style=\"text-align: right;\">\n",
       "      <th></th>\n",
       "      <th>A</th>\n",
       "      <th>B</th>\n",
       "      <th>C</th>\n",
       "      <th>D</th>\n",
       "      <th>E</th>\n",
       "    </tr>\n",
       "  </thead>\n",
       "  <tbody>\n",
       "    <tr>\n",
       "      <th>0</th>\n",
       "      <td>8521</td>\n",
       "      <td>0.735723</td>\n",
       "      <td>0.351642</td>\n",
       "      <td>0.316163</td>\n",
       "      <td>0.028390</td>\n",
       "    </tr>\n",
       "    <tr>\n",
       "      <th>1</th>\n",
       "      <td>0.490249</td>\n",
       "      <td>0.464304</td>\n",
       "      <td>0.337367</td>\n",
       "      <td>0.814775</td>\n",
       "      <td>0.299901</td>\n",
       "    </tr>\n",
       "    <tr>\n",
       "      <th>2</th>\n",
       "      <td>0.262267</td>\n",
       "      <td>0.937619</td>\n",
       "      <td>0.831524</td>\n",
       "      <td>0.118030</td>\n",
       "      <td>0.525206</td>\n",
       "    </tr>\n",
       "    <tr>\n",
       "      <th>3</th>\n",
       "      <td>0.287334</td>\n",
       "      <td>0.974052</td>\n",
       "      <td>0.944044</td>\n",
       "      <td>0.869090</td>\n",
       "      <td>0.136935</td>\n",
       "    </tr>\n",
       "    <tr>\n",
       "      <th>4</th>\n",
       "      <td>0.840038</td>\n",
       "      <td>0.276021</td>\n",
       "      <td>0.140503</td>\n",
       "      <td>0.599835</td>\n",
       "      <td>0.511210</td>\n",
       "    </tr>\n",
       "  </tbody>\n",
       "</table>\n",
       "</div>"
      ],
      "text/plain": [
       "          A         B         C         D         E\n",
       "0      8521  0.735723  0.351642  0.316163  0.028390\n",
       "1  0.490249  0.464304  0.337367  0.814775  0.299901\n",
       "2  0.262267  0.937619  0.831524  0.118030  0.525206\n",
       "3  0.287334  0.974052  0.944044  0.869090  0.136935\n",
       "4  0.840038  0.276021  0.140503  0.599835  0.511210"
      ]
     },
     "execution_count": 71,
     "metadata": {},
     "output_type": "execute_result"
    }
   ],
   "source": [
    "newdf.head()"
   ]
  },
  {
   "cell_type": "code",
   "execution_count": 72,
   "id": "8c0483fc",
   "metadata": {},
   "outputs": [
    {
     "data": {
      "text/plain": [
       "0.02838993699248249"
      ]
     },
     "execution_count": 72,
     "metadata": {},
     "output_type": "execute_result"
    }
   ],
   "source": [
    "newdf.iloc[0,4]"
   ]
  },
  {
   "cell_type": "markdown",
   "id": "d4e02c92",
   "metadata": {},
   "source": [
    "*to aap dekh sakte hai ki filhal to humare rows ke name 01234 se hi hai par ye kuch bhi ho sakte hai or column humara ABCDE hai, \"to jab humne [0,4] likha to ye 0 row or 4 column pe yaniki E par ayega to uss cell ka value hume de diya\"*<br><br>***or hum isko aise bhi print kar sakte hai***"
   ]
  },
  {
   "cell_type": "code",
   "execution_count": 73,
   "id": "1da8ea38",
   "metadata": {},
   "outputs": [
    {
     "data": {
      "text/html": [
       "<div>\n",
       "<style scoped>\n",
       "    .dataframe tbody tr th:only-of-type {\n",
       "        vertical-align: middle;\n",
       "    }\n",
       "\n",
       "    .dataframe tbody tr th {\n",
       "        vertical-align: top;\n",
       "    }\n",
       "\n",
       "    .dataframe thead th {\n",
       "        text-align: right;\n",
       "    }\n",
       "</style>\n",
       "<table border=\"1\" class=\"dataframe\">\n",
       "  <thead>\n",
       "    <tr style=\"text-align: right;\">\n",
       "      <th></th>\n",
       "      <th>B</th>\n",
       "      <th>C</th>\n",
       "    </tr>\n",
       "  </thead>\n",
       "  <tbody>\n",
       "    <tr>\n",
       "      <th>0</th>\n",
       "      <td>0.735723</td>\n",
       "      <td>0.351642</td>\n",
       "    </tr>\n",
       "    <tr>\n",
       "      <th>4</th>\n",
       "      <td>0.276021</td>\n",
       "      <td>0.140503</td>\n",
       "    </tr>\n",
       "  </tbody>\n",
       "</table>\n",
       "</div>"
      ],
      "text/plain": [
       "          B         C\n",
       "0  0.735723  0.351642\n",
       "4  0.276021  0.140503"
      ]
     },
     "execution_count": 73,
     "metadata": {},
     "output_type": "execute_result"
    }
   ],
   "source": [
    "newdf.iloc[[0,4], [1,2]]"
   ]
  },
  {
   "cell_type": "markdown",
   "id": "94adb2a5",
   "metadata": {},
   "source": [
    "*to aap dekh sakte hai isne 0 or 4th row ko liya or 1 or 2 columns ko liya* ***to hum aise bhi isko print kar sakte hai***"
   ]
  },
  {
   "cell_type": "markdown",
   "id": "26140db5",
   "metadata": {},
   "source": [
    "# 10.drop\n",
    "***drop se hum kisi bhi row ya column ko hata sakte hai***"
   ]
  },
  {
   "cell_type": "code",
   "execution_count": 74,
   "id": "529a93b6",
   "metadata": {},
   "outputs": [
    {
     "data": {
      "text/html": [
       "<div>\n",
       "<style scoped>\n",
       "    .dataframe tbody tr th:only-of-type {\n",
       "        vertical-align: middle;\n",
       "    }\n",
       "\n",
       "    .dataframe tbody tr th {\n",
       "        vertical-align: top;\n",
       "    }\n",
       "\n",
       "    .dataframe thead th {\n",
       "        text-align: right;\n",
       "    }\n",
       "</style>\n",
       "<table border=\"1\" class=\"dataframe\">\n",
       "  <thead>\n",
       "    <tr style=\"text-align: right;\">\n",
       "      <th></th>\n",
       "      <th>A</th>\n",
       "      <th>B</th>\n",
       "      <th>C</th>\n",
       "      <th>D</th>\n",
       "      <th>E</th>\n",
       "    </tr>\n",
       "  </thead>\n",
       "  <tbody>\n",
       "    <tr>\n",
       "      <th>0</th>\n",
       "      <td>8521</td>\n",
       "      <td>0.735723</td>\n",
       "      <td>0.351642</td>\n",
       "      <td>0.316163</td>\n",
       "      <td>0.028390</td>\n",
       "    </tr>\n",
       "    <tr>\n",
       "      <th>1</th>\n",
       "      <td>0.490249</td>\n",
       "      <td>0.464304</td>\n",
       "      <td>0.337367</td>\n",
       "      <td>0.814775</td>\n",
       "      <td>0.299901</td>\n",
       "    </tr>\n",
       "    <tr>\n",
       "      <th>2</th>\n",
       "      <td>0.262267</td>\n",
       "      <td>0.937619</td>\n",
       "      <td>0.831524</td>\n",
       "      <td>0.118030</td>\n",
       "      <td>0.525206</td>\n",
       "    </tr>\n",
       "  </tbody>\n",
       "</table>\n",
       "</div>"
      ],
      "text/plain": [
       "          A         B         C         D         E\n",
       "0      8521  0.735723  0.351642  0.316163  0.028390\n",
       "1  0.490249  0.464304  0.337367  0.814775  0.299901\n",
       "2  0.262267  0.937619  0.831524  0.118030  0.525206"
      ]
     },
     "execution_count": 74,
     "metadata": {},
     "output_type": "execute_result"
    }
   ],
   "source": [
    "newdf.head(3)"
   ]
  },
  {
   "cell_type": "code",
   "execution_count": 75,
   "id": "cd74c645",
   "metadata": {},
   "outputs": [
    {
     "data": {
      "text/html": [
       "<div>\n",
       "<style scoped>\n",
       "    .dataframe tbody tr th:only-of-type {\n",
       "        vertical-align: middle;\n",
       "    }\n",
       "\n",
       "    .dataframe tbody tr th {\n",
       "        vertical-align: top;\n",
       "    }\n",
       "\n",
       "    .dataframe thead th {\n",
       "        text-align: right;\n",
       "    }\n",
       "</style>\n",
       "<table border=\"1\" class=\"dataframe\">\n",
       "  <thead>\n",
       "    <tr style=\"text-align: right;\">\n",
       "      <th></th>\n",
       "      <th>A</th>\n",
       "      <th>B</th>\n",
       "      <th>C</th>\n",
       "      <th>D</th>\n",
       "      <th>E</th>\n",
       "    </tr>\n",
       "  </thead>\n",
       "  <tbody>\n",
       "    <tr>\n",
       "      <th>1</th>\n",
       "      <td>0.490249</td>\n",
       "      <td>0.464304</td>\n",
       "      <td>0.337367</td>\n",
       "      <td>0.814775</td>\n",
       "      <td>0.299901</td>\n",
       "    </tr>\n",
       "    <tr>\n",
       "      <th>2</th>\n",
       "      <td>0.262267</td>\n",
       "      <td>0.937619</td>\n",
       "      <td>0.831524</td>\n",
       "      <td>0.118030</td>\n",
       "      <td>0.525206</td>\n",
       "    </tr>\n",
       "    <tr>\n",
       "      <th>3</th>\n",
       "      <td>0.287334</td>\n",
       "      <td>0.974052</td>\n",
       "      <td>0.944044</td>\n",
       "      <td>0.869090</td>\n",
       "      <td>0.136935</td>\n",
       "    </tr>\n",
       "    <tr>\n",
       "      <th>4</th>\n",
       "      <td>0.840038</td>\n",
       "      <td>0.276021</td>\n",
       "      <td>0.140503</td>\n",
       "      <td>0.599835</td>\n",
       "      <td>0.511210</td>\n",
       "    </tr>\n",
       "    <tr>\n",
       "      <th>5</th>\n",
       "      <td>0.154071</td>\n",
       "      <td>0.032365</td>\n",
       "      <td>0.077466</td>\n",
       "      <td>0.503150</td>\n",
       "      <td>0.778425</td>\n",
       "    </tr>\n",
       "    <tr>\n",
       "      <th>...</th>\n",
       "      <td>...</td>\n",
       "      <td>...</td>\n",
       "      <td>...</td>\n",
       "      <td>...</td>\n",
       "      <td>...</td>\n",
       "    </tr>\n",
       "    <tr>\n",
       "      <th>329</th>\n",
       "      <td>0.770738</td>\n",
       "      <td>0.692331</td>\n",
       "      <td>0.882043</td>\n",
       "      <td>0.763866</td>\n",
       "      <td>0.218966</td>\n",
       "    </tr>\n",
       "    <tr>\n",
       "      <th>330</th>\n",
       "      <td>0.845293</td>\n",
       "      <td>0.832767</td>\n",
       "      <td>0.497827</td>\n",
       "      <td>0.485871</td>\n",
       "      <td>0.769743</td>\n",
       "    </tr>\n",
       "    <tr>\n",
       "      <th>331</th>\n",
       "      <td>0.117437</td>\n",
       "      <td>0.460440</td>\n",
       "      <td>0.876562</td>\n",
       "      <td>0.636201</td>\n",
       "      <td>0.223381</td>\n",
       "    </tr>\n",
       "    <tr>\n",
       "      <th>332</th>\n",
       "      <td>0.381841</td>\n",
       "      <td>0.566592</td>\n",
       "      <td>0.378399</td>\n",
       "      <td>0.803676</td>\n",
       "      <td>0.020226</td>\n",
       "    </tr>\n",
       "    <tr>\n",
       "      <th>333</th>\n",
       "      <td>0.837817</td>\n",
       "      <td>0.830319</td>\n",
       "      <td>0.097824</td>\n",
       "      <td>0.137642</td>\n",
       "      <td>0.102835</td>\n",
       "    </tr>\n",
       "  </tbody>\n",
       "</table>\n",
       "<p>333 rows × 5 columns</p>\n",
       "</div>"
      ],
      "text/plain": [
       "            A         B         C         D         E\n",
       "1    0.490249  0.464304  0.337367  0.814775  0.299901\n",
       "2    0.262267  0.937619  0.831524  0.118030  0.525206\n",
       "3    0.287334  0.974052  0.944044  0.869090  0.136935\n",
       "4    0.840038  0.276021  0.140503  0.599835  0.511210\n",
       "5    0.154071  0.032365  0.077466  0.503150  0.778425\n",
       "..        ...       ...       ...       ...       ...\n",
       "329  0.770738  0.692331  0.882043  0.763866  0.218966\n",
       "330  0.845293  0.832767  0.497827  0.485871  0.769743\n",
       "331  0.117437  0.460440  0.876562  0.636201  0.223381\n",
       "332  0.381841  0.566592  0.378399  0.803676  0.020226\n",
       "333  0.837817  0.830319  0.097824  0.137642  0.102835\n",
       "\n",
       "[333 rows x 5 columns]"
      ]
     },
     "execution_count": 75,
     "metadata": {},
     "output_type": "execute_result"
    }
   ],
   "source": [
    "newdf.drop([0])"
   ]
  },
  {
   "cell_type": "markdown",
   "id": "acfd8627",
   "metadata": {},
   "source": [
    "*to aap dekh sakte hai ki humara 0th row jo hai wo hat gaya hai yahan se*<br><br>***abb agar hume yahan se column ko hatana hai to***"
   ]
  },
  {
   "cell_type": "code",
   "execution_count": 76,
   "id": "5a8b4dd7",
   "metadata": {},
   "outputs": [
    {
     "data": {
      "text/html": [
       "<div>\n",
       "<style scoped>\n",
       "    .dataframe tbody tr th:only-of-type {\n",
       "        vertical-align: middle;\n",
       "    }\n",
       "\n",
       "    .dataframe tbody tr th {\n",
       "        vertical-align: top;\n",
       "    }\n",
       "\n",
       "    .dataframe thead th {\n",
       "        text-align: right;\n",
       "    }\n",
       "</style>\n",
       "<table border=\"1\" class=\"dataframe\">\n",
       "  <thead>\n",
       "    <tr style=\"text-align: right;\">\n",
       "      <th></th>\n",
       "      <th>B</th>\n",
       "      <th>C</th>\n",
       "      <th>D</th>\n",
       "      <th>E</th>\n",
       "    </tr>\n",
       "  </thead>\n",
       "  <tbody>\n",
       "    <tr>\n",
       "      <th>0</th>\n",
       "      <td>0.735723</td>\n",
       "      <td>0.351642</td>\n",
       "      <td>0.316163</td>\n",
       "      <td>0.028390</td>\n",
       "    </tr>\n",
       "    <tr>\n",
       "      <th>1</th>\n",
       "      <td>0.464304</td>\n",
       "      <td>0.337367</td>\n",
       "      <td>0.814775</td>\n",
       "      <td>0.299901</td>\n",
       "    </tr>\n",
       "    <tr>\n",
       "      <th>2</th>\n",
       "      <td>0.937619</td>\n",
       "      <td>0.831524</td>\n",
       "      <td>0.118030</td>\n",
       "      <td>0.525206</td>\n",
       "    </tr>\n",
       "    <tr>\n",
       "      <th>3</th>\n",
       "      <td>0.974052</td>\n",
       "      <td>0.944044</td>\n",
       "      <td>0.869090</td>\n",
       "      <td>0.136935</td>\n",
       "    </tr>\n",
       "    <tr>\n",
       "      <th>4</th>\n",
       "      <td>0.276021</td>\n",
       "      <td>0.140503</td>\n",
       "      <td>0.599835</td>\n",
       "      <td>0.511210</td>\n",
       "    </tr>\n",
       "    <tr>\n",
       "      <th>...</th>\n",
       "      <td>...</td>\n",
       "      <td>...</td>\n",
       "      <td>...</td>\n",
       "      <td>...</td>\n",
       "    </tr>\n",
       "    <tr>\n",
       "      <th>329</th>\n",
       "      <td>0.692331</td>\n",
       "      <td>0.882043</td>\n",
       "      <td>0.763866</td>\n",
       "      <td>0.218966</td>\n",
       "    </tr>\n",
       "    <tr>\n",
       "      <th>330</th>\n",
       "      <td>0.832767</td>\n",
       "      <td>0.497827</td>\n",
       "      <td>0.485871</td>\n",
       "      <td>0.769743</td>\n",
       "    </tr>\n",
       "    <tr>\n",
       "      <th>331</th>\n",
       "      <td>0.460440</td>\n",
       "      <td>0.876562</td>\n",
       "      <td>0.636201</td>\n",
       "      <td>0.223381</td>\n",
       "    </tr>\n",
       "    <tr>\n",
       "      <th>332</th>\n",
       "      <td>0.566592</td>\n",
       "      <td>0.378399</td>\n",
       "      <td>0.803676</td>\n",
       "      <td>0.020226</td>\n",
       "    </tr>\n",
       "    <tr>\n",
       "      <th>333</th>\n",
       "      <td>0.830319</td>\n",
       "      <td>0.097824</td>\n",
       "      <td>0.137642</td>\n",
       "      <td>0.102835</td>\n",
       "    </tr>\n",
       "  </tbody>\n",
       "</table>\n",
       "<p>334 rows × 4 columns</p>\n",
       "</div>"
      ],
      "text/plain": [
       "            B         C         D         E\n",
       "0    0.735723  0.351642  0.316163  0.028390\n",
       "1    0.464304  0.337367  0.814775  0.299901\n",
       "2    0.937619  0.831524  0.118030  0.525206\n",
       "3    0.974052  0.944044  0.869090  0.136935\n",
       "4    0.276021  0.140503  0.599835  0.511210\n",
       "..        ...       ...       ...       ...\n",
       "329  0.692331  0.882043  0.763866  0.218966\n",
       "330  0.832767  0.497827  0.485871  0.769743\n",
       "331  0.460440  0.876562  0.636201  0.223381\n",
       "332  0.566592  0.378399  0.803676  0.020226\n",
       "333  0.830319  0.097824  0.137642  0.102835\n",
       "\n",
       "[334 rows x 4 columns]"
      ]
     },
     "execution_count": 76,
     "metadata": {},
     "output_type": "execute_result"
    }
   ],
   "source": [
    "newdf.drop(['A'], axis=1)"
   ]
  },
  {
   "cell_type": "markdown",
   "id": "7e991207",
   "metadata": {},
   "source": [
    "*to aap dekh sakte hai humara column A yahan se gayab ho gaya hai*<br><br>***or han ye bs ek copy hai isne humare original dataframe ko change nahi kiya, humara original dataframe waisa ka waisa hi hai*** "
   ]
  },
  {
   "cell_type": "code",
   "execution_count": 77,
   "id": "97e284fd",
   "metadata": {},
   "outputs": [
    {
     "data": {
      "text/html": [
       "<div>\n",
       "<style scoped>\n",
       "    .dataframe tbody tr th:only-of-type {\n",
       "        vertical-align: middle;\n",
       "    }\n",
       "\n",
       "    .dataframe tbody tr th {\n",
       "        vertical-align: top;\n",
       "    }\n",
       "\n",
       "    .dataframe thead th {\n",
       "        text-align: right;\n",
       "    }\n",
       "</style>\n",
       "<table border=\"1\" class=\"dataframe\">\n",
       "  <thead>\n",
       "    <tr style=\"text-align: right;\">\n",
       "      <th></th>\n",
       "      <th>A</th>\n",
       "      <th>B</th>\n",
       "      <th>C</th>\n",
       "      <th>D</th>\n",
       "      <th>E</th>\n",
       "    </tr>\n",
       "  </thead>\n",
       "  <tbody>\n",
       "    <tr>\n",
       "      <th>0</th>\n",
       "      <td>8521</td>\n",
       "      <td>0.735723</td>\n",
       "      <td>0.351642</td>\n",
       "      <td>0.316163</td>\n",
       "      <td>0.028390</td>\n",
       "    </tr>\n",
       "    <tr>\n",
       "      <th>1</th>\n",
       "      <td>0.490249</td>\n",
       "      <td>0.464304</td>\n",
       "      <td>0.337367</td>\n",
       "      <td>0.814775</td>\n",
       "      <td>0.299901</td>\n",
       "    </tr>\n",
       "    <tr>\n",
       "      <th>2</th>\n",
       "      <td>0.262267</td>\n",
       "      <td>0.937619</td>\n",
       "      <td>0.831524</td>\n",
       "      <td>0.118030</td>\n",
       "      <td>0.525206</td>\n",
       "    </tr>\n",
       "    <tr>\n",
       "      <th>3</th>\n",
       "      <td>0.287334</td>\n",
       "      <td>0.974052</td>\n",
       "      <td>0.944044</td>\n",
       "      <td>0.869090</td>\n",
       "      <td>0.136935</td>\n",
       "    </tr>\n",
       "    <tr>\n",
       "      <th>4</th>\n",
       "      <td>0.840038</td>\n",
       "      <td>0.276021</td>\n",
       "      <td>0.140503</td>\n",
       "      <td>0.599835</td>\n",
       "      <td>0.511210</td>\n",
       "    </tr>\n",
       "  </tbody>\n",
       "</table>\n",
       "</div>"
      ],
      "text/plain": [
       "          A         B         C         D         E\n",
       "0      8521  0.735723  0.351642  0.316163  0.028390\n",
       "1  0.490249  0.464304  0.337367  0.814775  0.299901\n",
       "2  0.262267  0.937619  0.831524  0.118030  0.525206\n",
       "3  0.287334  0.974052  0.944044  0.869090  0.136935\n",
       "4  0.840038  0.276021  0.140503  0.599835  0.511210"
      ]
     },
     "execution_count": 77,
     "metadata": {},
     "output_type": "execute_result"
    }
   ],
   "source": [
    "newdf.head()"
   ]
  },
  {
   "cell_type": "markdown",
   "id": "f28f88b8",
   "metadata": {},
   "source": [
    "*aap dekh sakte hai humara original dataframe safe hai*<br> ***agar hum newdf= wo wala kar de to humara original dataframe bhi change ho jayega***"
   ]
  },
  {
   "cell_type": "markdown",
   "id": "80b5fae8",
   "metadata": {},
   "source": [
    "# 11.inplace\n",
    "***inplace=True kar de to ye humare original dataframe ko hi modified kar deta hai***"
   ]
  },
  {
   "cell_type": "code",
   "execution_count": 78,
   "id": "6dc7858b",
   "metadata": {},
   "outputs": [],
   "source": [
    "newdf.drop(['A'], axis=1, inplace=True)"
   ]
  },
  {
   "cell_type": "code",
   "execution_count": 79,
   "id": "1bd539ab",
   "metadata": {},
   "outputs": [
    {
     "data": {
      "text/html": [
       "<div>\n",
       "<style scoped>\n",
       "    .dataframe tbody tr th:only-of-type {\n",
       "        vertical-align: middle;\n",
       "    }\n",
       "\n",
       "    .dataframe tbody tr th {\n",
       "        vertical-align: top;\n",
       "    }\n",
       "\n",
       "    .dataframe thead th {\n",
       "        text-align: right;\n",
       "    }\n",
       "</style>\n",
       "<table border=\"1\" class=\"dataframe\">\n",
       "  <thead>\n",
       "    <tr style=\"text-align: right;\">\n",
       "      <th></th>\n",
       "      <th>B</th>\n",
       "      <th>C</th>\n",
       "      <th>D</th>\n",
       "      <th>E</th>\n",
       "    </tr>\n",
       "  </thead>\n",
       "  <tbody>\n",
       "    <tr>\n",
       "      <th>0</th>\n",
       "      <td>0.735723</td>\n",
       "      <td>0.351642</td>\n",
       "      <td>0.316163</td>\n",
       "      <td>0.028390</td>\n",
       "    </tr>\n",
       "    <tr>\n",
       "      <th>1</th>\n",
       "      <td>0.464304</td>\n",
       "      <td>0.337367</td>\n",
       "      <td>0.814775</td>\n",
       "      <td>0.299901</td>\n",
       "    </tr>\n",
       "    <tr>\n",
       "      <th>2</th>\n",
       "      <td>0.937619</td>\n",
       "      <td>0.831524</td>\n",
       "      <td>0.118030</td>\n",
       "      <td>0.525206</td>\n",
       "    </tr>\n",
       "    <tr>\n",
       "      <th>3</th>\n",
       "      <td>0.974052</td>\n",
       "      <td>0.944044</td>\n",
       "      <td>0.869090</td>\n",
       "      <td>0.136935</td>\n",
       "    </tr>\n",
       "    <tr>\n",
       "      <th>4</th>\n",
       "      <td>0.276021</td>\n",
       "      <td>0.140503</td>\n",
       "      <td>0.599835</td>\n",
       "      <td>0.511210</td>\n",
       "    </tr>\n",
       "    <tr>\n",
       "      <th>...</th>\n",
       "      <td>...</td>\n",
       "      <td>...</td>\n",
       "      <td>...</td>\n",
       "      <td>...</td>\n",
       "    </tr>\n",
       "    <tr>\n",
       "      <th>329</th>\n",
       "      <td>0.692331</td>\n",
       "      <td>0.882043</td>\n",
       "      <td>0.763866</td>\n",
       "      <td>0.218966</td>\n",
       "    </tr>\n",
       "    <tr>\n",
       "      <th>330</th>\n",
       "      <td>0.832767</td>\n",
       "      <td>0.497827</td>\n",
       "      <td>0.485871</td>\n",
       "      <td>0.769743</td>\n",
       "    </tr>\n",
       "    <tr>\n",
       "      <th>331</th>\n",
       "      <td>0.460440</td>\n",
       "      <td>0.876562</td>\n",
       "      <td>0.636201</td>\n",
       "      <td>0.223381</td>\n",
       "    </tr>\n",
       "    <tr>\n",
       "      <th>332</th>\n",
       "      <td>0.566592</td>\n",
       "      <td>0.378399</td>\n",
       "      <td>0.803676</td>\n",
       "      <td>0.020226</td>\n",
       "    </tr>\n",
       "    <tr>\n",
       "      <th>333</th>\n",
       "      <td>0.830319</td>\n",
       "      <td>0.097824</td>\n",
       "      <td>0.137642</td>\n",
       "      <td>0.102835</td>\n",
       "    </tr>\n",
       "  </tbody>\n",
       "</table>\n",
       "<p>334 rows × 4 columns</p>\n",
       "</div>"
      ],
      "text/plain": [
       "            B         C         D         E\n",
       "0    0.735723  0.351642  0.316163  0.028390\n",
       "1    0.464304  0.337367  0.814775  0.299901\n",
       "2    0.937619  0.831524  0.118030  0.525206\n",
       "3    0.974052  0.944044  0.869090  0.136935\n",
       "4    0.276021  0.140503  0.599835  0.511210\n",
       "..        ...       ...       ...       ...\n",
       "329  0.692331  0.882043  0.763866  0.218966\n",
       "330  0.832767  0.497827  0.485871  0.769743\n",
       "331  0.460440  0.876562  0.636201  0.223381\n",
       "332  0.566592  0.378399  0.803676  0.020226\n",
       "333  0.830319  0.097824  0.137642  0.102835\n",
       "\n",
       "[334 rows x 4 columns]"
      ]
     },
     "execution_count": 79,
     "metadata": {},
     "output_type": "execute_result"
    }
   ],
   "source": [
    "newdf"
   ]
  },
  {
   "cell_type": "markdown",
   "id": "518378dd",
   "metadata": {},
   "source": [
    "***to aap dekh sakte hai isne original dataframe ko hi modify kar diya***<br>*isi tarah agar hum row ko hatayenge to*"
   ]
  },
  {
   "cell_type": "code",
   "execution_count": 80,
   "id": "8c745298",
   "metadata": {},
   "outputs": [],
   "source": [
    "newdf.drop([1,5], axis=0, inplace=True)"
   ]
  },
  {
   "cell_type": "code",
   "execution_count": 81,
   "id": "eec624b6",
   "metadata": {},
   "outputs": [
    {
     "data": {
      "text/html": [
       "<div>\n",
       "<style scoped>\n",
       "    .dataframe tbody tr th:only-of-type {\n",
       "        vertical-align: middle;\n",
       "    }\n",
       "\n",
       "    .dataframe tbody tr th {\n",
       "        vertical-align: top;\n",
       "    }\n",
       "\n",
       "    .dataframe thead th {\n",
       "        text-align: right;\n",
       "    }\n",
       "</style>\n",
       "<table border=\"1\" class=\"dataframe\">\n",
       "  <thead>\n",
       "    <tr style=\"text-align: right;\">\n",
       "      <th></th>\n",
       "      <th>B</th>\n",
       "      <th>C</th>\n",
       "      <th>D</th>\n",
       "      <th>E</th>\n",
       "    </tr>\n",
       "  </thead>\n",
       "  <tbody>\n",
       "    <tr>\n",
       "      <th>0</th>\n",
       "      <td>0.735723</td>\n",
       "      <td>0.351642</td>\n",
       "      <td>0.316163</td>\n",
       "      <td>0.028390</td>\n",
       "    </tr>\n",
       "    <tr>\n",
       "      <th>2</th>\n",
       "      <td>0.937619</td>\n",
       "      <td>0.831524</td>\n",
       "      <td>0.118030</td>\n",
       "      <td>0.525206</td>\n",
       "    </tr>\n",
       "    <tr>\n",
       "      <th>3</th>\n",
       "      <td>0.974052</td>\n",
       "      <td>0.944044</td>\n",
       "      <td>0.869090</td>\n",
       "      <td>0.136935</td>\n",
       "    </tr>\n",
       "    <tr>\n",
       "      <th>4</th>\n",
       "      <td>0.276021</td>\n",
       "      <td>0.140503</td>\n",
       "      <td>0.599835</td>\n",
       "      <td>0.511210</td>\n",
       "    </tr>\n",
       "    <tr>\n",
       "      <th>6</th>\n",
       "      <td>0.140683</td>\n",
       "      <td>0.714506</td>\n",
       "      <td>0.572959</td>\n",
       "      <td>0.167123</td>\n",
       "    </tr>\n",
       "    <tr>\n",
       "      <th>...</th>\n",
       "      <td>...</td>\n",
       "      <td>...</td>\n",
       "      <td>...</td>\n",
       "      <td>...</td>\n",
       "    </tr>\n",
       "    <tr>\n",
       "      <th>329</th>\n",
       "      <td>0.692331</td>\n",
       "      <td>0.882043</td>\n",
       "      <td>0.763866</td>\n",
       "      <td>0.218966</td>\n",
       "    </tr>\n",
       "    <tr>\n",
       "      <th>330</th>\n",
       "      <td>0.832767</td>\n",
       "      <td>0.497827</td>\n",
       "      <td>0.485871</td>\n",
       "      <td>0.769743</td>\n",
       "    </tr>\n",
       "    <tr>\n",
       "      <th>331</th>\n",
       "      <td>0.460440</td>\n",
       "      <td>0.876562</td>\n",
       "      <td>0.636201</td>\n",
       "      <td>0.223381</td>\n",
       "    </tr>\n",
       "    <tr>\n",
       "      <th>332</th>\n",
       "      <td>0.566592</td>\n",
       "      <td>0.378399</td>\n",
       "      <td>0.803676</td>\n",
       "      <td>0.020226</td>\n",
       "    </tr>\n",
       "    <tr>\n",
       "      <th>333</th>\n",
       "      <td>0.830319</td>\n",
       "      <td>0.097824</td>\n",
       "      <td>0.137642</td>\n",
       "      <td>0.102835</td>\n",
       "    </tr>\n",
       "  </tbody>\n",
       "</table>\n",
       "<p>332 rows × 4 columns</p>\n",
       "</div>"
      ],
      "text/plain": [
       "            B         C         D         E\n",
       "0    0.735723  0.351642  0.316163  0.028390\n",
       "2    0.937619  0.831524  0.118030  0.525206\n",
       "3    0.974052  0.944044  0.869090  0.136935\n",
       "4    0.276021  0.140503  0.599835  0.511210\n",
       "6    0.140683  0.714506  0.572959  0.167123\n",
       "..        ...       ...       ...       ...\n",
       "329  0.692331  0.882043  0.763866  0.218966\n",
       "330  0.832767  0.497827  0.485871  0.769743\n",
       "331  0.460440  0.876562  0.636201  0.223381\n",
       "332  0.566592  0.378399  0.803676  0.020226\n",
       "333  0.830319  0.097824  0.137642  0.102835\n",
       "\n",
       "[332 rows x 4 columns]"
      ]
     },
     "execution_count": 81,
     "metadata": {},
     "output_type": "execute_result"
    }
   ],
   "source": [
    "newdf"
   ]
  },
  {
   "cell_type": "markdown",
   "id": "f5596114",
   "metadata": {},
   "source": [
    "*to aap dekh sakte hai hunmara 1 or 5th row jo hai yahan se hat gaya hai*"
   ]
  },
  {
   "cell_type": "markdown",
   "id": "24483793",
   "metadata": {},
   "source": [
    "# 12.reset\n",
    "**humne jo rows ko hataya abb humare index me 1 or 5 nahi hai to acha ni dikh raha hai to uss index ke number ko reset karne ke liye hum reset ka use karenge** "
   ]
  },
  {
   "cell_type": "code",
   "execution_count": 82,
   "id": "1e1000a6",
   "metadata": {},
   "outputs": [
    {
     "data": {
      "text/html": [
       "<div>\n",
       "<style scoped>\n",
       "    .dataframe tbody tr th:only-of-type {\n",
       "        vertical-align: middle;\n",
       "    }\n",
       "\n",
       "    .dataframe tbody tr th {\n",
       "        vertical-align: top;\n",
       "    }\n",
       "\n",
       "    .dataframe thead th {\n",
       "        text-align: right;\n",
       "    }\n",
       "</style>\n",
       "<table border=\"1\" class=\"dataframe\">\n",
       "  <thead>\n",
       "    <tr style=\"text-align: right;\">\n",
       "      <th></th>\n",
       "      <th>B</th>\n",
       "      <th>C</th>\n",
       "      <th>D</th>\n",
       "      <th>E</th>\n",
       "    </tr>\n",
       "  </thead>\n",
       "  <tbody>\n",
       "    <tr>\n",
       "      <th>0</th>\n",
       "      <td>0.735723</td>\n",
       "      <td>0.351642</td>\n",
       "      <td>0.316163</td>\n",
       "      <td>0.028390</td>\n",
       "    </tr>\n",
       "    <tr>\n",
       "      <th>2</th>\n",
       "      <td>0.937619</td>\n",
       "      <td>0.831524</td>\n",
       "      <td>0.118030</td>\n",
       "      <td>0.525206</td>\n",
       "    </tr>\n",
       "    <tr>\n",
       "      <th>3</th>\n",
       "      <td>0.974052</td>\n",
       "      <td>0.944044</td>\n",
       "      <td>0.869090</td>\n",
       "      <td>0.136935</td>\n",
       "    </tr>\n",
       "  </tbody>\n",
       "</table>\n",
       "</div>"
      ],
      "text/plain": [
       "          B         C         D         E\n",
       "0  0.735723  0.351642  0.316163  0.028390\n",
       "2  0.937619  0.831524  0.118030  0.525206\n",
       "3  0.974052  0.944044  0.869090  0.136935"
      ]
     },
     "execution_count": 82,
     "metadata": {},
     "output_type": "execute_result"
    }
   ],
   "source": [
    "newdf.head(3)"
   ]
  },
  {
   "cell_type": "code",
   "execution_count": 83,
   "id": "3d2f132d",
   "metadata": {},
   "outputs": [
    {
     "data": {
      "text/html": [
       "<div>\n",
       "<style scoped>\n",
       "    .dataframe tbody tr th:only-of-type {\n",
       "        vertical-align: middle;\n",
       "    }\n",
       "\n",
       "    .dataframe tbody tr th {\n",
       "        vertical-align: top;\n",
       "    }\n",
       "\n",
       "    .dataframe thead th {\n",
       "        text-align: right;\n",
       "    }\n",
       "</style>\n",
       "<table border=\"1\" class=\"dataframe\">\n",
       "  <thead>\n",
       "    <tr style=\"text-align: right;\">\n",
       "      <th></th>\n",
       "      <th>index</th>\n",
       "      <th>B</th>\n",
       "      <th>C</th>\n",
       "      <th>D</th>\n",
       "      <th>E</th>\n",
       "    </tr>\n",
       "  </thead>\n",
       "  <tbody>\n",
       "    <tr>\n",
       "      <th>0</th>\n",
       "      <td>0</td>\n",
       "      <td>0.735723</td>\n",
       "      <td>0.351642</td>\n",
       "      <td>0.316163</td>\n",
       "      <td>0.028390</td>\n",
       "    </tr>\n",
       "    <tr>\n",
       "      <th>1</th>\n",
       "      <td>2</td>\n",
       "      <td>0.937619</td>\n",
       "      <td>0.831524</td>\n",
       "      <td>0.118030</td>\n",
       "      <td>0.525206</td>\n",
       "    </tr>\n",
       "    <tr>\n",
       "      <th>2</th>\n",
       "      <td>3</td>\n",
       "      <td>0.974052</td>\n",
       "      <td>0.944044</td>\n",
       "      <td>0.869090</td>\n",
       "      <td>0.136935</td>\n",
       "    </tr>\n",
       "    <tr>\n",
       "      <th>3</th>\n",
       "      <td>4</td>\n",
       "      <td>0.276021</td>\n",
       "      <td>0.140503</td>\n",
       "      <td>0.599835</td>\n",
       "      <td>0.511210</td>\n",
       "    </tr>\n",
       "    <tr>\n",
       "      <th>4</th>\n",
       "      <td>6</td>\n",
       "      <td>0.140683</td>\n",
       "      <td>0.714506</td>\n",
       "      <td>0.572959</td>\n",
       "      <td>0.167123</td>\n",
       "    </tr>\n",
       "    <tr>\n",
       "      <th>...</th>\n",
       "      <td>...</td>\n",
       "      <td>...</td>\n",
       "      <td>...</td>\n",
       "      <td>...</td>\n",
       "      <td>...</td>\n",
       "    </tr>\n",
       "    <tr>\n",
       "      <th>327</th>\n",
       "      <td>329</td>\n",
       "      <td>0.692331</td>\n",
       "      <td>0.882043</td>\n",
       "      <td>0.763866</td>\n",
       "      <td>0.218966</td>\n",
       "    </tr>\n",
       "    <tr>\n",
       "      <th>328</th>\n",
       "      <td>330</td>\n",
       "      <td>0.832767</td>\n",
       "      <td>0.497827</td>\n",
       "      <td>0.485871</td>\n",
       "      <td>0.769743</td>\n",
       "    </tr>\n",
       "    <tr>\n",
       "      <th>329</th>\n",
       "      <td>331</td>\n",
       "      <td>0.460440</td>\n",
       "      <td>0.876562</td>\n",
       "      <td>0.636201</td>\n",
       "      <td>0.223381</td>\n",
       "    </tr>\n",
       "    <tr>\n",
       "      <th>330</th>\n",
       "      <td>332</td>\n",
       "      <td>0.566592</td>\n",
       "      <td>0.378399</td>\n",
       "      <td>0.803676</td>\n",
       "      <td>0.020226</td>\n",
       "    </tr>\n",
       "    <tr>\n",
       "      <th>331</th>\n",
       "      <td>333</td>\n",
       "      <td>0.830319</td>\n",
       "      <td>0.097824</td>\n",
       "      <td>0.137642</td>\n",
       "      <td>0.102835</td>\n",
       "    </tr>\n",
       "  </tbody>\n",
       "</table>\n",
       "<p>332 rows × 5 columns</p>\n",
       "</div>"
      ],
      "text/plain": [
       "     index         B         C         D         E\n",
       "0        0  0.735723  0.351642  0.316163  0.028390\n",
       "1        2  0.937619  0.831524  0.118030  0.525206\n",
       "2        3  0.974052  0.944044  0.869090  0.136935\n",
       "3        4  0.276021  0.140503  0.599835  0.511210\n",
       "4        6  0.140683  0.714506  0.572959  0.167123\n",
       "..     ...       ...       ...       ...       ...\n",
       "327    329  0.692331  0.882043  0.763866  0.218966\n",
       "328    330  0.832767  0.497827  0.485871  0.769743\n",
       "329    331  0.460440  0.876562  0.636201  0.223381\n",
       "330    332  0.566592  0.378399  0.803676  0.020226\n",
       "331    333  0.830319  0.097824  0.137642  0.102835\n",
       "\n",
       "[332 rows x 5 columns]"
      ]
     },
     "execution_count": 83,
     "metadata": {},
     "output_type": "execute_result"
    }
   ],
   "source": [
    "newdf.reset_index()"
   ]
  },
  {
   "cell_type": "markdown",
   "id": "b5e68d74",
   "metadata": {},
   "source": [
    "*to yahan aap dekh sakte hai humara index reset ho gaya hai* ***par yahan ye \"index\" name ka ek or column add kar deta hai jo hume chahiye nahi, to isko hatane ke liye hum drop=True likh denge***"
   ]
  },
  {
   "cell_type": "code",
   "execution_count": 84,
   "id": "15f46cd4",
   "metadata": {},
   "outputs": [],
   "source": [
    "newdf.reset_index(drop=True, inplace=True)"
   ]
  },
  {
   "cell_type": "code",
   "execution_count": 85,
   "id": "a4dad15a",
   "metadata": {},
   "outputs": [
    {
     "data": {
      "text/html": [
       "<div>\n",
       "<style scoped>\n",
       "    .dataframe tbody tr th:only-of-type {\n",
       "        vertical-align: middle;\n",
       "    }\n",
       "\n",
       "    .dataframe tbody tr th {\n",
       "        vertical-align: top;\n",
       "    }\n",
       "\n",
       "    .dataframe thead th {\n",
       "        text-align: right;\n",
       "    }\n",
       "</style>\n",
       "<table border=\"1\" class=\"dataframe\">\n",
       "  <thead>\n",
       "    <tr style=\"text-align: right;\">\n",
       "      <th></th>\n",
       "      <th>B</th>\n",
       "      <th>C</th>\n",
       "      <th>D</th>\n",
       "      <th>E</th>\n",
       "    </tr>\n",
       "  </thead>\n",
       "  <tbody>\n",
       "    <tr>\n",
       "      <th>0</th>\n",
       "      <td>0.735723</td>\n",
       "      <td>0.351642</td>\n",
       "      <td>0.316163</td>\n",
       "      <td>0.028390</td>\n",
       "    </tr>\n",
       "    <tr>\n",
       "      <th>1</th>\n",
       "      <td>0.937619</td>\n",
       "      <td>0.831524</td>\n",
       "      <td>0.118030</td>\n",
       "      <td>0.525206</td>\n",
       "    </tr>\n",
       "    <tr>\n",
       "      <th>2</th>\n",
       "      <td>0.974052</td>\n",
       "      <td>0.944044</td>\n",
       "      <td>0.869090</td>\n",
       "      <td>0.136935</td>\n",
       "    </tr>\n",
       "  </tbody>\n",
       "</table>\n",
       "</div>"
      ],
      "text/plain": [
       "          B         C         D         E\n",
       "0  0.735723  0.351642  0.316163  0.028390\n",
       "1  0.937619  0.831524  0.118030  0.525206\n",
       "2  0.974052  0.944044  0.869090  0.136935"
      ]
     },
     "execution_count": 85,
     "metadata": {},
     "output_type": "execute_result"
    }
   ],
   "source": [
    "newdf.head(3)"
   ]
  },
  {
   "cell_type": "markdown",
   "id": "a970195c",
   "metadata": {},
   "source": [
    "*to aap dkh sakte hai yahan se index name ka column abb hat gaya hai or humne isko inplace=True bhi kar diya hai*<br>***or humara index abb reset ho gya hai or ye o se start hogi or jitni rows hai uski n-1 tak jayega. yaniki 0 se 5 tak ja raha hai matlb 6 rows hongi***"
   ]
  },
  {
   "cell_type": "markdown",
   "id": "394243f3",
   "metadata": {},
   "source": [
    "# 13.isnull\n",
    "***ye yahan mujhe return karta hai wo sari values jahan jahan par ye null hai, to jahan par bhi ye True ayega wahan 0 hai***"
   ]
  },
  {
   "cell_type": "code",
   "execution_count": 86,
   "id": "718fc63b",
   "metadata": {},
   "outputs": [
    {
     "data": {
      "text/html": [
       "<div>\n",
       "<style scoped>\n",
       "    .dataframe tbody tr th:only-of-type {\n",
       "        vertical-align: middle;\n",
       "    }\n",
       "\n",
       "    .dataframe tbody tr th {\n",
       "        vertical-align: top;\n",
       "    }\n",
       "\n",
       "    .dataframe thead th {\n",
       "        text-align: right;\n",
       "    }\n",
       "</style>\n",
       "<table border=\"1\" class=\"dataframe\">\n",
       "  <thead>\n",
       "    <tr style=\"text-align: right;\">\n",
       "      <th></th>\n",
       "      <th>B</th>\n",
       "      <th>C</th>\n",
       "      <th>D</th>\n",
       "      <th>E</th>\n",
       "    </tr>\n",
       "  </thead>\n",
       "  <tbody>\n",
       "    <tr>\n",
       "      <th>0</th>\n",
       "      <td>0.735723</td>\n",
       "      <td>0.351642</td>\n",
       "      <td>0.316163</td>\n",
       "      <td>0.028390</td>\n",
       "    </tr>\n",
       "    <tr>\n",
       "      <th>1</th>\n",
       "      <td>0.937619</td>\n",
       "      <td>0.831524</td>\n",
       "      <td>0.118030</td>\n",
       "      <td>0.525206</td>\n",
       "    </tr>\n",
       "    <tr>\n",
       "      <th>2</th>\n",
       "      <td>0.974052</td>\n",
       "      <td>0.944044</td>\n",
       "      <td>0.869090</td>\n",
       "      <td>0.136935</td>\n",
       "    </tr>\n",
       "    <tr>\n",
       "      <th>3</th>\n",
       "      <td>0.276021</td>\n",
       "      <td>0.140503</td>\n",
       "      <td>0.599835</td>\n",
       "      <td>0.511210</td>\n",
       "    </tr>\n",
       "    <tr>\n",
       "      <th>4</th>\n",
       "      <td>0.140683</td>\n",
       "      <td>0.714506</td>\n",
       "      <td>0.572959</td>\n",
       "      <td>0.167123</td>\n",
       "    </tr>\n",
       "    <tr>\n",
       "      <th>...</th>\n",
       "      <td>...</td>\n",
       "      <td>...</td>\n",
       "      <td>...</td>\n",
       "      <td>...</td>\n",
       "    </tr>\n",
       "    <tr>\n",
       "      <th>327</th>\n",
       "      <td>0.692331</td>\n",
       "      <td>0.882043</td>\n",
       "      <td>0.763866</td>\n",
       "      <td>0.218966</td>\n",
       "    </tr>\n",
       "    <tr>\n",
       "      <th>328</th>\n",
       "      <td>0.832767</td>\n",
       "      <td>0.497827</td>\n",
       "      <td>0.485871</td>\n",
       "      <td>0.769743</td>\n",
       "    </tr>\n",
       "    <tr>\n",
       "      <th>329</th>\n",
       "      <td>0.460440</td>\n",
       "      <td>0.876562</td>\n",
       "      <td>0.636201</td>\n",
       "      <td>0.223381</td>\n",
       "    </tr>\n",
       "    <tr>\n",
       "      <th>330</th>\n",
       "      <td>0.566592</td>\n",
       "      <td>0.378399</td>\n",
       "      <td>0.803676</td>\n",
       "      <td>0.020226</td>\n",
       "    </tr>\n",
       "    <tr>\n",
       "      <th>331</th>\n",
       "      <td>0.830319</td>\n",
       "      <td>0.097824</td>\n",
       "      <td>0.137642</td>\n",
       "      <td>0.102835</td>\n",
       "    </tr>\n",
       "  </tbody>\n",
       "</table>\n",
       "<p>332 rows × 4 columns</p>\n",
       "</div>"
      ],
      "text/plain": [
       "            B         C         D         E\n",
       "0    0.735723  0.351642  0.316163  0.028390\n",
       "1    0.937619  0.831524  0.118030  0.525206\n",
       "2    0.974052  0.944044  0.869090  0.136935\n",
       "3    0.276021  0.140503  0.599835  0.511210\n",
       "4    0.140683  0.714506  0.572959  0.167123\n",
       "..        ...       ...       ...       ...\n",
       "327  0.692331  0.882043  0.763866  0.218966\n",
       "328  0.832767  0.497827  0.485871  0.769743\n",
       "329  0.460440  0.876562  0.636201  0.223381\n",
       "330  0.566592  0.378399  0.803676  0.020226\n",
       "331  0.830319  0.097824  0.137642  0.102835\n",
       "\n",
       "[332 rows x 4 columns]"
      ]
     },
     "execution_count": 86,
     "metadata": {},
     "output_type": "execute_result"
    }
   ],
   "source": [
    "newdf"
   ]
  },
  {
   "cell_type": "code",
   "execution_count": 87,
   "id": "1a356686",
   "metadata": {},
   "outputs": [
    {
     "data": {
      "text/plain": [
       "0      False\n",
       "1      False\n",
       "2      False\n",
       "3      False\n",
       "4      False\n",
       "       ...  \n",
       "327    False\n",
       "328    False\n",
       "329    False\n",
       "330    False\n",
       "331    False\n",
       "Name: B, Length: 332, dtype: bool"
      ]
     },
     "execution_count": 87,
     "metadata": {},
     "output_type": "execute_result"
    }
   ],
   "source": [
    "newdf['B'].isnull()"
   ]
  },
  {
   "cell_type": "markdown",
   "id": "098ebc9e",
   "metadata": {},
   "source": [
    "*to aap dekh sakte jahan jahan par ye null hai wahan isne False return kiya hai,* ***agar yahan par 0 ya none hota to ye True return karta***<br><br>\n",
    "***or agar mujhe B ke sare values 0 karna hai ya None karna hai to***"
   ]
  },
  {
   "cell_type": "code",
   "execution_count": 88,
   "id": "d8f5ddc8",
   "metadata": {},
   "outputs": [],
   "source": [
    "newdf['B'] = None"
   ]
  },
  {
   "cell_type": "code",
   "execution_count": 89,
   "id": "f4872e36",
   "metadata": {},
   "outputs": [
    {
     "data": {
      "text/html": [
       "<div>\n",
       "<style scoped>\n",
       "    .dataframe tbody tr th:only-of-type {\n",
       "        vertical-align: middle;\n",
       "    }\n",
       "\n",
       "    .dataframe tbody tr th {\n",
       "        vertical-align: top;\n",
       "    }\n",
       "\n",
       "    .dataframe thead th {\n",
       "        text-align: right;\n",
       "    }\n",
       "</style>\n",
       "<table border=\"1\" class=\"dataframe\">\n",
       "  <thead>\n",
       "    <tr style=\"text-align: right;\">\n",
       "      <th></th>\n",
       "      <th>B</th>\n",
       "      <th>C</th>\n",
       "      <th>D</th>\n",
       "      <th>E</th>\n",
       "    </tr>\n",
       "  </thead>\n",
       "  <tbody>\n",
       "    <tr>\n",
       "      <th>0</th>\n",
       "      <td>None</td>\n",
       "      <td>0.351642</td>\n",
       "      <td>0.316163</td>\n",
       "      <td>0.028390</td>\n",
       "    </tr>\n",
       "    <tr>\n",
       "      <th>1</th>\n",
       "      <td>None</td>\n",
       "      <td>0.831524</td>\n",
       "      <td>0.118030</td>\n",
       "      <td>0.525206</td>\n",
       "    </tr>\n",
       "    <tr>\n",
       "      <th>2</th>\n",
       "      <td>None</td>\n",
       "      <td>0.944044</td>\n",
       "      <td>0.869090</td>\n",
       "      <td>0.136935</td>\n",
       "    </tr>\n",
       "    <tr>\n",
       "      <th>3</th>\n",
       "      <td>None</td>\n",
       "      <td>0.140503</td>\n",
       "      <td>0.599835</td>\n",
       "      <td>0.511210</td>\n",
       "    </tr>\n",
       "    <tr>\n",
       "      <th>4</th>\n",
       "      <td>None</td>\n",
       "      <td>0.714506</td>\n",
       "      <td>0.572959</td>\n",
       "      <td>0.167123</td>\n",
       "    </tr>\n",
       "    <tr>\n",
       "      <th>...</th>\n",
       "      <td>...</td>\n",
       "      <td>...</td>\n",
       "      <td>...</td>\n",
       "      <td>...</td>\n",
       "    </tr>\n",
       "    <tr>\n",
       "      <th>327</th>\n",
       "      <td>None</td>\n",
       "      <td>0.882043</td>\n",
       "      <td>0.763866</td>\n",
       "      <td>0.218966</td>\n",
       "    </tr>\n",
       "    <tr>\n",
       "      <th>328</th>\n",
       "      <td>None</td>\n",
       "      <td>0.497827</td>\n",
       "      <td>0.485871</td>\n",
       "      <td>0.769743</td>\n",
       "    </tr>\n",
       "    <tr>\n",
       "      <th>329</th>\n",
       "      <td>None</td>\n",
       "      <td>0.876562</td>\n",
       "      <td>0.636201</td>\n",
       "      <td>0.223381</td>\n",
       "    </tr>\n",
       "    <tr>\n",
       "      <th>330</th>\n",
       "      <td>None</td>\n",
       "      <td>0.378399</td>\n",
       "      <td>0.803676</td>\n",
       "      <td>0.020226</td>\n",
       "    </tr>\n",
       "    <tr>\n",
       "      <th>331</th>\n",
       "      <td>None</td>\n",
       "      <td>0.097824</td>\n",
       "      <td>0.137642</td>\n",
       "      <td>0.102835</td>\n",
       "    </tr>\n",
       "  </tbody>\n",
       "</table>\n",
       "<p>332 rows × 4 columns</p>\n",
       "</div>"
      ],
      "text/plain": [
       "        B         C         D         E\n",
       "0    None  0.351642  0.316163  0.028390\n",
       "1    None  0.831524  0.118030  0.525206\n",
       "2    None  0.944044  0.869090  0.136935\n",
       "3    None  0.140503  0.599835  0.511210\n",
       "4    None  0.714506  0.572959  0.167123\n",
       "..    ...       ...       ...       ...\n",
       "327  None  0.882043  0.763866  0.218966\n",
       "328  None  0.497827  0.485871  0.769743\n",
       "329  None  0.876562  0.636201  0.223381\n",
       "330  None  0.378399  0.803676  0.020226\n",
       "331  None  0.097824  0.137642  0.102835\n",
       "\n",
       "[332 rows x 4 columns]"
      ]
     },
     "execution_count": 89,
     "metadata": {},
     "output_type": "execute_result"
    }
   ],
   "source": [
    "newdf"
   ]
  },
  {
   "cell_type": "markdown",
   "id": "5199def6",
   "metadata": {},
   "source": [
    "*to aap dekh sakte hai yahan B ke sare ke sare values None ho gaye hai*<br><br>***or aab agar hum newdf['B'] me isnull karenge to hume sare values True dikhayega*** "
   ]
  },
  {
   "cell_type": "code",
   "execution_count": 90,
   "id": "a4c4ba85",
   "metadata": {},
   "outputs": [
    {
     "data": {
      "text/plain": [
       "0      True\n",
       "1      True\n",
       "2      True\n",
       "3      True\n",
       "4      True\n",
       "       ... \n",
       "327    True\n",
       "328    True\n",
       "329    True\n",
       "330    True\n",
       "331    True\n",
       "Name: B, Length: 332, dtype: bool"
      ]
     },
     "execution_count": 90,
     "metadata": {},
     "output_type": "execute_result"
    }
   ],
   "source": [
    "newdf['B'].isnull()"
   ]
  },
  {
   "cell_type": "markdown",
   "id": "0508dc54",
   "metadata": {},
   "source": [
    "*abb ye sare hume True dikhayega*"
   ]
  },
  {
   "cell_type": "markdown",
   "id": "971dc1bd",
   "metadata": {},
   "source": [
    "## Note: Abb yahan par aap istarah isko kabhi na set kare, aaplog humesa .loc ki madad se hi set kare."
   ]
  },
  {
   "cell_type": "code",
   "execution_count": 91,
   "id": "fffbe5dc",
   "metadata": {},
   "outputs": [],
   "source": [
    "newdf.loc[:, ['B']] = None"
   ]
  },
  {
   "cell_type": "code",
   "execution_count": 92,
   "id": "056204e1",
   "metadata": {},
   "outputs": [
    {
     "data": {
      "text/html": [
       "<div>\n",
       "<style scoped>\n",
       "    .dataframe tbody tr th:only-of-type {\n",
       "        vertical-align: middle;\n",
       "    }\n",
       "\n",
       "    .dataframe tbody tr th {\n",
       "        vertical-align: top;\n",
       "    }\n",
       "\n",
       "    .dataframe thead th {\n",
       "        text-align: right;\n",
       "    }\n",
       "</style>\n",
       "<table border=\"1\" class=\"dataframe\">\n",
       "  <thead>\n",
       "    <tr style=\"text-align: right;\">\n",
       "      <th></th>\n",
       "      <th>B</th>\n",
       "      <th>C</th>\n",
       "      <th>D</th>\n",
       "      <th>E</th>\n",
       "    </tr>\n",
       "  </thead>\n",
       "  <tbody>\n",
       "    <tr>\n",
       "      <th>0</th>\n",
       "      <td>None</td>\n",
       "      <td>0.351642</td>\n",
       "      <td>0.316163</td>\n",
       "      <td>0.028390</td>\n",
       "    </tr>\n",
       "    <tr>\n",
       "      <th>1</th>\n",
       "      <td>None</td>\n",
       "      <td>0.831524</td>\n",
       "      <td>0.118030</td>\n",
       "      <td>0.525206</td>\n",
       "    </tr>\n",
       "    <tr>\n",
       "      <th>2</th>\n",
       "      <td>None</td>\n",
       "      <td>0.944044</td>\n",
       "      <td>0.869090</td>\n",
       "      <td>0.136935</td>\n",
       "    </tr>\n",
       "    <tr>\n",
       "      <th>3</th>\n",
       "      <td>None</td>\n",
       "      <td>0.140503</td>\n",
       "      <td>0.599835</td>\n",
       "      <td>0.511210</td>\n",
       "    </tr>\n",
       "    <tr>\n",
       "      <th>4</th>\n",
       "      <td>None</td>\n",
       "      <td>0.714506</td>\n",
       "      <td>0.572959</td>\n",
       "      <td>0.167123</td>\n",
       "    </tr>\n",
       "    <tr>\n",
       "      <th>...</th>\n",
       "      <td>...</td>\n",
       "      <td>...</td>\n",
       "      <td>...</td>\n",
       "      <td>...</td>\n",
       "    </tr>\n",
       "    <tr>\n",
       "      <th>327</th>\n",
       "      <td>None</td>\n",
       "      <td>0.882043</td>\n",
       "      <td>0.763866</td>\n",
       "      <td>0.218966</td>\n",
       "    </tr>\n",
       "    <tr>\n",
       "      <th>328</th>\n",
       "      <td>None</td>\n",
       "      <td>0.497827</td>\n",
       "      <td>0.485871</td>\n",
       "      <td>0.769743</td>\n",
       "    </tr>\n",
       "    <tr>\n",
       "      <th>329</th>\n",
       "      <td>None</td>\n",
       "      <td>0.876562</td>\n",
       "      <td>0.636201</td>\n",
       "      <td>0.223381</td>\n",
       "    </tr>\n",
       "    <tr>\n",
       "      <th>330</th>\n",
       "      <td>None</td>\n",
       "      <td>0.378399</td>\n",
       "      <td>0.803676</td>\n",
       "      <td>0.020226</td>\n",
       "    </tr>\n",
       "    <tr>\n",
       "      <th>331</th>\n",
       "      <td>None</td>\n",
       "      <td>0.097824</td>\n",
       "      <td>0.137642</td>\n",
       "      <td>0.102835</td>\n",
       "    </tr>\n",
       "  </tbody>\n",
       "</table>\n",
       "<p>332 rows × 4 columns</p>\n",
       "</div>"
      ],
      "text/plain": [
       "        B         C         D         E\n",
       "0    None  0.351642  0.316163  0.028390\n",
       "1    None  0.831524  0.118030  0.525206\n",
       "2    None  0.944044  0.869090  0.136935\n",
       "3    None  0.140503  0.599835  0.511210\n",
       "4    None  0.714506  0.572959  0.167123\n",
       "..    ...       ...       ...       ...\n",
       "327  None  0.882043  0.763866  0.218966\n",
       "328  None  0.497827  0.485871  0.769743\n",
       "329  None  0.876562  0.636201  0.223381\n",
       "330  None  0.378399  0.803676  0.020226\n",
       "331  None  0.097824  0.137642  0.102835\n",
       "\n",
       "[332 rows x 4 columns]"
      ]
     },
     "execution_count": 92,
     "metadata": {},
     "output_type": "execute_result"
    }
   ],
   "source": [
    "newdf"
   ]
  },
  {
   "cell_type": "markdown",
   "id": "e257c231",
   "metadata": {},
   "source": [
    "*to aap dekh sakte humne abb isko .loc ki madad se set karke humne iske value ko change kar diya*<br><br>***to aap yahan = equalto me kuch bhi likh kar run kar sakte hai or .loc hi sahi tarika hai kisi bhi value ko set karne ka***<br>**.loc hi karna cahiye nahi to hum cahining ke time pareasan ho jayenge, agar hum \"direct\" set karte hai to kyuki wo kabhi copy return karta hai kabhi view return karta hai humare dataframe ka isiliye**"
   ]
  },
  {
   "cell_type": "code",
   "execution_count": 93,
   "id": "1740687c",
   "metadata": {},
   "outputs": [],
   "source": [
    "newdf.loc[:, ['B']] = 56"
   ]
  },
  {
   "cell_type": "code",
   "execution_count": 94,
   "id": "90f6535e",
   "metadata": {},
   "outputs": [
    {
     "data": {
      "text/html": [
       "<div>\n",
       "<style scoped>\n",
       "    .dataframe tbody tr th:only-of-type {\n",
       "        vertical-align: middle;\n",
       "    }\n",
       "\n",
       "    .dataframe tbody tr th {\n",
       "        vertical-align: top;\n",
       "    }\n",
       "\n",
       "    .dataframe thead th {\n",
       "        text-align: right;\n",
       "    }\n",
       "</style>\n",
       "<table border=\"1\" class=\"dataframe\">\n",
       "  <thead>\n",
       "    <tr style=\"text-align: right;\">\n",
       "      <th></th>\n",
       "      <th>B</th>\n",
       "      <th>C</th>\n",
       "      <th>D</th>\n",
       "      <th>E</th>\n",
       "    </tr>\n",
       "  </thead>\n",
       "  <tbody>\n",
       "    <tr>\n",
       "      <th>0</th>\n",
       "      <td>56</td>\n",
       "      <td>0.351642</td>\n",
       "      <td>0.316163</td>\n",
       "      <td>0.028390</td>\n",
       "    </tr>\n",
       "    <tr>\n",
       "      <th>1</th>\n",
       "      <td>56</td>\n",
       "      <td>0.831524</td>\n",
       "      <td>0.118030</td>\n",
       "      <td>0.525206</td>\n",
       "    </tr>\n",
       "    <tr>\n",
       "      <th>2</th>\n",
       "      <td>56</td>\n",
       "      <td>0.944044</td>\n",
       "      <td>0.869090</td>\n",
       "      <td>0.136935</td>\n",
       "    </tr>\n",
       "    <tr>\n",
       "      <th>3</th>\n",
       "      <td>56</td>\n",
       "      <td>0.140503</td>\n",
       "      <td>0.599835</td>\n",
       "      <td>0.511210</td>\n",
       "    </tr>\n",
       "    <tr>\n",
       "      <th>4</th>\n",
       "      <td>56</td>\n",
       "      <td>0.714506</td>\n",
       "      <td>0.572959</td>\n",
       "      <td>0.167123</td>\n",
       "    </tr>\n",
       "    <tr>\n",
       "      <th>...</th>\n",
       "      <td>...</td>\n",
       "      <td>...</td>\n",
       "      <td>...</td>\n",
       "      <td>...</td>\n",
       "    </tr>\n",
       "    <tr>\n",
       "      <th>327</th>\n",
       "      <td>56</td>\n",
       "      <td>0.882043</td>\n",
       "      <td>0.763866</td>\n",
       "      <td>0.218966</td>\n",
       "    </tr>\n",
       "    <tr>\n",
       "      <th>328</th>\n",
       "      <td>56</td>\n",
       "      <td>0.497827</td>\n",
       "      <td>0.485871</td>\n",
       "      <td>0.769743</td>\n",
       "    </tr>\n",
       "    <tr>\n",
       "      <th>329</th>\n",
       "      <td>56</td>\n",
       "      <td>0.876562</td>\n",
       "      <td>0.636201</td>\n",
       "      <td>0.223381</td>\n",
       "    </tr>\n",
       "    <tr>\n",
       "      <th>330</th>\n",
       "      <td>56</td>\n",
       "      <td>0.378399</td>\n",
       "      <td>0.803676</td>\n",
       "      <td>0.020226</td>\n",
       "    </tr>\n",
       "    <tr>\n",
       "      <th>331</th>\n",
       "      <td>56</td>\n",
       "      <td>0.097824</td>\n",
       "      <td>0.137642</td>\n",
       "      <td>0.102835</td>\n",
       "    </tr>\n",
       "  </tbody>\n",
       "</table>\n",
       "<p>332 rows × 4 columns</p>\n",
       "</div>"
      ],
      "text/plain": [
       "      B         C         D         E\n",
       "0    56  0.351642  0.316163  0.028390\n",
       "1    56  0.831524  0.118030  0.525206\n",
       "2    56  0.944044  0.869090  0.136935\n",
       "3    56  0.140503  0.599835  0.511210\n",
       "4    56  0.714506  0.572959  0.167123\n",
       "..   ..       ...       ...       ...\n",
       "327  56  0.882043  0.763866  0.218966\n",
       "328  56  0.497827  0.485871  0.769743\n",
       "329  56  0.876562  0.636201  0.223381\n",
       "330  56  0.378399  0.803676  0.020226\n",
       "331  56  0.097824  0.137642  0.102835\n",
       "\n",
       "[332 rows x 4 columns]"
      ]
     },
     "execution_count": 94,
     "metadata": {},
     "output_type": "execute_result"
    }
   ],
   "source": [
    "newdf"
   ]
  },
  {
   "cell_type": "markdown",
   "id": "4598b0cc",
   "metadata": {},
   "source": [
    "*to aap dekh sakte hai abhi 56 aa gaya hai to hum equaltoo ke age kuch bhi set kar sakte hai*"
   ]
  },
  {
   "cell_type": "markdown",
   "id": "ea5691c1",
   "metadata": {},
   "source": [
    "# 1.Abb hum ek naya DataFrame banayenge"
   ]
  },
  {
   "cell_type": "markdown",
   "id": "461552cd",
   "metadata": {},
   "source": [
    "# (A).drop"
   ]
  },
  {
   "cell_type": "code",
   "execution_count": 95,
   "id": "6f46909a",
   "metadata": {},
   "outputs": [],
   "source": [
    "df = pd.DataFrame({\"name\":['Alfred', 'Batman', 'catwoman'],\n",
    "                  \"toy\":[np.nan, 'Batmobile', 'Bullwhip'],\n",
    "                  \"born\":[pd.NaT, pd.Timestamp(\"1940-04-25\"),\n",
    "                          pd.NaT]})"
   ]
  },
  {
   "cell_type": "code",
   "execution_count": 96,
   "id": "cc07decb",
   "metadata": {},
   "outputs": [
    {
     "data": {
      "text/html": [
       "<div>\n",
       "<style scoped>\n",
       "    .dataframe tbody tr th:only-of-type {\n",
       "        vertical-align: middle;\n",
       "    }\n",
       "\n",
       "    .dataframe tbody tr th {\n",
       "        vertical-align: top;\n",
       "    }\n",
       "\n",
       "    .dataframe thead th {\n",
       "        text-align: right;\n",
       "    }\n",
       "</style>\n",
       "<table border=\"1\" class=\"dataframe\">\n",
       "  <thead>\n",
       "    <tr style=\"text-align: right;\">\n",
       "      <th></th>\n",
       "      <th>name</th>\n",
       "      <th>toy</th>\n",
       "      <th>born</th>\n",
       "    </tr>\n",
       "  </thead>\n",
       "  <tbody>\n",
       "    <tr>\n",
       "      <th>0</th>\n",
       "      <td>Alfred</td>\n",
       "      <td>NaN</td>\n",
       "      <td>NaT</td>\n",
       "    </tr>\n",
       "    <tr>\n",
       "      <th>1</th>\n",
       "      <td>Batman</td>\n",
       "      <td>Batmobile</td>\n",
       "      <td>1940-04-25</td>\n",
       "    </tr>\n",
       "    <tr>\n",
       "      <th>2</th>\n",
       "      <td>catwoman</td>\n",
       "      <td>Bullwhip</td>\n",
       "      <td>NaT</td>\n",
       "    </tr>\n",
       "  </tbody>\n",
       "</table>\n",
       "</div>"
      ],
      "text/plain": [
       "       name        toy       born\n",
       "0    Alfred        NaN        NaT\n",
       "1    Batman  Batmobile 1940-04-25\n",
       "2  catwoman   Bullwhip        NaT"
      ]
     },
     "execution_count": 96,
     "metadata": {},
     "output_type": "execute_result"
    }
   ],
   "source": [
    "df.head()"
   ]
  },
  {
   "cell_type": "markdown",
   "id": "cc938f1a",
   "metadata": {},
   "source": [
    "*abb hum is dataframe se Na ko drop karenge*"
   ]
  },
  {
   "cell_type": "code",
   "execution_count": 97,
   "id": "95373422",
   "metadata": {},
   "outputs": [
    {
     "data": {
      "text/html": [
       "<div>\n",
       "<style scoped>\n",
       "    .dataframe tbody tr th:only-of-type {\n",
       "        vertical-align: middle;\n",
       "    }\n",
       "\n",
       "    .dataframe tbody tr th {\n",
       "        vertical-align: top;\n",
       "    }\n",
       "\n",
       "    .dataframe thead th {\n",
       "        text-align: right;\n",
       "    }\n",
       "</style>\n",
       "<table border=\"1\" class=\"dataframe\">\n",
       "  <thead>\n",
       "    <tr style=\"text-align: right;\">\n",
       "      <th></th>\n",
       "      <th>name</th>\n",
       "      <th>toy</th>\n",
       "      <th>born</th>\n",
       "    </tr>\n",
       "  </thead>\n",
       "  <tbody>\n",
       "    <tr>\n",
       "      <th>1</th>\n",
       "      <td>Batman</td>\n",
       "      <td>Batmobile</td>\n",
       "      <td>1940-04-25</td>\n",
       "    </tr>\n",
       "  </tbody>\n",
       "</table>\n",
       "</div>"
      ],
      "text/plain": [
       "     name        toy       born\n",
       "1  Batman  Batmobile 1940-04-25"
      ]
     },
     "execution_count": 97,
     "metadata": {},
     "output_type": "execute_result"
    }
   ],
   "source": [
    "df.dropna()"
   ]
  },
  {
   "cell_type": "markdown",
   "id": "6108c8ad",
   "metadata": {},
   "source": [
    "*to jahan jahan na tha isne usko drop kar diya hai*"
   ]
  },
  {
   "cell_type": "code",
   "execution_count": 98,
   "id": "210b7f9c",
   "metadata": {},
   "outputs": [
    {
     "data": {
      "text/html": [
       "<div>\n",
       "<style scoped>\n",
       "    .dataframe tbody tr th:only-of-type {\n",
       "        vertical-align: middle;\n",
       "    }\n",
       "\n",
       "    .dataframe tbody tr th {\n",
       "        vertical-align: top;\n",
       "    }\n",
       "\n",
       "    .dataframe thead th {\n",
       "        text-align: right;\n",
       "    }\n",
       "</style>\n",
       "<table border=\"1\" class=\"dataframe\">\n",
       "  <thead>\n",
       "    <tr style=\"text-align: right;\">\n",
       "      <th></th>\n",
       "      <th>name</th>\n",
       "      <th>toy</th>\n",
       "      <th>born</th>\n",
       "    </tr>\n",
       "  </thead>\n",
       "  <tbody>\n",
       "    <tr>\n",
       "      <th>0</th>\n",
       "      <td>Alfred</td>\n",
       "      <td>NaN</td>\n",
       "      <td>NaT</td>\n",
       "    </tr>\n",
       "    <tr>\n",
       "      <th>1</th>\n",
       "      <td>Batman</td>\n",
       "      <td>Batmobile</td>\n",
       "      <td>1940-04-25</td>\n",
       "    </tr>\n",
       "    <tr>\n",
       "      <th>2</th>\n",
       "      <td>catwoman</td>\n",
       "      <td>Bullwhip</td>\n",
       "      <td>NaT</td>\n",
       "    </tr>\n",
       "  </tbody>\n",
       "</table>\n",
       "</div>"
      ],
      "text/plain": [
       "       name        toy       born\n",
       "0    Alfred        NaN        NaT\n",
       "1    Batman  Batmobile 1940-04-25\n",
       "2  catwoman   Bullwhip        NaT"
      ]
     },
     "execution_count": 98,
     "metadata": {},
     "output_type": "execute_result"
    }
   ],
   "source": [
    "df.dropna(how='all')"
   ]
  },
  {
   "cell_type": "markdown",
   "id": "834fc174",
   "metadata": {},
   "source": [
    "**how='all':** *means jab tak sare ke sare \"nan\" nahi ho jate tab tak ye row or column remove nahi karega*<br>**abb hum Batmobile ki jagah par np.nan or Bullwhip ke jagah par bhi np.nan karenge or fir how='all' ko dekhenge**"
   ]
  },
  {
   "cell_type": "code",
   "execution_count": 99,
   "id": "d0c48f2b",
   "metadata": {},
   "outputs": [],
   "source": [
    "df = pd.DataFrame({\"name\":['Alfred', 'Batman', 'catwoman'],\n",
    "                  \"toy\":[np.nan, np.nan, np.nan],\n",
    "                  \"born\":[pd.NaT, pd.Timestamp(\"1940-04-25\"),\n",
    "                          pd.NaT]})"
   ]
  },
  {
   "cell_type": "code",
   "execution_count": 100,
   "id": "e4e23431",
   "metadata": {},
   "outputs": [
    {
     "data": {
      "text/html": [
       "<div>\n",
       "<style scoped>\n",
       "    .dataframe tbody tr th:only-of-type {\n",
       "        vertical-align: middle;\n",
       "    }\n",
       "\n",
       "    .dataframe tbody tr th {\n",
       "        vertical-align: top;\n",
       "    }\n",
       "\n",
       "    .dataframe thead th {\n",
       "        text-align: right;\n",
       "    }\n",
       "</style>\n",
       "<table border=\"1\" class=\"dataframe\">\n",
       "  <thead>\n",
       "    <tr style=\"text-align: right;\">\n",
       "      <th></th>\n",
       "      <th>name</th>\n",
       "      <th>toy</th>\n",
       "      <th>born</th>\n",
       "    </tr>\n",
       "  </thead>\n",
       "  <tbody>\n",
       "    <tr>\n",
       "      <th>0</th>\n",
       "      <td>Alfred</td>\n",
       "      <td>NaN</td>\n",
       "      <td>NaT</td>\n",
       "    </tr>\n",
       "    <tr>\n",
       "      <th>1</th>\n",
       "      <td>Batman</td>\n",
       "      <td>NaN</td>\n",
       "      <td>1940-04-25</td>\n",
       "    </tr>\n",
       "    <tr>\n",
       "      <th>2</th>\n",
       "      <td>catwoman</td>\n",
       "      <td>NaN</td>\n",
       "      <td>NaT</td>\n",
       "    </tr>\n",
       "  </tbody>\n",
       "</table>\n",
       "</div>"
      ],
      "text/plain": [
       "       name  toy       born\n",
       "0    Alfred  NaN        NaT\n",
       "1    Batman  NaN 1940-04-25\n",
       "2  catwoman  NaN        NaT"
      ]
     },
     "execution_count": 100,
     "metadata": {},
     "output_type": "execute_result"
    }
   ],
   "source": [
    "df"
   ]
  },
  {
   "cell_type": "code",
   "execution_count": 101,
   "id": "dd860a60",
   "metadata": {},
   "outputs": [
    {
     "data": {
      "text/html": [
       "<div>\n",
       "<style scoped>\n",
       "    .dataframe tbody tr th:only-of-type {\n",
       "        vertical-align: middle;\n",
       "    }\n",
       "\n",
       "    .dataframe tbody tr th {\n",
       "        vertical-align: top;\n",
       "    }\n",
       "\n",
       "    .dataframe thead th {\n",
       "        text-align: right;\n",
       "    }\n",
       "</style>\n",
       "<table border=\"1\" class=\"dataframe\">\n",
       "  <thead>\n",
       "    <tr style=\"text-align: right;\">\n",
       "      <th></th>\n",
       "      <th>name</th>\n",
       "      <th>born</th>\n",
       "    </tr>\n",
       "  </thead>\n",
       "  <tbody>\n",
       "    <tr>\n",
       "      <th>0</th>\n",
       "      <td>Alfred</td>\n",
       "      <td>NaT</td>\n",
       "    </tr>\n",
       "    <tr>\n",
       "      <th>1</th>\n",
       "      <td>Batman</td>\n",
       "      <td>1940-04-25</td>\n",
       "    </tr>\n",
       "    <tr>\n",
       "      <th>2</th>\n",
       "      <td>catwoman</td>\n",
       "      <td>NaT</td>\n",
       "    </tr>\n",
       "  </tbody>\n",
       "</table>\n",
       "</div>"
      ],
      "text/plain": [
       "       name       born\n",
       "0    Alfred        NaT\n",
       "1    Batman 1940-04-25\n",
       "2  catwoman        NaT"
      ]
     },
     "execution_count": 101,
     "metadata": {},
     "output_type": "execute_result"
    }
   ],
   "source": [
    "df.dropna(how='all', axis=1)"
   ]
  },
  {
   "cell_type": "markdown",
   "id": "fcc1a3bf",
   "metadata": {},
   "source": [
    "*to abb aap dekh sakte hai humara toy column gayab ho chuka hai, or humne yahan axis=1 isiliye kiya kyuki axis=1 means column hota hai*"
   ]
  },
  {
   "cell_type": "markdown",
   "id": "178fbde9",
   "metadata": {},
   "source": [
    "# (B).drop_duplicates"
   ]
  },
  {
   "cell_type": "code",
   "execution_count": 102,
   "id": "37cd7d7f",
   "metadata": {},
   "outputs": [],
   "source": [
    "df = pd.DataFrame({\"name\":['Alfred', 'Batman', 'Alfred'],\n",
    "                  \"toy\":[np.nan, 'Batmobile', 'Bullwhip'],\n",
    "                  \"born\":[pd.NaT, pd.Timestamp(\"1940-04-25\"),\n",
    "                          pd.NaT]})"
   ]
  },
  {
   "cell_type": "code",
   "execution_count": 103,
   "id": "6c6c1022",
   "metadata": {},
   "outputs": [
    {
     "data": {
      "text/html": [
       "<div>\n",
       "<style scoped>\n",
       "    .dataframe tbody tr th:only-of-type {\n",
       "        vertical-align: middle;\n",
       "    }\n",
       "\n",
       "    .dataframe tbody tr th {\n",
       "        vertical-align: top;\n",
       "    }\n",
       "\n",
       "    .dataframe thead th {\n",
       "        text-align: right;\n",
       "    }\n",
       "</style>\n",
       "<table border=\"1\" class=\"dataframe\">\n",
       "  <thead>\n",
       "    <tr style=\"text-align: right;\">\n",
       "      <th></th>\n",
       "      <th>name</th>\n",
       "      <th>toy</th>\n",
       "      <th>born</th>\n",
       "    </tr>\n",
       "  </thead>\n",
       "  <tbody>\n",
       "    <tr>\n",
       "      <th>0</th>\n",
       "      <td>Alfred</td>\n",
       "      <td>NaN</td>\n",
       "      <td>NaT</td>\n",
       "    </tr>\n",
       "    <tr>\n",
       "      <th>1</th>\n",
       "      <td>Batman</td>\n",
       "      <td>Batmobile</td>\n",
       "      <td>1940-04-25</td>\n",
       "    </tr>\n",
       "    <tr>\n",
       "      <th>2</th>\n",
       "      <td>Alfred</td>\n",
       "      <td>Bullwhip</td>\n",
       "      <td>NaT</td>\n",
       "    </tr>\n",
       "  </tbody>\n",
       "</table>\n",
       "</div>"
      ],
      "text/plain": [
       "     name        toy       born\n",
       "0  Alfred        NaN        NaT\n",
       "1  Batman  Batmobile 1940-04-25\n",
       "2  Alfred   Bullwhip        NaT"
      ]
     },
     "execution_count": 103,
     "metadata": {},
     "output_type": "execute_result"
    }
   ],
   "source": [
    "df"
   ]
  },
  {
   "cell_type": "markdown",
   "id": "c28b5871",
   "metadata": {},
   "source": [
    "*to humne yahan par catwoman ko hata kar Alfred kar diya hai jisse name me duplicate hojayega*"
   ]
  },
  {
   "cell_type": "code",
   "execution_count": 104,
   "id": "b7d531ed",
   "metadata": {},
   "outputs": [
    {
     "data": {
      "text/html": [
       "<div>\n",
       "<style scoped>\n",
       "    .dataframe tbody tr th:only-of-type {\n",
       "        vertical-align: middle;\n",
       "    }\n",
       "\n",
       "    .dataframe tbody tr th {\n",
       "        vertical-align: top;\n",
       "    }\n",
       "\n",
       "    .dataframe thead th {\n",
       "        text-align: right;\n",
       "    }\n",
       "</style>\n",
       "<table border=\"1\" class=\"dataframe\">\n",
       "  <thead>\n",
       "    <tr style=\"text-align: right;\">\n",
       "      <th></th>\n",
       "      <th>name</th>\n",
       "      <th>toy</th>\n",
       "      <th>born</th>\n",
       "    </tr>\n",
       "  </thead>\n",
       "  <tbody>\n",
       "    <tr>\n",
       "      <th>0</th>\n",
       "      <td>Alfred</td>\n",
       "      <td>NaN</td>\n",
       "      <td>NaT</td>\n",
       "    </tr>\n",
       "    <tr>\n",
       "      <th>1</th>\n",
       "      <td>Batman</td>\n",
       "      <td>Batmobile</td>\n",
       "      <td>1940-04-25</td>\n",
       "    </tr>\n",
       "  </tbody>\n",
       "</table>\n",
       "</div>"
      ],
      "text/plain": [
       "     name        toy       born\n",
       "0  Alfred        NaN        NaT\n",
       "1  Batman  Batmobile 1940-04-25"
      ]
     },
     "execution_count": 104,
     "metadata": {},
     "output_type": "execute_result"
    }
   ],
   "source": [
    "df.drop_duplicates(subset=['name'])"
   ]
  },
  {
   "cell_type": "markdown",
   "id": "df8ec93b",
   "metadata": {},
   "source": [
    "*to isne yahan se duplicates ko hata diya hai*<br>**abb hum yaha first duplicate ya last duplicate rakh sakte hai ya duplicate ko puri tarah hata bhi sakte hai**"
   ]
  },
  {
   "cell_type": "code",
   "execution_count": 105,
   "id": "382ae6fc",
   "metadata": {},
   "outputs": [
    {
     "data": {
      "text/html": [
       "<div>\n",
       "<style scoped>\n",
       "    .dataframe tbody tr th:only-of-type {\n",
       "        vertical-align: middle;\n",
       "    }\n",
       "\n",
       "    .dataframe tbody tr th {\n",
       "        vertical-align: top;\n",
       "    }\n",
       "\n",
       "    .dataframe thead th {\n",
       "        text-align: right;\n",
       "    }\n",
       "</style>\n",
       "<table border=\"1\" class=\"dataframe\">\n",
       "  <thead>\n",
       "    <tr style=\"text-align: right;\">\n",
       "      <th></th>\n",
       "      <th>name</th>\n",
       "      <th>toy</th>\n",
       "      <th>born</th>\n",
       "    </tr>\n",
       "  </thead>\n",
       "  <tbody>\n",
       "    <tr>\n",
       "      <th>0</th>\n",
       "      <td>Alfred</td>\n",
       "      <td>NaN</td>\n",
       "      <td>NaT</td>\n",
       "    </tr>\n",
       "    <tr>\n",
       "      <th>1</th>\n",
       "      <td>Batman</td>\n",
       "      <td>Batmobile</td>\n",
       "      <td>1940-04-25</td>\n",
       "    </tr>\n",
       "  </tbody>\n",
       "</table>\n",
       "</div>"
      ],
      "text/plain": [
       "     name        toy       born\n",
       "0  Alfred        NaN        NaT\n",
       "1  Batman  Batmobile 1940-04-25"
      ]
     },
     "execution_count": 105,
     "metadata": {},
     "output_type": "execute_result"
    }
   ],
   "source": [
    "df.drop_duplicates(subset=['name'], keep='first')"
   ]
  },
  {
   "cell_type": "markdown",
   "id": "a0421d4c",
   "metadata": {},
   "source": [
    "*isse pehla duplicate rahega*"
   ]
  },
  {
   "cell_type": "code",
   "execution_count": 106,
   "id": "4bbab7ec",
   "metadata": {},
   "outputs": [
    {
     "data": {
      "text/html": [
       "<div>\n",
       "<style scoped>\n",
       "    .dataframe tbody tr th:only-of-type {\n",
       "        vertical-align: middle;\n",
       "    }\n",
       "\n",
       "    .dataframe tbody tr th {\n",
       "        vertical-align: top;\n",
       "    }\n",
       "\n",
       "    .dataframe thead th {\n",
       "        text-align: right;\n",
       "    }\n",
       "</style>\n",
       "<table border=\"1\" class=\"dataframe\">\n",
       "  <thead>\n",
       "    <tr style=\"text-align: right;\">\n",
       "      <th></th>\n",
       "      <th>name</th>\n",
       "      <th>toy</th>\n",
       "      <th>born</th>\n",
       "    </tr>\n",
       "  </thead>\n",
       "  <tbody>\n",
       "    <tr>\n",
       "      <th>1</th>\n",
       "      <td>Batman</td>\n",
       "      <td>Batmobile</td>\n",
       "      <td>1940-04-25</td>\n",
       "    </tr>\n",
       "    <tr>\n",
       "      <th>2</th>\n",
       "      <td>Alfred</td>\n",
       "      <td>Bullwhip</td>\n",
       "      <td>NaT</td>\n",
       "    </tr>\n",
       "  </tbody>\n",
       "</table>\n",
       "</div>"
      ],
      "text/plain": [
       "     name        toy       born\n",
       "1  Batman  Batmobile 1940-04-25\n",
       "2  Alfred   Bullwhip        NaT"
      ]
     },
     "execution_count": 106,
     "metadata": {},
     "output_type": "execute_result"
    }
   ],
   "source": [
    "df.drop_duplicates(subset=['name'], keep='last')"
   ]
  },
  {
   "cell_type": "markdown",
   "id": "a2070062",
   "metadata": {},
   "source": [
    "*isse last duplicate rahega*"
   ]
  },
  {
   "cell_type": "code",
   "execution_count": 107,
   "id": "27cd53ec",
   "metadata": {},
   "outputs": [
    {
     "data": {
      "text/html": [
       "<div>\n",
       "<style scoped>\n",
       "    .dataframe tbody tr th:only-of-type {\n",
       "        vertical-align: middle;\n",
       "    }\n",
       "\n",
       "    .dataframe tbody tr th {\n",
       "        vertical-align: top;\n",
       "    }\n",
       "\n",
       "    .dataframe thead th {\n",
       "        text-align: right;\n",
       "    }\n",
       "</style>\n",
       "<table border=\"1\" class=\"dataframe\">\n",
       "  <thead>\n",
       "    <tr style=\"text-align: right;\">\n",
       "      <th></th>\n",
       "      <th>name</th>\n",
       "      <th>toy</th>\n",
       "      <th>born</th>\n",
       "    </tr>\n",
       "  </thead>\n",
       "  <tbody>\n",
       "    <tr>\n",
       "      <th>1</th>\n",
       "      <td>Batman</td>\n",
       "      <td>Batmobile</td>\n",
       "      <td>1940-04-25</td>\n",
       "    </tr>\n",
       "  </tbody>\n",
       "</table>\n",
       "</div>"
      ],
      "text/plain": [
       "     name        toy       born\n",
       "1  Batman  Batmobile 1940-04-25"
      ]
     },
     "execution_count": 107,
     "metadata": {},
     "output_type": "execute_result"
    }
   ],
   "source": [
    "df.drop_duplicates(subset=['name'], keep=False)"
   ]
  },
  {
   "cell_type": "markdown",
   "id": "f4b6de44",
   "metadata": {},
   "source": [
    "*or isse duplicate hi hat jayega*"
   ]
  },
  {
   "cell_type": "markdown",
   "id": "1ca20ff9",
   "metadata": {},
   "source": [
    "# ()Some Extra Functions\n",
    "***agar apko ek data set diya gaya hai to usko inspect kis tarah karna hai***"
   ]
  },
  {
   "cell_type": "code",
   "execution_count": 108,
   "id": "0eecf5a6",
   "metadata": {},
   "outputs": [
    {
     "data": {
      "text/html": [
       "<div>\n",
       "<style scoped>\n",
       "    .dataframe tbody tr th:only-of-type {\n",
       "        vertical-align: middle;\n",
       "    }\n",
       "\n",
       "    .dataframe tbody tr th {\n",
       "        vertical-align: top;\n",
       "    }\n",
       "\n",
       "    .dataframe thead th {\n",
       "        text-align: right;\n",
       "    }\n",
       "</style>\n",
       "<table border=\"1\" class=\"dataframe\">\n",
       "  <thead>\n",
       "    <tr style=\"text-align: right;\">\n",
       "      <th></th>\n",
       "      <th>name</th>\n",
       "      <th>toy</th>\n",
       "      <th>born</th>\n",
       "    </tr>\n",
       "  </thead>\n",
       "  <tbody>\n",
       "    <tr>\n",
       "      <th>0</th>\n",
       "      <td>Alfred</td>\n",
       "      <td>NaN</td>\n",
       "      <td>NaT</td>\n",
       "    </tr>\n",
       "    <tr>\n",
       "      <th>1</th>\n",
       "      <td>Batman</td>\n",
       "      <td>Batmobile</td>\n",
       "      <td>1940-04-25</td>\n",
       "    </tr>\n",
       "    <tr>\n",
       "      <th>2</th>\n",
       "      <td>Alfred</td>\n",
       "      <td>Bullwhip</td>\n",
       "      <td>NaT</td>\n",
       "    </tr>\n",
       "  </tbody>\n",
       "</table>\n",
       "</div>"
      ],
      "text/plain": [
       "     name        toy       born\n",
       "0  Alfred        NaN        NaT\n",
       "1  Batman  Batmobile 1940-04-25\n",
       "2  Alfred   Bullwhip        NaT"
      ]
     },
     "execution_count": 108,
     "metadata": {},
     "output_type": "execute_result"
    }
   ],
   "source": [
    "df.head()"
   ]
  },
  {
   "cell_type": "code",
   "execution_count": 109,
   "id": "32018504",
   "metadata": {},
   "outputs": [
    {
     "data": {
      "text/html": [
       "<div>\n",
       "<style scoped>\n",
       "    .dataframe tbody tr th:only-of-type {\n",
       "        vertical-align: middle;\n",
       "    }\n",
       "\n",
       "    .dataframe tbody tr th {\n",
       "        vertical-align: top;\n",
       "    }\n",
       "\n",
       "    .dataframe thead th {\n",
       "        text-align: right;\n",
       "    }\n",
       "</style>\n",
       "<table border=\"1\" class=\"dataframe\">\n",
       "  <thead>\n",
       "    <tr style=\"text-align: right;\">\n",
       "      <th></th>\n",
       "      <th>name</th>\n",
       "      <th>toy</th>\n",
       "      <th>born</th>\n",
       "    </tr>\n",
       "  </thead>\n",
       "  <tbody>\n",
       "    <tr>\n",
       "      <th>0</th>\n",
       "      <td>Alfred</td>\n",
       "      <td>NaN</td>\n",
       "      <td>NaT</td>\n",
       "    </tr>\n",
       "    <tr>\n",
       "      <th>1</th>\n",
       "      <td>Batman</td>\n",
       "      <td>Batmobile</td>\n",
       "      <td>1940-04-25</td>\n",
       "    </tr>\n",
       "    <tr>\n",
       "      <th>2</th>\n",
       "      <td>Alfred</td>\n",
       "      <td>Bullwhip</td>\n",
       "      <td>NaT</td>\n",
       "    </tr>\n",
       "  </tbody>\n",
       "</table>\n",
       "</div>"
      ],
      "text/plain": [
       "     name        toy       born\n",
       "0  Alfred        NaN        NaT\n",
       "1  Batman  Batmobile 1940-04-25\n",
       "2  Alfred   Bullwhip        NaT"
      ]
     },
     "execution_count": 109,
     "metadata": {},
     "output_type": "execute_result"
    }
   ],
   "source": [
    "df.tail()"
   ]
  },
  {
   "cell_type": "code",
   "execution_count": 110,
   "id": "ae4c387f",
   "metadata": {},
   "outputs": [
    {
     "name": "stderr",
     "output_type": "stream",
     "text": [
      "C:\\Users\\SANJIV~1\\AppData\\Local\\Temp/ipykernel_11692/3627053830.py:1: FutureWarning: Treating datetime data as categorical rather than numeric in `.describe` is deprecated and will be removed in a future version of pandas. Specify `datetime_is_numeric=True` to silence this warning and adopt the future behavior now.\n",
      "  df.describe()\n"
     ]
    },
    {
     "data": {
      "text/html": [
       "<div>\n",
       "<style scoped>\n",
       "    .dataframe tbody tr th:only-of-type {\n",
       "        vertical-align: middle;\n",
       "    }\n",
       "\n",
       "    .dataframe tbody tr th {\n",
       "        vertical-align: top;\n",
       "    }\n",
       "\n",
       "    .dataframe thead th {\n",
       "        text-align: right;\n",
       "    }\n",
       "</style>\n",
       "<table border=\"1\" class=\"dataframe\">\n",
       "  <thead>\n",
       "    <tr style=\"text-align: right;\">\n",
       "      <th></th>\n",
       "      <th>name</th>\n",
       "      <th>toy</th>\n",
       "      <th>born</th>\n",
       "    </tr>\n",
       "  </thead>\n",
       "  <tbody>\n",
       "    <tr>\n",
       "      <th>count</th>\n",
       "      <td>3</td>\n",
       "      <td>2</td>\n",
       "      <td>1</td>\n",
       "    </tr>\n",
       "    <tr>\n",
       "      <th>unique</th>\n",
       "      <td>2</td>\n",
       "      <td>2</td>\n",
       "      <td>1</td>\n",
       "    </tr>\n",
       "    <tr>\n",
       "      <th>top</th>\n",
       "      <td>Alfred</td>\n",
       "      <td>Batmobile</td>\n",
       "      <td>1940-04-25 00:00:00</td>\n",
       "    </tr>\n",
       "    <tr>\n",
       "      <th>freq</th>\n",
       "      <td>2</td>\n",
       "      <td>1</td>\n",
       "      <td>1</td>\n",
       "    </tr>\n",
       "    <tr>\n",
       "      <th>first</th>\n",
       "      <td>NaN</td>\n",
       "      <td>NaN</td>\n",
       "      <td>1940-04-25 00:00:00</td>\n",
       "    </tr>\n",
       "    <tr>\n",
       "      <th>last</th>\n",
       "      <td>NaN</td>\n",
       "      <td>NaN</td>\n",
       "      <td>1940-04-25 00:00:00</td>\n",
       "    </tr>\n",
       "  </tbody>\n",
       "</table>\n",
       "</div>"
      ],
      "text/plain": [
       "          name        toy                 born\n",
       "count        3          2                    1\n",
       "unique       2          2                    1\n",
       "top     Alfred  Batmobile  1940-04-25 00:00:00\n",
       "freq         2          1                    1\n",
       "first      NaN        NaN  1940-04-25 00:00:00\n",
       "last       NaN        NaN  1940-04-25 00:00:00"
      ]
     },
     "execution_count": 110,
     "metadata": {},
     "output_type": "execute_result"
    }
   ],
   "source": [
    "df.describe()"
   ]
  },
  {
   "cell_type": "code",
   "execution_count": 111,
   "id": "c214bcfe",
   "metadata": {},
   "outputs": [
    {
     "data": {
      "text/plain": [
       "(3, 3)"
      ]
     },
     "execution_count": 111,
     "metadata": {},
     "output_type": "execute_result"
    }
   ],
   "source": [
    "df.shape"
   ]
  },
  {
   "cell_type": "code",
   "execution_count": 112,
   "id": "bbb3f923",
   "metadata": {},
   "outputs": [
    {
     "name": "stdout",
     "output_type": "stream",
     "text": [
      "<class 'pandas.core.frame.DataFrame'>\n",
      "RangeIndex: 3 entries, 0 to 2\n",
      "Data columns (total 3 columns):\n",
      " #   Column  Non-Null Count  Dtype         \n",
      "---  ------  --------------  -----         \n",
      " 0   name    3 non-null      object        \n",
      " 1   toy     2 non-null      object        \n",
      " 2   born    1 non-null      datetime64[ns]\n",
      "dtypes: datetime64[ns](1), object(2)\n",
      "memory usage: 200.0+ bytes\n"
     ]
    }
   ],
   "source": [
    "df.info()"
   ]
  },
  {
   "cell_type": "markdown",
   "id": "d0871084",
   "metadata": {},
   "source": [
    "## For count unique values"
   ]
  },
  {
   "cell_type": "code",
   "execution_count": 113,
   "id": "3c347080",
   "metadata": {},
   "outputs": [
    {
     "data": {
      "text/plain": [
       "Alfred    2\n",
       "Batman    1\n",
       "Name: name, dtype: int64"
      ]
     },
     "execution_count": 113,
     "metadata": {},
     "output_type": "execute_result"
    }
   ],
   "source": [
    "df['name'].value_counts(dropna=False)"
   ]
  },
  {
   "cell_type": "markdown",
   "id": "f1194ac4",
   "metadata": {},
   "source": [
    "*means na ko mat hatao mt gino*"
   ]
  },
  {
   "cell_type": "code",
   "execution_count": 114,
   "id": "18ef6455",
   "metadata": {},
   "outputs": [
    {
     "data": {
      "text/plain": [
       "NaN          1\n",
       "Batmobile    1\n",
       "Bullwhip     1\n",
       "Name: toy, dtype: int64"
      ]
     },
     "execution_count": 114,
     "metadata": {},
     "output_type": "execute_result"
    }
   ],
   "source": [
    "df['toy'].value_counts(dropna=False)"
   ]
  },
  {
   "cell_type": "code",
   "execution_count": 115,
   "id": "ef53251a",
   "metadata": {},
   "outputs": [
    {
     "data": {
      "text/plain": [
       "Batmobile    1\n",
       "Bullwhip     1\n",
       "Name: toy, dtype: int64"
      ]
     },
     "execution_count": 115,
     "metadata": {},
     "output_type": "execute_result"
    }
   ],
   "source": [
    "df['toy'].value_counts(dropna=True)"
   ]
  },
  {
   "cell_type": "code",
   "execution_count": 116,
   "id": "885c6f33",
   "metadata": {},
   "outputs": [
    {
     "data": {
      "text/html": [
       "<div>\n",
       "<style scoped>\n",
       "    .dataframe tbody tr th:only-of-type {\n",
       "        vertical-align: middle;\n",
       "    }\n",
       "\n",
       "    .dataframe tbody tr th {\n",
       "        vertical-align: top;\n",
       "    }\n",
       "\n",
       "    .dataframe thead th {\n",
       "        text-align: right;\n",
       "    }\n",
       "</style>\n",
       "<table border=\"1\" class=\"dataframe\">\n",
       "  <thead>\n",
       "    <tr style=\"text-align: right;\">\n",
       "      <th></th>\n",
       "      <th>name</th>\n",
       "      <th>toy</th>\n",
       "      <th>born</th>\n",
       "    </tr>\n",
       "  </thead>\n",
       "  <tbody>\n",
       "    <tr>\n",
       "      <th>0</th>\n",
       "      <td>True</td>\n",
       "      <td>False</td>\n",
       "      <td>False</td>\n",
       "    </tr>\n",
       "    <tr>\n",
       "      <th>1</th>\n",
       "      <td>True</td>\n",
       "      <td>True</td>\n",
       "      <td>True</td>\n",
       "    </tr>\n",
       "    <tr>\n",
       "      <th>2</th>\n",
       "      <td>True</td>\n",
       "      <td>True</td>\n",
       "      <td>False</td>\n",
       "    </tr>\n",
       "  </tbody>\n",
       "</table>\n",
       "</div>"
      ],
      "text/plain": [
       "   name    toy   born\n",
       "0  True  False  False\n",
       "1  True   True   True\n",
       "2  True   True  False"
      ]
     },
     "execution_count": 116,
     "metadata": {},
     "output_type": "execute_result"
    }
   ],
   "source": [
    "df.notnull()"
   ]
  },
  {
   "cell_type": "markdown",
   "id": "2769c59c",
   "metadata": {},
   "source": [
    "*iska mtlb jahan jahan null nahi hai wahan True hoga, or jahan null hai wahan False ho jayega*"
   ]
  },
  {
   "cell_type": "markdown",
   "id": "4d55192b",
   "metadata": {},
   "source": [
    "# Question:"
   ]
  },
  {
   "cell_type": "markdown",
   "id": "a3dad093",
   "metadata": {},
   "source": [
    "### Create a dataframe which contains only integers with 3 row and 2 columns and run following dataframe methods on them:\n",
    "df.describe()<br>\n",
    "df.mean()<br>\n",
    "df.corr()<br>\n",
    "df.count()<br>\n",
    "df.max()<br>\n",
    "df.min()<br>\n",
    "df.median()<br>\n",
    "df.std()<br>\n"
   ]
  },
  {
   "cell_type": "markdown",
   "id": "b13e5c75",
   "metadata": {},
   "source": [
    "# Answer:"
   ]
  },
  {
   "cell_type": "code",
   "execution_count": 117,
   "id": "6ea447f4",
   "metadata": {},
   "outputs": [],
   "source": [
    "# newdf2 = pd.DataFrame(np.random.rand(3, 2), index=np.arange(3))"
   ]
  },
  {
   "cell_type": "code",
   "execution_count": 118,
   "id": "c1d08c22",
   "metadata": {},
   "outputs": [],
   "source": [
    "# newdf2"
   ]
  },
  {
   "cell_type": "code",
   "execution_count": 119,
   "id": "eebd374d",
   "metadata": {},
   "outputs": [],
   "source": [
    "newdf2 = pd.DataFrame(np.random.randint(0,50,size=(3, 2)), index=np.arange(3))"
   ]
  },
  {
   "cell_type": "markdown",
   "id": "0b0a86a7",
   "metadata": {},
   "source": [
    "**Here - np.random.randint(0,100,size=(100, 4)) - creates an output array of size (100,4) with random integer elements between [0,100)**"
   ]
  },
  {
   "cell_type": "code",
   "execution_count": 120,
   "id": "976e2510",
   "metadata": {},
   "outputs": [
    {
     "data": {
      "text/html": [
       "<div>\n",
       "<style scoped>\n",
       "    .dataframe tbody tr th:only-of-type {\n",
       "        vertical-align: middle;\n",
       "    }\n",
       "\n",
       "    .dataframe tbody tr th {\n",
       "        vertical-align: top;\n",
       "    }\n",
       "\n",
       "    .dataframe thead th {\n",
       "        text-align: right;\n",
       "    }\n",
       "</style>\n",
       "<table border=\"1\" class=\"dataframe\">\n",
       "  <thead>\n",
       "    <tr style=\"text-align: right;\">\n",
       "      <th></th>\n",
       "      <th>0</th>\n",
       "      <th>1</th>\n",
       "    </tr>\n",
       "  </thead>\n",
       "  <tbody>\n",
       "    <tr>\n",
       "      <th>0</th>\n",
       "      <td>3</td>\n",
       "      <td>6</td>\n",
       "    </tr>\n",
       "    <tr>\n",
       "      <th>1</th>\n",
       "      <td>30</td>\n",
       "      <td>25</td>\n",
       "    </tr>\n",
       "    <tr>\n",
       "      <th>2</th>\n",
       "      <td>23</td>\n",
       "      <td>2</td>\n",
       "    </tr>\n",
       "  </tbody>\n",
       "</table>\n",
       "</div>"
      ],
      "text/plain": [
       "    0   1\n",
       "0   3   6\n",
       "1  30  25\n",
       "2  23   2"
      ]
     },
     "execution_count": 120,
     "metadata": {},
     "output_type": "execute_result"
    }
   ],
   "source": [
    "newdf2"
   ]
  },
  {
   "cell_type": "code",
   "execution_count": 121,
   "id": "7b4868e9",
   "metadata": {},
   "outputs": [
    {
     "data": {
      "text/html": [
       "<div>\n",
       "<style scoped>\n",
       "    .dataframe tbody tr th:only-of-type {\n",
       "        vertical-align: middle;\n",
       "    }\n",
       "\n",
       "    .dataframe tbody tr th {\n",
       "        vertical-align: top;\n",
       "    }\n",
       "\n",
       "    .dataframe thead th {\n",
       "        text-align: right;\n",
       "    }\n",
       "</style>\n",
       "<table border=\"1\" class=\"dataframe\">\n",
       "  <thead>\n",
       "    <tr style=\"text-align: right;\">\n",
       "      <th></th>\n",
       "      <th>0</th>\n",
       "      <th>1</th>\n",
       "    </tr>\n",
       "  </thead>\n",
       "  <tbody>\n",
       "    <tr>\n",
       "      <th>count</th>\n",
       "      <td>3.000000</td>\n",
       "      <td>3.000000</td>\n",
       "    </tr>\n",
       "    <tr>\n",
       "      <th>mean</th>\n",
       "      <td>18.666667</td>\n",
       "      <td>11.000000</td>\n",
       "    </tr>\n",
       "    <tr>\n",
       "      <th>std</th>\n",
       "      <td>14.011900</td>\n",
       "      <td>12.288206</td>\n",
       "    </tr>\n",
       "    <tr>\n",
       "      <th>min</th>\n",
       "      <td>3.000000</td>\n",
       "      <td>2.000000</td>\n",
       "    </tr>\n",
       "    <tr>\n",
       "      <th>25%</th>\n",
       "      <td>13.000000</td>\n",
       "      <td>4.000000</td>\n",
       "    </tr>\n",
       "    <tr>\n",
       "      <th>50%</th>\n",
       "      <td>23.000000</td>\n",
       "      <td>6.000000</td>\n",
       "    </tr>\n",
       "    <tr>\n",
       "      <th>75%</th>\n",
       "      <td>26.500000</td>\n",
       "      <td>15.500000</td>\n",
       "    </tr>\n",
       "    <tr>\n",
       "      <th>max</th>\n",
       "      <td>30.000000</td>\n",
       "      <td>25.000000</td>\n",
       "    </tr>\n",
       "  </tbody>\n",
       "</table>\n",
       "</div>"
      ],
      "text/plain": [
       "               0          1\n",
       "count   3.000000   3.000000\n",
       "mean   18.666667  11.000000\n",
       "std    14.011900  12.288206\n",
       "min     3.000000   2.000000\n",
       "25%    13.000000   4.000000\n",
       "50%    23.000000   6.000000\n",
       "75%    26.500000  15.500000\n",
       "max    30.000000  25.000000"
      ]
     },
     "execution_count": 121,
     "metadata": {},
     "output_type": "execute_result"
    }
   ],
   "source": [
    "newdf2.describe()"
   ]
  },
  {
   "cell_type": "code",
   "execution_count": 122,
   "id": "bfd94ea9",
   "metadata": {},
   "outputs": [
    {
     "data": {
      "text/plain": [
       "0    18.666667\n",
       "1    11.000000\n",
       "dtype: float64"
      ]
     },
     "execution_count": 122,
     "metadata": {},
     "output_type": "execute_result"
    }
   ],
   "source": [
    "newdf2.mean()"
   ]
  },
  {
   "cell_type": "code",
   "execution_count": 123,
   "id": "b6b48d51",
   "metadata": {},
   "outputs": [
    {
     "data": {
      "text/html": [
       "<div>\n",
       "<style scoped>\n",
       "    .dataframe tbody tr th:only-of-type {\n",
       "        vertical-align: middle;\n",
       "    }\n",
       "\n",
       "    .dataframe tbody tr th {\n",
       "        vertical-align: top;\n",
       "    }\n",
       "\n",
       "    .dataframe thead th {\n",
       "        text-align: right;\n",
       "    }\n",
       "</style>\n",
       "<table border=\"1\" class=\"dataframe\">\n",
       "  <thead>\n",
       "    <tr style=\"text-align: right;\">\n",
       "      <th></th>\n",
       "      <th>0</th>\n",
       "      <th>1</th>\n",
       "    </tr>\n",
       "  </thead>\n",
       "  <tbody>\n",
       "    <tr>\n",
       "      <th>0</th>\n",
       "      <td>1.000000</td>\n",
       "      <td>0.574976</td>\n",
       "    </tr>\n",
       "    <tr>\n",
       "      <th>1</th>\n",
       "      <td>0.574976</td>\n",
       "      <td>1.000000</td>\n",
       "    </tr>\n",
       "  </tbody>\n",
       "</table>\n",
       "</div>"
      ],
      "text/plain": [
       "          0         1\n",
       "0  1.000000  0.574976\n",
       "1  0.574976  1.000000"
      ]
     },
     "execution_count": 123,
     "metadata": {},
     "output_type": "execute_result"
    }
   ],
   "source": [
    "newdf2.corr()"
   ]
  },
  {
   "cell_type": "code",
   "execution_count": 124,
   "id": "6b85941e",
   "metadata": {},
   "outputs": [
    {
     "data": {
      "text/plain": [
       "0    3\n",
       "1    3\n",
       "dtype: int64"
      ]
     },
     "execution_count": 124,
     "metadata": {},
     "output_type": "execute_result"
    }
   ],
   "source": [
    "newdf2.count()"
   ]
  },
  {
   "cell_type": "code",
   "execution_count": 125,
   "id": "8031f04a",
   "metadata": {},
   "outputs": [
    {
     "data": {
      "text/plain": [
       "0    30\n",
       "1    25\n",
       "dtype: int32"
      ]
     },
     "execution_count": 125,
     "metadata": {},
     "output_type": "execute_result"
    }
   ],
   "source": [
    "newdf2.max()"
   ]
  },
  {
   "cell_type": "code",
   "execution_count": 126,
   "id": "75a01800",
   "metadata": {},
   "outputs": [
    {
     "data": {
      "text/plain": [
       "0    3\n",
       "1    2\n",
       "dtype: int32"
      ]
     },
     "execution_count": 126,
     "metadata": {},
     "output_type": "execute_result"
    }
   ],
   "source": [
    "newdf2.min()"
   ]
  },
  {
   "cell_type": "code",
   "execution_count": 127,
   "id": "15517ced",
   "metadata": {},
   "outputs": [
    {
     "data": {
      "text/plain": [
       "0    23.0\n",
       "1     6.0\n",
       "dtype: float64"
      ]
     },
     "execution_count": 127,
     "metadata": {},
     "output_type": "execute_result"
    }
   ],
   "source": [
    "newdf2.median()"
   ]
  },
  {
   "cell_type": "code",
   "execution_count": 128,
   "id": "11e3efe4",
   "metadata": {},
   "outputs": [
    {
     "data": {
      "text/plain": [
       "0    14.011900\n",
       "1    12.288206\n",
       "dtype: float64"
      ]
     },
     "execution_count": 128,
     "metadata": {},
     "output_type": "execute_result"
    }
   ],
   "source": [
    "newdf2.std()"
   ]
  },
  {
   "cell_type": "markdown",
   "id": "f3ed6ba4",
   "metadata": {},
   "source": [
    "# pandas.read_excel\n",
    "## 1.read"
   ]
  },
  {
   "cell_type": "code",
   "execution_count": 129,
   "id": "a95479ae",
   "metadata": {},
   "outputs": [],
   "source": [
    "data = pd.read_excel('data.xlsx')"
   ]
  },
  {
   "cell_type": "code",
   "execution_count": 130,
   "id": "1c69d46c",
   "metadata": {},
   "outputs": [
    {
     "data": {
      "text/html": [
       "<div>\n",
       "<style scoped>\n",
       "    .dataframe tbody tr th:only-of-type {\n",
       "        vertical-align: middle;\n",
       "    }\n",
       "\n",
       "    .dataframe tbody tr th {\n",
       "        vertical-align: top;\n",
       "    }\n",
       "\n",
       "    .dataframe thead th {\n",
       "        text-align: right;\n",
       "    }\n",
       "</style>\n",
       "<table border=\"1\" class=\"dataframe\">\n",
       "  <thead>\n",
       "    <tr style=\"text-align: right;\">\n",
       "      <th></th>\n",
       "      <th>train no2</th>\n",
       "      <th>speed2</th>\n",
       "      <th>city2</th>\n",
       "    </tr>\n",
       "  </thead>\n",
       "  <tbody>\n",
       "    <tr>\n",
       "      <th>0</th>\n",
       "      <td>37</td>\n",
       "      <td>92</td>\n",
       "      <td>jamshedpur</td>\n",
       "    </tr>\n",
       "    <tr>\n",
       "      <th>1</th>\n",
       "      <td>5847</td>\n",
       "      <td>100</td>\n",
       "      <td>ranchi</td>\n",
       "    </tr>\n",
       "    <tr>\n",
       "      <th>2</th>\n",
       "      <td>4455</td>\n",
       "      <td>90</td>\n",
       "      <td>musabani</td>\n",
       "    </tr>\n",
       "  </tbody>\n",
       "</table>\n",
       "</div>"
      ],
      "text/plain": [
       "   train no2  speed2       city2\n",
       "0         37      92  jamshedpur\n",
       "1       5847     100      ranchi\n",
       "2       4455      90    musabani"
      ]
     },
     "execution_count": 130,
     "metadata": {},
     "output_type": "execute_result"
    }
   ],
   "source": [
    "data"
   ]
  },
  {
   "cell_type": "markdown",
   "id": "12cc47e6",
   "metadata": {},
   "source": [
    "*to isne humari pehli wali sheet ko read kar diya* ***abb hum dushri sheet ko read karenge***"
   ]
  },
  {
   "cell_type": "code",
   "execution_count": 131,
   "id": "b84a6400",
   "metadata": {},
   "outputs": [],
   "source": [
    "data = pd.read_excel('data.xlsx', sheet_name='Sheet1')"
   ]
  },
  {
   "cell_type": "code",
   "execution_count": 132,
   "id": "7c1f8b77",
   "metadata": {},
   "outputs": [
    {
     "data": {
      "text/html": [
       "<div>\n",
       "<style scoped>\n",
       "    .dataframe tbody tr th:only-of-type {\n",
       "        vertical-align: middle;\n",
       "    }\n",
       "\n",
       "    .dataframe tbody tr th {\n",
       "        vertical-align: top;\n",
       "    }\n",
       "\n",
       "    .dataframe thead th {\n",
       "        text-align: right;\n",
       "    }\n",
       "</style>\n",
       "<table border=\"1\" class=\"dataframe\">\n",
       "  <thead>\n",
       "    <tr style=\"text-align: right;\">\n",
       "      <th></th>\n",
       "      <th>train no2</th>\n",
       "      <th>speed2</th>\n",
       "      <th>city2</th>\n",
       "    </tr>\n",
       "  </thead>\n",
       "  <tbody>\n",
       "    <tr>\n",
       "      <th>0</th>\n",
       "      <td>37</td>\n",
       "      <td>92</td>\n",
       "      <td>jamshedpur</td>\n",
       "    </tr>\n",
       "    <tr>\n",
       "      <th>1</th>\n",
       "      <td>5847</td>\n",
       "      <td>100</td>\n",
       "      <td>ranchi</td>\n",
       "    </tr>\n",
       "    <tr>\n",
       "      <th>2</th>\n",
       "      <td>4455</td>\n",
       "      <td>90</td>\n",
       "      <td>musabani</td>\n",
       "    </tr>\n",
       "  </tbody>\n",
       "</table>\n",
       "</div>"
      ],
      "text/plain": [
       "   train no2  speed2       city2\n",
       "0         37      92  jamshedpur\n",
       "1       5847     100      ranchi\n",
       "2       4455      90    musabani"
      ]
     },
     "execution_count": 132,
     "metadata": {},
     "output_type": "execute_result"
    }
   ],
   "source": [
    "data"
   ]
  },
  {
   "cell_type": "markdown",
   "id": "4fa67e9e",
   "metadata": {},
   "source": [
    "*yahan humne sheet1 ko read kiya*"
   ]
  },
  {
   "cell_type": "code",
   "execution_count": 133,
   "id": "2cb545f0",
   "metadata": {},
   "outputs": [],
   "source": [
    "# data = pd.read_excel('data.xlsx', sheet_name='Sheet2')"
   ]
  },
  {
   "cell_type": "code",
   "execution_count": 134,
   "id": "c4b75b77",
   "metadata": {},
   "outputs": [
    {
     "data": {
      "text/html": [
       "<div>\n",
       "<style scoped>\n",
       "    .dataframe tbody tr th:only-of-type {\n",
       "        vertical-align: middle;\n",
       "    }\n",
       "\n",
       "    .dataframe tbody tr th {\n",
       "        vertical-align: top;\n",
       "    }\n",
       "\n",
       "    .dataframe thead th {\n",
       "        text-align: right;\n",
       "    }\n",
       "</style>\n",
       "<table border=\"1\" class=\"dataframe\">\n",
       "  <thead>\n",
       "    <tr style=\"text-align: right;\">\n",
       "      <th></th>\n",
       "      <th>train no2</th>\n",
       "      <th>speed2</th>\n",
       "      <th>city2</th>\n",
       "    </tr>\n",
       "  </thead>\n",
       "  <tbody>\n",
       "    <tr>\n",
       "      <th>0</th>\n",
       "      <td>37</td>\n",
       "      <td>92</td>\n",
       "      <td>jamshedpur</td>\n",
       "    </tr>\n",
       "    <tr>\n",
       "      <th>1</th>\n",
       "      <td>5847</td>\n",
       "      <td>100</td>\n",
       "      <td>ranchi</td>\n",
       "    </tr>\n",
       "    <tr>\n",
       "      <th>2</th>\n",
       "      <td>4455</td>\n",
       "      <td>90</td>\n",
       "      <td>musabani</td>\n",
       "    </tr>\n",
       "  </tbody>\n",
       "</table>\n",
       "</div>"
      ],
      "text/plain": [
       "   train no2  speed2       city2\n",
       "0         37      92  jamshedpur\n",
       "1       5847     100      ranchi\n",
       "2       4455      90    musabani"
      ]
     },
     "execution_count": 134,
     "metadata": {},
     "output_type": "execute_result"
    }
   ],
   "source": [
    "data"
   ]
  },
  {
   "cell_type": "markdown",
   "id": "9c7a1f39",
   "metadata": {},
   "source": [
    "*or yahan humne sheet2 ko read kiya*<br> ***is tarah hum multiple sheet me read kar sakta hun or write bhi kar sakta hun***"
   ]
  },
  {
   "cell_type": "markdown",
   "id": "0782764d",
   "metadata": {},
   "source": [
    "## 2.write"
   ]
  },
  {
   "cell_type": "code",
   "execution_count": 135,
   "id": "5598756f",
   "metadata": {},
   "outputs": [
    {
     "data": {
      "text/html": [
       "<div>\n",
       "<style scoped>\n",
       "    .dataframe tbody tr th:only-of-type {\n",
       "        vertical-align: middle;\n",
       "    }\n",
       "\n",
       "    .dataframe tbody tr th {\n",
       "        vertical-align: top;\n",
       "    }\n",
       "\n",
       "    .dataframe thead th {\n",
       "        text-align: right;\n",
       "    }\n",
       "</style>\n",
       "<table border=\"1\" class=\"dataframe\">\n",
       "  <thead>\n",
       "    <tr style=\"text-align: right;\">\n",
       "      <th></th>\n",
       "      <th>train no2</th>\n",
       "      <th>speed2</th>\n",
       "      <th>city2</th>\n",
       "    </tr>\n",
       "  </thead>\n",
       "  <tbody>\n",
       "    <tr>\n",
       "      <th>0</th>\n",
       "      <td>37</td>\n",
       "      <td>92</td>\n",
       "      <td>jamshedpur</td>\n",
       "    </tr>\n",
       "    <tr>\n",
       "      <th>1</th>\n",
       "      <td>5847</td>\n",
       "      <td>100</td>\n",
       "      <td>ranchi</td>\n",
       "    </tr>\n",
       "    <tr>\n",
       "      <th>2</th>\n",
       "      <td>4455</td>\n",
       "      <td>90</td>\n",
       "      <td>musabani</td>\n",
       "    </tr>\n",
       "  </tbody>\n",
       "</table>\n",
       "</div>"
      ],
      "text/plain": [
       "   train no2  speed2       city2\n",
       "0         37      92  jamshedpur\n",
       "1       5847     100      ranchi\n",
       "2       4455      90    musabani"
      ]
     },
     "execution_count": 135,
     "metadata": {},
     "output_type": "execute_result"
    }
   ],
   "source": [
    "data"
   ]
  },
  {
   "cell_type": "code",
   "execution_count": 136,
   "id": "40f849db",
   "metadata": {},
   "outputs": [],
   "source": [
    "data.iloc[0,0]=37"
   ]
  },
  {
   "cell_type": "code",
   "execution_count": 137,
   "id": "c9998223",
   "metadata": {},
   "outputs": [
    {
     "data": {
      "text/html": [
       "<div>\n",
       "<style scoped>\n",
       "    .dataframe tbody tr th:only-of-type {\n",
       "        vertical-align: middle;\n",
       "    }\n",
       "\n",
       "    .dataframe tbody tr th {\n",
       "        vertical-align: top;\n",
       "    }\n",
       "\n",
       "    .dataframe thead th {\n",
       "        text-align: right;\n",
       "    }\n",
       "</style>\n",
       "<table border=\"1\" class=\"dataframe\">\n",
       "  <thead>\n",
       "    <tr style=\"text-align: right;\">\n",
       "      <th></th>\n",
       "      <th>train no2</th>\n",
       "      <th>speed2</th>\n",
       "      <th>city2</th>\n",
       "    </tr>\n",
       "  </thead>\n",
       "  <tbody>\n",
       "    <tr>\n",
       "      <th>0</th>\n",
       "      <td>37</td>\n",
       "      <td>92</td>\n",
       "      <td>jamshedpur</td>\n",
       "    </tr>\n",
       "    <tr>\n",
       "      <th>1</th>\n",
       "      <td>5847</td>\n",
       "      <td>100</td>\n",
       "      <td>ranchi</td>\n",
       "    </tr>\n",
       "    <tr>\n",
       "      <th>2</th>\n",
       "      <td>4455</td>\n",
       "      <td>90</td>\n",
       "      <td>musabani</td>\n",
       "    </tr>\n",
       "  </tbody>\n",
       "</table>\n",
       "</div>"
      ],
      "text/plain": [
       "   train no2  speed2       city2\n",
       "0         37      92  jamshedpur\n",
       "1       5847     100      ranchi\n",
       "2       4455      90    musabani"
      ]
     },
     "execution_count": 137,
     "metadata": {},
     "output_type": "execute_result"
    }
   ],
   "source": [
    "data"
   ]
  },
  {
   "cell_type": "code",
   "execution_count": 138,
   "id": "d660b7ac",
   "metadata": {},
   "outputs": [],
   "source": [
    "data.to_excel('data.xlsx', sheet_name='Sheet1')\n",
    "# data2.to_excel('data.xlsx', sheet_name='Sheet2')"
   ]
  },
  {
   "cell_type": "markdown",
   "id": "eb8ce117",
   "metadata": {},
   "source": [
    "***isne write to kar diya lekin jo humare sheet 2 ko delete kar diya isne to humne isko or ache se dekhne ka zarrorat hai***<br>**note: yahan par humare sheet ke name ka S capital hai to humne isko capital liya hai apka name jaisa ho waisa hi le aap**"
   ]
  },
  {
   "cell_type": "markdown",
   "id": "6749a94e",
   "metadata": {},
   "source": [
    "# Note:\n",
    "***google search kare or official documentation dekhe pandas ka***<br>\n",
    "**search like = \"pandas.ExcelWriter\"**"
   ]
  },
  {
   "cell_type": "markdown",
   "id": "48785b55",
   "metadata": {},
   "source": [
    "# Thank you"
   ]
  }
 ],
 "metadata": {
  "kernelspec": {
   "display_name": "Python 3 (ipykernel)",
   "language": "python",
   "name": "python3"
  },
  "language_info": {
   "codemirror_mode": {
    "name": "ipython",
    "version": 3
   },
   "file_extension": ".py",
   "mimetype": "text/x-python",
   "name": "python",
   "nbconvert_exporter": "python",
   "pygments_lexer": "ipython3",
   "version": "3.9.1"
  }
 },
 "nbformat": 4,
 "nbformat_minor": 5
}
